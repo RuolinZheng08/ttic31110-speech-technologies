{
 "cells": [
  {
   "cell_type": "code",
   "execution_count": 1,
   "metadata": {},
   "outputs": [],
   "source": [
    "import numpy as np\n",
    "from scipy.special import logsumexp\n",
    "from collections import deque\n",
    "np.random.seed(666)"
   ]
  },
  {
   "cell_type": "code",
   "execution_count": 2,
   "metadata": {},
   "outputs": [],
   "source": [
    "def forward(model, seq):\n",
    "    pi, A, B = model\n",
    "    num_states = A.shape[0]\n",
    "    T = seq.shape[0]\n",
    "    alpha = np.empty((T, num_states))\n",
    "    alpha[0] = pi * B[seq[0]]\n",
    "    for t in range(1, T):\n",
    "        alpha[t] = alpha[t - 1] @ A * B[seq[t]]\n",
    "    return alpha\n",
    "\n",
    "def backward(model, seq):\n",
    "    pi, A, B = model\n",
    "    num_states = A.shape[0]\n",
    "    T = seq.shape[0]\n",
    "    beta = np.empty((T, num_states))\n",
    "    beta[T - 1] = 1\n",
    "    for t in range(T - 2, -1, -1):\n",
    "        beta[t] = A * B[seq[t + 1]] @ beta[t + 1]\n",
    "    return beta\n",
    "\n",
    "def alpha_prob(alpha):\n",
    "    return sum(alpha[-1])\n",
    "\n",
    "def beta_prob(pi, B, beta, seq):\n",
    "    return sum(pi * B[seq[0]] * beta[0])"
   ]
  },
  {
   "cell_type": "code",
   "execution_count": 3,
   "metadata": {
    "scrolled": true
   },
   "outputs": [
    {
     "data": {
      "text/plain": [
       "(0.054768480000000015, 0.054768480000000015)"
      ]
     },
     "execution_count": 3,
     "metadata": {},
     "output_type": "execute_result"
    }
   ],
   "source": [
    "pi = np.array([0.4, 0.3, 0.3])\n",
    "# A[i, j] from state i+1 to j+1\n",
    "A = np.array([\n",
    "    [0.8, 0.2, 0. ],\n",
    "    [0.3, 0.4, 0.3],\n",
    "    [0. , 0.3, 0.7]])\n",
    "# B[o, i] emitting o at state i+1\n",
    "B = np.array([\n",
    "    [0.9, 0.5, 0.2],\n",
    "    [0.1, 0.5, 0.8]])\n",
    "\n",
    "seq = np.array([0, 0, 1, 0])\n",
    "alpha = forward((pi, A, B), seq)\n",
    "beta = backward((pi, A, B), seq)\n",
    "alpha_prob(alpha), beta_prob(pi, B, beta, seq)"
   ]
  },
  {
   "cell_type": "code",
   "execution_count": 4,
   "metadata": {},
   "outputs": [],
   "source": [
    "def log_forward(model, seq):\n",
    "    log_pi, log_A, log_B = model\n",
    "    num_states = log_A.shape[0]\n",
    "    T = seq.shape[0]\n",
    "    log_alpha = np.empty((T, num_states))\n",
    "    log_alpha[0] = log_pi + log_B[seq[0]]\n",
    "    for t in range(1, T):\n",
    "        log_alpha[t] = logsumexp(log_alpha[t - 1] + log_A.T, axis=1) + log_B[seq[t]]\n",
    "    return log_alpha\n",
    "\n",
    "def log_backward(model, seq):\n",
    "    log_pi, log_A, log_B = model\n",
    "    num_states = log_A.shape[0]\n",
    "    T = seq.shape[0]\n",
    "    log_beta = np.empty((T, num_states))\n",
    "    log_beta[T - 1] = 0 # log(1)\n",
    "    for t in range(T - 2, -1, -1):\n",
    "        log_beta[t] = logsumexp(log_A + log_B[seq[t + 1]] + log_beta[t + 1], axis=1)\n",
    "    return log_beta\n",
    "\n",
    "def log_alpha_prob(log_alpha):\n",
    "    return logsumexp(log_alpha[-1])\n",
    "\n",
    "def log_beta_prob(log_pi, log_B, log_beta, seq):\n",
    "    return logsumexp(log_pi + log_B[seq[0]] + log_beta[0])"
   ]
  },
  {
   "cell_type": "code",
   "execution_count": 5,
   "metadata": {},
   "outputs": [
    {
     "name": "stderr",
     "output_type": "stream",
     "text": [
      "<ipython-input-5-2578c487f9ef>:2: RuntimeWarning: divide by zero encountered in log\n",
      "  log_A = np.log(A)\n"
     ]
    },
    {
     "data": {
      "text/plain": [
       "(-2.90464043299082, -2.9046404329908198, -2.9046404329908198)"
      ]
     },
     "execution_count": 5,
     "metadata": {},
     "output_type": "execute_result"
    }
   ],
   "source": [
    "log_pi = np.log(pi)\n",
    "log_A = np.log(A)\n",
    "log_B = np.log(B)\n",
    "log_alpha = log_forward((log_pi, log_A, log_B), seq)\n",
    "log_beta = log_backward((log_pi, log_A, log_B), seq)\n",
    "log_alpha_prob(log_alpha), log_beta_prob(log_pi, log_B, log_beta, seq), \\\n",
    "np.log(alpha_prob(alpha))"
   ]
  },
  {
   "cell_type": "code",
   "execution_count": 6,
   "metadata": {},
   "outputs": [],
   "source": [
    "# transposed\n",
    "def log_forward_trans(model, seq):\n",
    "    log_pi, log_A, log_B = model\n",
    "    num_states = log_A.shape[0]\n",
    "    T = seq.shape[0]\n",
    "    log_alpha = np.empty((num_states, T))\n",
    "    log_alpha[:, 0] = log_pi + log_B[seq[0]]\n",
    "    for t in range(1, T):\n",
    "        log_alpha[:, t] = logsumexp(log_alpha[:, t - 1] + log_A.T, axis=1) + log_B[seq[t]]\n",
    "    return log_alpha\n",
    "\n",
    "def log_backward_trans(model, seq):\n",
    "    log_pi, log_A, log_B = model\n",
    "    num_states = log_A.shape[0]\n",
    "    T = seq.shape[0]\n",
    "    log_beta = np.empty((num_states, T))\n",
    "    log_beta[:, T - 1] = 0 # log(1)\n",
    "    for t in range(T - 2, -1, -1):\n",
    "        log_beta[:, t] = logsumexp(log_A + log_B[seq[t + 1]] + log_beta[:, t + 1], axis=1)\n",
    "    return log_beta\n",
    "\n",
    "def log_alpha_prob_trans(log_alpha):\n",
    "    return logsumexp(log_alpha[:, -1])\n",
    "\n",
    "def log_beta_prob_trans(log_pi, log_B, log_beta, seq):\n",
    "    return logsumexp(log_pi + log_B[seq[0]] + log_beta[:, 0])"
   ]
  },
  {
   "cell_type": "code",
   "execution_count": 7,
   "metadata": {},
   "outputs": [
    {
     "data": {
      "text/plain": [
       "(-2.90464043299082, -2.9046404329908198, -2.9046404329908198)"
      ]
     },
     "execution_count": 7,
     "metadata": {},
     "output_type": "execute_result"
    }
   ],
   "source": [
    "log_alpha_t = log_forward_trans((log_pi, log_A, log_B), seq)\n",
    "log_beta_t = log_backward_trans((log_pi, log_A, log_B), seq)\n",
    "log_alpha_prob_trans(log_alpha_t), log_beta_prob_trans(log_pi, log_B, log_beta_t, seq), \\\n",
    "np.log(alpha_prob(alpha))"
   ]
  },
  {
   "cell_type": "code",
   "execution_count": 9,
   "metadata": {},
   "outputs": [],
   "source": [
    "def viterbi(model, seq):\n",
    "    pi, A, B = model\n",
    "    num_states = A.shape[0]\n",
    "    T = seq.shape[0]\n",
    "    delta = np.empty((T, num_states))\n",
    "    psi = np.empty((T, num_states), dtype='int')\n",
    "    psi[0] = np.arange(num_states) # best state to come from initially, aka. pi\n",
    "    delta[0] = pi * B[seq[0]]\n",
    "    for t in range(1, T):\n",
    "        temp = delta[t - 1][:, None] * A\n",
    "        psi[t] = temp.argmax(axis=0)\n",
    "        delta[t] = temp.max(axis=0) * B[seq[t]]\n",
    "#     print(delta, psi, sep='\\n\\n')\n",
    "    best = np.argmax(delta[-1])\n",
    "    path = deque([best])\n",
    "    for t in range(T - 2, -1, -1):\n",
    "        best = psi[t, best]\n",
    "        path.appendleft(best)\n",
    "    return delta, psi, path"
   ]
  },
  {
   "cell_type": "code",
   "execution_count": 53,
   "metadata": {},
   "outputs": [],
   "source": [
    "# TODO\n",
    "def viterbi_trans(model, seq):\n",
    "    pi, A, B = model\n",
    "    num_states = A.shape[0]\n",
    "    T = seq.shape[0]\n",
    "    delta = np.empty((num_states, T))\n",
    "    psi = np.empty((T, num_states), dtype='int')\n",
    "    psi[0] = np.arange(num_states) # best state to come from initially, aka. pi\n",
    "    delta[:, 0] = pi * B[seq[0]]\n",
    "    for t in range(1, T):\n",
    "        temp = delta[:, t - 1][:, None] * A\n",
    "        psi[t] = temp.argmax(axis=0)\n",
    "        delta[:, t] = temp.max(axis=0) * B[seq[t]]\n",
    "#     print(delta, psi, sep='\\n\\n')\n",
    "    best = np.argmax(delta[:, -1])\n",
    "    path = deque([best])\n",
    "    for t in range(T - 2, -1, -1):\n",
    "        best = psi[t, best]\n",
    "        path.appendleft(best)\n",
    "    return delta, psi, path"
   ]
  },
  {
   "cell_type": "code",
   "execution_count": 54,
   "metadata": {
    "scrolled": false
   },
   "outputs": [],
   "source": [
    "delta1, _, _ = viterbi((pi, A, B), seq)\n",
    "delta2, _, _ = viterbi_trans((pi, A, B), seq)"
   ]
  },
  {
   "cell_type": "code",
   "execution_count": 56,
   "metadata": {},
   "outputs": [
    {
     "data": {
      "text/plain": [
       "True"
      ]
     },
     "execution_count": 56,
     "metadata": {},
     "output_type": "execute_result"
    }
   ],
   "source": [
    "np.allclose(delta1.T, delta2)"
   ]
  },
  {
   "cell_type": "code",
   "execution_count": 57,
   "metadata": {},
   "outputs": [],
   "source": [
    "def viterbi_log(model, seq):\n",
    "    log_pi, log_A, log_B = model\n",
    "    num_states = log_A.shape[0]\n",
    "    T = seq.shape[0]\n",
    "    log_delta = np.empty((T, num_states))\n",
    "    psi = np.empty((T, num_states), dtype='int')\n",
    "    psi[0] = np.arange(num_states) # best state to come from initially, aka. pi\n",
    "    log_delta[0] = log_pi + log_B[seq[0]]\n",
    "    for t in range(1, T):\n",
    "        temp = log_delta[t - 1][:, None] + log_A\n",
    "        psi[t] = temp.argmax(axis=0)\n",
    "        log_delta[t] = temp.max(axis=0) + log_B[seq[t]]\n",
    "#     print(log_delta, psi, sep='\\n\\n')\n",
    "    \n",
    "    q = np.empty(T, dtype='int') # best path\n",
    "    q[T - 1] = np.argmax(log_delta[-1])\n",
    "    for t in range(T - 2, -1, -1):\n",
    "        q[t] = psi[t, q[t + 1]]\n",
    "    return log_delta, psi, q"
   ]
  },
  {
   "cell_type": "code",
   "execution_count": 61,
   "metadata": {},
   "outputs": [],
   "source": [
    "def viterbi_log_trans(model, seq):\n",
    "    log_pi, log_A, log_B = model\n",
    "    num_states = log_A.shape[0]\n",
    "    T = seq.shape[0]\n",
    "    log_delta = np.empty((num_states, T))\n",
    "    psi = np.empty((T, num_states), dtype='int')\n",
    "    psi[0] = np.arange(num_states) # best state to come from initially, aka. pi\n",
    "    log_delta[:, 0] = log_pi + log_B[seq[0]]\n",
    "    for t in range(1, T):\n",
    "        temp = log_delta[:, t - 1][:, None] + log_A\n",
    "        psi[t] = temp.argmax(axis=0)\n",
    "        log_delta[:, t] = temp.max(axis=0) + log_B[seq[t]]\n",
    "#     print(log_delta, psi, sep='\\n\\n')\n",
    "    \n",
    "    q = np.empty(T, dtype='int') # best path\n",
    "    q[T - 1] = np.argmax(log_delta[:, -1])\n",
    "    for t in range(T - 2, -1, -1):\n",
    "        q[t] = psi[t, q[t + 1]]\n",
    "    return log_delta, psi, q"
   ]
  },
  {
   "cell_type": "code",
   "execution_count": 62,
   "metadata": {},
   "outputs": [],
   "source": [
    "delta3, _, _ = viterbi_log((log_pi, log_A, log_B), seq)\n",
    "delta4, _, _ = viterbi_log_trans((log_pi, log_A, log_B), seq)"
   ]
  },
  {
   "cell_type": "code",
   "execution_count": 64,
   "metadata": {},
   "outputs": [
    {
     "data": {
      "text/plain": [
       "(True, True)"
      ]
     },
     "execution_count": 64,
     "metadata": {},
     "output_type": "execute_result"
    }
   ],
   "source": [
    "np.allclose(np.log(delta2).T, delta3),\\\n",
    "np.allclose(delta3.T, delta4)"
   ]
  },
  {
   "cell_type": "code",
   "execution_count": 17,
   "metadata": {},
   "outputs": [],
   "source": [
    "# TODO: viterbi log transposed"
   ]
  },
  {
   "cell_type": "code",
   "execution_count": 32,
   "metadata": {},
   "outputs": [],
   "source": [
    "test = np.random.randint(0, 2, 100)"
   ]
  },
  {
   "cell_type": "code",
   "execution_count": 19,
   "metadata": {
    "scrolled": true
   },
   "outputs": [
    {
     "data": {
      "text/plain": [
       "True"
      ]
     },
     "execution_count": 19,
     "metadata": {},
     "output_type": "execute_result"
    }
   ],
   "source": [
    "np.all(viterbi((pi, A, B), test) == viterbi_log((log_pi, log_A, log_B), test))"
   ]
  },
  {
   "cell_type": "code",
   "execution_count": 20,
   "metadata": {},
   "outputs": [
    {
     "data": {
      "text/plain": [
       "False"
      ]
     },
     "execution_count": 20,
     "metadata": {},
     "output_type": "execute_result"
    }
   ],
   "source": [
    "np.all(viterbi((pi, A, B), test) == viterbi_log_trans((log_pi, log_A, log_B), test))"
   ]
  },
  {
   "cell_type": "code",
   "execution_count": 14,
   "metadata": {},
   "outputs": [],
   "source": [
    "def compute_xi(model, seq):\n",
    "    pi, A, B = model\n",
    "    num_states = A.shape[0]\n",
    "    T = seq.shape[0]\n",
    "    \n",
    "    alpha = forward(model, seq)\n",
    "    beta = backward(model, seq)\n",
    "    alpha_p = alpha_prob(alpha)\n",
    "    \n",
    "    xi = np.empty((T - 1, num_states, num_states))\n",
    "    for t in range(T - 1):\n",
    "        xi[t] = np.outer(alpha[t], beta[t + 1]) * A * B[seq[t + 1]]\n",
    "    xi /= alpha_p\n",
    "    return xi"
   ]
  },
  {
   "cell_type": "code",
   "execution_count": 15,
   "metadata": {
    "scrolled": false
   },
   "outputs": [
    {
     "data": {
      "text/plain": [
       "array([[[0.56129219, 0.13159394, 0.        ],\n",
       "        [0.0877019 , 0.10966162, 0.03975097],\n",
       "        [0.        , 0.03289848, 0.0371009 ]],\n",
       "\n",
       "       [[0.35897144, 0.29002266, 0.        ],\n",
       "        [0.03368726, 0.14515648, 0.0953103 ],\n",
       "        [0.        , 0.02525723, 0.05159464]],\n",
       "\n",
       "       [[0.34477349, 0.04788521, 0.        ],\n",
       "        [0.23456192, 0.17374957, 0.05212487],\n",
       "        [0.        , 0.07598531, 0.07091962]]])"
      ]
     },
     "execution_count": 15,
     "metadata": {},
     "output_type": "execute_result"
    }
   ],
   "source": [
    "xi = compute_xi((pi, A, B), seq)\n",
    "xi"
   ]
  },
  {
   "cell_type": "code",
   "execution_count": 18,
   "metadata": {},
   "outputs": [
    {
     "data": {
      "text/plain": [
       "array([[0.34477349, 0.04788521, 0.        ],\n",
       "       [0.23456192, 0.17374957, 0.05212487],\n",
       "       [0.        , 0.07598531, 0.07091962]])"
      ]
     },
     "execution_count": 18,
     "metadata": {},
     "output_type": "execute_result"
    }
   ],
   "source": [
    "t = 2\n",
    "np.outer(alpha[t], beta[t + 1]) * A * B[seq[t + 1]] / alpha_prob(alpha)"
   ]
  },
  {
   "cell_type": "code",
   "execution_count": 20,
   "metadata": {
    "scrolled": true
   },
   "outputs": [
    {
     "name": "stderr",
     "output_type": "stream",
     "text": [
      "<ipython-input-20-5912a28820c1>:1: RuntimeWarning: divide by zero encountered in log\n",
      "  xi[-1], np.log(xi[-1])\n"
     ]
    },
    {
     "data": {
      "text/plain": [
       "(array([[0.34477349, 0.04788521, 0.        ],\n",
       "        [0.23456192, 0.17374957, 0.05212487],\n",
       "        [0.        , 0.07598531, 0.07091962]]),\n",
       " array([[-1.06486763, -3.03894865,        -inf],\n",
       "        [-1.45003566, -1.75014025, -2.95411306],\n",
       "        [       -inf, -2.57721523, -2.6462081 ]]))"
      ]
     },
     "execution_count": 20,
     "metadata": {},
     "output_type": "execute_result"
    }
   ],
   "source": [
    "xi[-1], np.log(xi[-1])"
   ]
  },
  {
   "cell_type": "code",
   "execution_count": 21,
   "metadata": {},
   "outputs": [
    {
     "data": {
      "text/plain": [
       "array([[0.01888272, 0.0026226 , 0.        ],\n",
       "       [0.0128466 , 0.009516  , 0.0028548 ],\n",
       "       [0.        , 0.0041616 , 0.00388416]])"
      ]
     },
     "execution_count": 21,
     "metadata": {},
     "output_type": "execute_result"
    }
   ],
   "source": [
    "np.outer(alpha[t], beta[t + 1]) * A * B[seq[t + 1]]"
   ]
  },
  {
   "cell_type": "code",
   "execution_count": 25,
   "metadata": {
    "scrolled": true
   },
   "outputs": [
    {
     "name": "stderr",
     "output_type": "stream",
     "text": [
      "<ipython-input-25-ad06f4417c41>:1: RuntimeWarning: divide by zero encountered in log\n",
      "  np.allclose(np.log(A * B[seq[t + 1]]), log_A + log_B[seq[t + 1]])\n"
     ]
    },
    {
     "data": {
      "text/plain": [
       "True"
      ]
     },
     "execution_count": 25,
     "metadata": {},
     "output_type": "execute_result"
    }
   ],
   "source": [
    "np.allclose(np.log(A * B[seq[t + 1]]), log_A + log_B[seq[t + 1]])"
   ]
  },
  {
   "cell_type": "code",
   "execution_count": 36,
   "metadata": {
    "scrolled": true
   },
   "outputs": [
    {
     "name": "stderr",
     "output_type": "stream",
     "text": [
      "<ipython-input-36-7810b8c73972>:3: RuntimeWarning: divide by zero encountered in log\n",
      "  np.log(np.outer(alpha[t], beta[t + 1]) * A * B[seq[t + 1]])\n"
     ]
    },
    {
     "data": {
      "text/plain": [
       "True"
      ]
     },
     "execution_count": 36,
     "metadata": {},
     "output_type": "execute_result"
    }
   ],
   "source": [
    "np.allclose(\n",
    "    np.log(np.outer(alpha[t], beta[t + 1])) + log_A + log_B[seq[t + 1]],\n",
    "    np.log(np.outer(alpha[t], beta[t + 1]) * A * B[seq[t + 1]])\n",
    ")"
   ]
  },
  {
   "cell_type": "code",
   "execution_count": 59,
   "metadata": {},
   "outputs": [
    {
     "data": {
      "text/plain": [
       "True"
      ]
     },
     "execution_count": 59,
     "metadata": {},
     "output_type": "execute_result"
    }
   ],
   "source": [
    "# what is equivalent to np.log(np.outer(alpha[t], beta[t + 1]))?\n",
    "np.allclose(\n",
    "    np.log(np.outer(alpha[t], beta[t + 1])),\n",
    "    log_alpha[t][:, None] + log_beta[t+1][None:, ]\n",
    ")"
   ]
  },
  {
   "cell_type": "code",
   "execution_count": 63,
   "metadata": {},
   "outputs": [
    {
     "name": "stderr",
     "output_type": "stream",
     "text": [
      "<ipython-input-63-248b7e1a6ce3>:3: RuntimeWarning: divide by zero encountered in log\n",
      "  np.log(np.outer(alpha[t], beta[t + 1]) * A * B[seq[t + 1]])\n"
     ]
    },
    {
     "data": {
      "text/plain": [
       "True"
      ]
     },
     "execution_count": 63,
     "metadata": {},
     "output_type": "execute_result"
    }
   ],
   "source": [
    "np.allclose(\n",
    "    log_alpha[t][:, None] + log_beta[t + 1] + log_A + log_B[seq[t + 1]],\n",
    "    np.log(np.outer(alpha[t], beta[t + 1]) * A * B[seq[t + 1]])\n",
    ")"
   ]
  },
  {
   "cell_type": "code",
   "execution_count": 39,
   "metadata": {},
   "outputs": [],
   "source": [
    "v1 = np.array([1, 2])\n",
    "v2 = np.array([3, 4])\n",
    "np.outer(v1, v2) == v1[:, None] @ v2[None, :] "
   ]
  },
  {
   "cell_type": "code",
   "execution_count": 67,
   "metadata": {},
   "outputs": [],
   "source": [
    "def log_compute_xi(model, seq):\n",
    "    pi, A, B = model\n",
    "    num_states = A.shape[0]\n",
    "    T = seq.shape[0]\n",
    "    \n",
    "    log_alpha = log_forward(model, seq)\n",
    "    log_beta = log_backward(model, seq)\n",
    "    log_alpha_p = log_alpha_prob(log_alpha)\n",
    "    \n",
    "    xi = np.empty((T - 1, num_states, num_states))\n",
    "    for t in range(T - 1):\n",
    "        xi[t] = log_alpha[t][:, None] + log_beta[t + 1] + log_A + log_B[seq[t + 1]]\n",
    "    xi -= log_alpha_p\n",
    "    return xi"
   ]
  },
  {
   "cell_type": "code",
   "execution_count": 70,
   "metadata": {},
   "outputs": [
    {
     "name": "stderr",
     "output_type": "stream",
     "text": [
      "<ipython-input-70-fd5fa0b151fc>:3: RuntimeWarning: divide by zero encountered in log\n",
      "  np.log(xi)\n"
     ]
    },
    {
     "data": {
      "text/plain": [
       "True"
      ]
     },
     "execution_count": 70,
     "metadata": {},
     "output_type": "execute_result"
    }
   ],
   "source": [
    "np.allclose(\n",
    "    log_compute_xi((log_pi, log_A, log_B), seq),\n",
    "    np.log(xi)\n",
    ")"
   ]
  }
 ],
 "metadata": {
  "kernelspec": {
   "display_name": "Python 3",
   "language": "python",
   "name": "python3"
  },
  "language_info": {
   "codemirror_mode": {
    "name": "ipython",
    "version": 3
   },
   "file_extension": ".py",
   "mimetype": "text/x-python",
   "name": "python",
   "nbconvert_exporter": "python",
   "pygments_lexer": "ipython3",
   "version": "3.8.0"
  }
 },
 "nbformat": 4,
 "nbformat_minor": 2
}
