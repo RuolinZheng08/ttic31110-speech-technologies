{
 "cells": [
  {
   "cell_type": "code",
   "execution_count": 1,
   "metadata": {},
   "outputs": [],
   "source": [
    "from scipy.stats import multivariate_normal\n",
    "from scipy.special import logsumexp\n",
    "from glob import glob\n",
    "import soundfile as sf\n",
    "from os import path\n",
    "import numpy as np\n",
    "np.random.seed(seed=273)"
   ]
  },
  {
   "cell_type": "code",
   "execution_count": 17,
   "metadata": {},
   "outputs": [],
   "source": [
    "class GaussianHMM(object):\n",
    "    def __init__(self, n_states, n_dims):\n",
    "        self.n_states = n_states\n",
    "        self.n_dims = n_dims\n",
    "\n",
    "    def init_gaussian_params(self, X):\n",
    "        X_concat = np.concatenate(X)\n",
    "        self.mu = np.zeros((self.n_states, self.n_dims))\n",
    "        self.sigma = np.zeros((self.n_states, self.n_dims))\n",
    "        for s in range(self.n_states):\n",
    "            X_subset = X_concat[np.random.choice(len(X_concat), size=2, replace=False)]\n",
    "            self.mu[s] = X_subset.mean(axis=0)\n",
    "            self.sigma[s] = X_subset.var(axis=0)\n",
    "\n",
    "    def init_hmm_params(self):\n",
    "        self.pi = np.zeros(self.n_states)\n",
    "        self.pi[0] = 1.\n",
    "        self.A = np.zeros((self.n_states, self.n_states))\n",
    "        for s in range(self.n_states - 1):\n",
    "            self.A[s, s:s + 2] = .5\n",
    "        self.A[-1, -1] = 1.\n",
    "\n",
    "    def get_emissions(self, x):\n",
    "        T, _ = x.shape\n",
    "        log_B = np.zeros((self.n_states, T))\n",
    "        for s in range(self.n_states):\n",
    "            log_B[s] = multivariate_normal.logpdf(x, mean=self.mu[s], cov=np.diag(self.sigma[s]))\n",
    "        return log_B\n",
    "\n",
    "    def log_forward(self, log_pi, log_A, log_B):\n",
    "        _, T = log_B.shape\n",
    "        log_alpha = np.zeros(log_B.shape)\n",
    "        for t in range(T):\n",
    "            if t == 0:\n",
    "                log_alpha[:, t] = log_pi + log_B[:, 0]\n",
    "                #TODO: log alpha to time t\n",
    "            else:\n",
    "                log_alpha[:, t] = logsumexp(log_alpha[:, t - 1] + log_A, axis=1) + log_B[:, t]\n",
    "                #TODO: log alpha to time t\n",
    "        return log_alpha\n",
    "\n",
    "    def log_backward(self, log_A, log_B):\n",
    "        _, T = log_B.shape\n",
    "        log_beta = np.zeros(log_B.shape)\n",
    "        for t in range(T - 1, -1, -1):\n",
    "            if t == T - 1:\n",
    "                log_beta[:, t] = 0 # log(1) = 0\n",
    "                #TODO: log beta from time t\n",
    "            else:\n",
    "                log_beta[:, t] = logsumexp(log_A + log_B[:, t + 1] + log_beta[:, t + 1], axis=1)\n",
    "                #TODO: log beta from time t\n",
    "        return log_beta\n",
    "    \n",
    "    def forward(self, B):\n",
    "        _, T = B.shape\n",
    "        alpha = np.empty((self.n_states, T))\n",
    "        alpha[:, 0] = self.pi * B[:, 0]\n",
    "        for t in range(1, T):\n",
    "            alpha[:, t] = alpha[:, t - 1] @ self.A * B[:, t]\n",
    "        return alpha\n",
    "    \n",
    "    def backward(self, B):\n",
    "        _, T = B.shape\n",
    "        beta = np.empty((self.n_states, T))\n",
    "        beta[:, T - 1] = 1\n",
    "        for t in range(T - 2, -1, -1):\n",
    "            beta[:, t] = self.A * B[:, t + 1] @ beta[:, t + 1]\n",
    "        return beta\n",
    "    \n",
    "    def score(self, x):\n",
    "        T = len(x)\n",
    "        log_B = self.get_emissions(x) # emission log probabilities\n",
    "        B = np.exp(log_B)\n",
    "        \n",
    "        alpha = self.forward(B)\n",
    "        beta = self.backward(B)\n",
    "        prob = sum(alpha[:, -1])\n",
    "        \n",
    "        gamma = alpha * beta / prob\n",
    "        xi = np.empty((T - 1, self.n_states, self.n_states))\n",
    "        for t in range(T - 1):\n",
    "            xi[t] = np.outer(alpha[:, t], beta[:, t + 1]) * self.A * B[:, t + 1]\n",
    "        xi /= prob\n",
    "        \n",
    "        xi = xi.sum(axis=0) # sum over time\n",
    "        xi /= xi.sum(axis=1, keepdims=True).clip(1e-1)\n",
    "        \n",
    "        return prob, alpha, beta, gamma, xi\n",
    "\n",
    "    \n",
    "    def log_score(self, x):\n",
    "        T = len(x)\n",
    "\n",
    "        log_pi = np.log(self.pi) # starting log probabilities\n",
    "        log_A = np.log(self.A) # transition log probabilities\n",
    "        log_B = self.get_emissions(x) # emission log probabilities\n",
    "        \n",
    "        # XXX: my forward algo needs log_A.T\n",
    "        log_alpha = self.log_forward(log_pi, log_A.T, log_B)\n",
    "        log_beta = self.log_backward(log_A, log_B)\n",
    "\n",
    "        log_prob = logsumexp(log_alpha[:, -1])\n",
    "        #TODO: log probability of observations\n",
    "#         debug = logsumexp(log_pi + log_B[:, 0] + log_beta[:, 0])\n",
    "#         assert np.isclose(log_prob, debug)\n",
    "\n",
    "        gamma = np.exp(log_alpha + log_beta - log_prob)\n",
    "        #TODO: posteriors\n",
    "\n",
    "        xi = np.zeros((T - 1, self.n_states, self.n_states))\n",
    "        for t in range(T - 1):\n",
    "            xi[t] = log_alpha[:, t][:, None] + log_beta[:, t + 1] + log_A + log_B[:, t + 1]\n",
    "            #TODO: transition prob i -> j for each t\n",
    "        xi -= log_prob\n",
    "        xi = np.exp(xi)\n",
    "        \n",
    "        xi = xi.sum(axis=0) # sum over time\n",
    "        xi /= xi.sum(axis=1, keepdims=True).clip(1e-1) # normalize by state probabilities (sum transitions over j)\n",
    "\n",
    "        return log_prob, log_alpha, log_beta, gamma, xi"
   ]
  },
  {
   "cell_type": "code",
   "execution_count": 18,
   "metadata": {},
   "outputs": [],
   "source": [
    "def alpha_prob(alpha):\n",
    "    return sum(alpha[:, -1])\n",
    "\n",
    "def beta_prob(pi, B, beta):\n",
    "    return sum(pi * B[:, 0] * beta[:, 0])\n",
    "\n",
    "def log_alpha_prob(log_alpha):\n",
    "    return logsumexp(log_alpha[:, -1])\n",
    "\n",
    "def log_beta_prob(log_pi, log_B, log_beta):\n",
    "    return logsumexp(log_pi + log_B[:, 0] + log_beta[:, 0])"
   ]
  },
  {
   "cell_type": "code",
   "execution_count": 23,
   "metadata": {
    "scrolled": false
   },
   "outputs": [
    {
     "name": "stderr",
     "output_type": "stream",
     "text": [
      "<ipython-input-23-2198d3cbf15d>:7: RuntimeWarning: divide by zero encountered in log\n",
      "  log_pi = np.log(gmm.pi) # starting log probabilities\n",
      "<ipython-input-23-2198d3cbf15d>:8: RuntimeWarning: divide by zero encountered in log\n",
      "  log_A = np.log(gmm.A) # transition log probabilities\n"
     ]
    }
   ],
   "source": [
    "X = np.random.random((4, 4))\n",
    "gmm = GaussianHMM(3, 2)\n",
    "gmm.init_gaussian_params(X)\n",
    "gmm.init_hmm_params()\n",
    "x = X[0][:, None]\n",
    "T = len(x)\n",
    "log_pi = np.log(gmm.pi) # starting log probabilities\n",
    "log_A = np.log(gmm.A) # transition log probabilities\n",
    "log_B = gmm.get_emissions(x) # emission log probabilities\n",
    "B = np.exp(log_B)"
   ]
  },
  {
   "cell_type": "code",
   "execution_count": 24,
   "metadata": {
    "scrolled": true
   },
   "outputs": [
    {
     "name": "stderr",
     "output_type": "stream",
     "text": [
      "<ipython-input-17-9e7a3fc5354a>:94: RuntimeWarning: divide by zero encountered in log\n",
      "  log_pi = np.log(self.pi) # starting log probabilities\n",
      "<ipython-input-17-9e7a3fc5354a>:95: RuntimeWarning: divide by zero encountered in log\n",
      "  log_A = np.log(self.A) # transition log probabilities\n"
     ]
    }
   ],
   "source": [
    "# test score and log_score\n",
    "log_prob, log_alpha, log_beta, gamma1, xi1 = gmm.log_score(x)\n",
    "prob, alpha, beta, gamma2, xi2 = gmm.score(x)"
   ]
  },
  {
   "cell_type": "code",
   "execution_count": 25,
   "metadata": {},
   "outputs": [
    {
     "data": {
      "text/plain": [
       "(-2.4682386643125236, -2.4682386643125236)"
      ]
     },
     "execution_count": 25,
     "metadata": {},
     "output_type": "execute_result"
    }
   ],
   "source": [
    "log_prob, np.log(prob)"
   ]
  },
  {
   "cell_type": "code",
   "execution_count": 26,
   "metadata": {
    "scrolled": true
   },
   "outputs": [
    {
     "name": "stderr",
     "output_type": "stream",
     "text": [
      "<ipython-input-26-90d556559d8c>:1: RuntimeWarning: divide by zero encountered in log\n",
      "  np.allclose(log_alpha, np.log(alpha)),\\\n"
     ]
    },
    {
     "data": {
      "text/plain": [
       "(True, True, True)"
      ]
     },
     "execution_count": 26,
     "metadata": {},
     "output_type": "execute_result"
    }
   ],
   "source": [
    "np.allclose(log_alpha, np.log(alpha)),\\\n",
    "np.allclose(log_beta, np.log(beta)),\\\n",
    "np.allclose(gamma1, gamma2)"
   ]
  },
  {
   "cell_type": "code",
   "execution_count": 27,
   "metadata": {},
   "outputs": [
    {
     "data": {
      "text/plain": [
       "True"
      ]
     },
     "execution_count": 27,
     "metadata": {},
     "output_type": "execute_result"
    }
   ],
   "source": [
    "np.allclose(xi1, xi2)"
   ]
  },
  {
   "cell_type": "code",
   "execution_count": 69,
   "metadata": {},
   "outputs": [
    {
     "data": {
      "text/plain": [
       "(10.838380493498867, 10.838380493498867)"
      ]
     },
     "execution_count": 69,
     "metadata": {},
     "output_type": "execute_result"
    }
   ],
   "source": [
    "alpha = gmm.forward(B)\n",
    "beta = gmm.backward(B)\n",
    "alpha_prob(alpha), beta_prob(gmm.pi, B, beta)"
   ]
  },
  {
   "cell_type": "code",
   "execution_count": 70,
   "metadata": {},
   "outputs": [
    {
     "data": {
      "text/plain": [
       "(2.3830935838813243, 10.838380493498864)"
      ]
     },
     "execution_count": 70,
     "metadata": {},
     "output_type": "execute_result"
    }
   ],
   "source": [
    "log_beta = gmm.log_backward(log_A, log_B)\n",
    "assert np.allclose(log_beta, np.log(beta))\n",
    "log_beta_prob(log_pi, log_B, log_beta),\\\n",
    "np.exp(log_beta_prob(log_pi, log_B, log_beta))"
   ]
  },
  {
   "cell_type": "code",
   "execution_count": 75,
   "metadata": {
    "scrolled": true
   },
   "outputs": [
    {
     "name": "stderr",
     "output_type": "stream",
     "text": [
      "<ipython-input-75-aacc4f1e57aa>:2: RuntimeWarning: divide by zero encountered in log\n",
      "  assert np.allclose(log_alpha, np.log(alpha))\n"
     ]
    },
    {
     "data": {
      "text/plain": [
       "(2.383093583881324, 10.83838049349886)"
      ]
     },
     "execution_count": 75,
     "metadata": {},
     "output_type": "execute_result"
    }
   ],
   "source": [
    "log_alpha = gmm.log_forward(log_pi, log_A.T, log_B)\n",
    "assert np.allclose(log_alpha, np.log(alpha))\n",
    "log_alpha_prob(log_alpha),\\\n",
    "np.exp(log_alpha_prob(log_alpha))"
   ]
  },
  {
   "cell_type": "code",
   "execution_count": 84,
   "metadata": {
    "scrolled": true
   },
   "outputs": [
    {
     "name": "stderr",
     "output_type": "stream",
     "text": [
      "<ipython-input-84-1c23e57ced54>:3: RuntimeWarning: divide by zero encountered in log\n",
      "  assert np.allclose(log_gamma, np.log(gamma))\n"
     ]
    }
   ],
   "source": [
    "gamma = alpha * beta / alpha_prob(alpha)\n",
    "log_gamma = log_alpha + log_beta - log_alpha_prob(log_alpha)\n",
    "assert np.allclose(log_gamma, np.log(gamma))"
   ]
  }
 ],
 "metadata": {
  "kernelspec": {
   "display_name": "Python 3",
   "language": "python",
   "name": "python3"
  },
  "language_info": {
   "codemirror_mode": {
    "name": "ipython",
    "version": 3
   },
   "file_extension": ".py",
   "mimetype": "text/x-python",
   "name": "python",
   "nbconvert_exporter": "python",
   "pygments_lexer": "ipython3",
   "version": "3.8.0"
  }
 },
 "nbformat": 4,
 "nbformat_minor": 2
}
