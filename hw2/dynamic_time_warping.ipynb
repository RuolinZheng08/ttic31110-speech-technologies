{
 "cells": [
  {
   "cell_type": "code",
   "execution_count": 1,
   "metadata": {},
   "outputs": [],
   "source": [
    "import numpy as np"
   ]
  },
  {
   "cell_type": "code",
   "execution_count": 14,
   "metadata": {},
   "outputs": [],
   "source": [
    "def dtw(costs):\n",
    "    \"\"\"\n",
    "    move set each has cost 1\n",
    "    - horizontal\n",
    "    - vertical\n",
    "    - diagonal\n",
    "    \"\"\"\n",
    "    rows, cols = costs.shape\n",
    "    mem = np.zeros((rows, cols), dtype='int')\n",
    "    for row in range(rows):\n",
    "        for col in range(cols):\n",
    "            mem[row, col] = costs[row, col]\n",
    "    for row in range(rows):\n",
    "        for col in range(cols):\n",
    "            if row == 0 and col == 0:\n",
    "                continue\n",
    "            elif row == 0:\n",
    "                mem[row, col] += mem[row, col - 1]\n",
    "            elif col == 0:\n",
    "                mem[row, col] += mem[row - 1, col]\n",
    "            else:\n",
    "                mem[row, col] += min(mem[row, col - 1],\n",
    "                                    mem[row - 1, col],\n",
    "                                    mem[row - 1, col - 1])\n",
    "    row, col = rows - 1, cols - 1 # destination\n",
    "    path = [(row, col)]\n",
    "    # traceback: 0 for horizontal, 1 for vertical, 2 for diagonal\n",
    "    while True:\n",
    "        if row == 0 and col == 0:\n",
    "            break\n",
    "        if row == 0:\n",
    "            tb = 0 # horizontal\n",
    "        elif col == 0:\n",
    "            tb = 1 # vertical\n",
    "        else:\n",
    "            prev = mem[row, col] - costs[row, col]\n",
    "            if prev == mem[row, col - 1]:\n",
    "                tb = 0 # horizontal\n",
    "            elif prev == mem[row - 1, col]:\n",
    "                tb = 1 # vertical\n",
    "            else:\n",
    "                tb = 2 # diagonal\n",
    "        # after tracing back, update position on board\n",
    "        if tb == 0:\n",
    "            col -= 1\n",
    "        elif tb == 1:\n",
    "            row -= 1\n",
    "        else:\n",
    "            col -= 1\n",
    "            row -= 1\n",
    "        path.append((row, col))\n",
    "    return mem[rows - 1, cols - 1], path[::-1]"
   ]
  },
  {
   "cell_type": "code",
   "execution_count": 79,
   "metadata": {},
   "outputs": [],
   "source": [
    "def dtw_moveset(costs):\n",
    "    \"\"\"\n",
    "    move set\n",
    "    - horizontal cost 1\n",
    "    - diagonal cost 2 => (row + 1, col + 1)\n",
    "    - two-step diagonal cost 1 => (row + 2, col + 1)\n",
    "    \"\"\"\n",
    "    rows, cols = costs.shape\n",
    "    mem = np.zeros((rows, cols))\n",
    "    # initialize all (row>0, col=0) to infinity cost\n",
    "    mem[0, 0] = costs[0, 0]\n",
    "    for row in range(1, rows):\n",
    "        mem[row, 0] = float('inf')\n",
    "    # DTW algo\n",
    "    for row in range(rows):\n",
    "        for col in range(1, cols): # cannot have (row, col=0)\n",
    "            if row == 0:\n",
    "                mem[row, col] = costs[row, col] + mem[row, col - 1] # horizontal\n",
    "            elif row == 1:\n",
    "                mem[row, col] = \\\n",
    "                min(costs[row, col] + mem[row, col - 1], # horizontal\n",
    "                    2 * costs[row, col] + mem[row - 1, col - 1]) # diagonal\n",
    "            else:\n",
    "                mem[row, col] = \\\n",
    "                min(costs[row, col] + mem[row, col - 1], # horizontal\n",
    "                    2 * costs[row, col] + mem[row - 1, col - 1], # diagonal\n",
    "                    costs[row, col] + mem[row - 2, col - 1]) # two-step diagonal\n",
    "    print(mem)\n",
    "    # backtrack\n",
    "    row, col = rows - 1, cols - 1 # at destination\n",
    "    path = [(row, col)]\n",
    "    # traceback: 0 for horizontal, 1 for vertical, 2 for diagonal\n",
    "    while True:\n",
    "        if row == 0 and col == 0:\n",
    "            break\n",
    "        elif col == 0:\n",
    "            raise # ERROR: how did we get here?\n",
    "        elif row == 0:\n",
    "            tb = 0 # horizontal\n",
    "        elif row == 1: # horizontal or diagonal?\n",
    "            # cannot have (row, col=0)\n",
    "            if mem[row, col] - costs[row, col] == mem[row, col - 1] and col != 1:\n",
    "                tb = 0 # horizontal\n",
    "            elif mem[row, col] - 2 * costs[row, col] == mem[row - 1, col - 1]:\n",
    "                tb = 1 # diagonal\n",
    "            else:\n",
    "                raise            \n",
    "        else:\n",
    "            prev = mem[row, col] - costs[row, col]\n",
    "            if prev == mem[row, col - 1] and col != 1: # cannot have (row, col=0)\n",
    "                tb = 0 # horizontal\n",
    "            elif mem[row, col] - 2 * costs[row, col] == mem[row - 1, col - 1]:\n",
    "                tb = 1 # diagonal\n",
    "            elif prev == mem[row - 2, col - 1]:\n",
    "                tb = 2 # two-step diagonal\n",
    "            else:\n",
    "                raise\n",
    "        # after tracing back, update position on board\n",
    "        if tb == 0:\n",
    "            col -= 1\n",
    "        elif tb == 1:\n",
    "            row -= 1\n",
    "            col -= 1\n",
    "        else:\n",
    "            row -= 2\n",
    "            col -= 1\n",
    "        path.append((row, col))\n",
    "    return int(mem[rows - 1, cols - 1]), path[::-1]"
   ]
  },
  {
   "cell_type": "code",
   "execution_count": 80,
   "metadata": {
    "scrolled": true
   },
   "outputs": [
    {
     "name": "stdout",
     "output_type": "stream",
     "text": [
      "[[ 1.  2.  5.]\n",
      " [inf  3.  4.]\n",
      " [inf  2.  4.]]\n"
     ]
    },
    {
     "data": {
      "text/plain": [
       "(4, [(0, 0), (2, 1), (2, 2)])"
      ]
     },
     "execution_count": 80,
     "metadata": {},
     "output_type": "execute_result"
    }
   ],
   "source": [
    "small = np.array([\n",
    "    [1, 1, 3],\n",
    "    [1, 1, 1],\n",
    "    [2, 1, 2]\n",
    "])\n",
    "dtw_moveset(small)"
   ]
  },
  {
   "cell_type": "code",
   "execution_count": 81,
   "metadata": {},
   "outputs": [
    {
     "name": "stdout",
     "output_type": "stream",
     "text": [
      "[[ 1.  2.  5.  8. 11. 14.]\n",
      " [inf  3.  4.  5.  7. 10.]\n",
      " [inf  2.  4.  6.  7. 10.]\n",
      " [inf inf  5.  5.  7.  9.]\n",
      " [inf inf  5.  5.  6.  7.]\n",
      " [inf inf inf  7.  7.  9.]]\n"
     ]
    },
    {
     "data": {
      "text/plain": [
       "(9, [(0, 0), (1, 1), (1, 2), (3, 3), (5, 4), (5, 5)])"
      ]
     },
     "execution_count": 81,
     "metadata": {},
     "output_type": "execute_result"
    }
   ],
   "source": [
    "mat = np.array([\n",
    "    [1, 1, 3, 3, 3, 3],\n",
    "    [1, 1, 1, 1, 2, 3],\n",
    "    [2, 1, 2, 2, 1, 3],\n",
    "    [2, 2, 2, 1, 2, 2],\n",
    "    [3, 2, 3, 1, 1, 1],\n",
    "    [3, 2, 3, 2, 2, 2]\n",
    "])\n",
    "dtw_moveset(mat)"
   ]
  }
 ],
 "metadata": {
  "kernelspec": {
   "display_name": "Python 3",
   "language": "python",
   "name": "python3"
  },
  "language_info": {
   "codemirror_mode": {
    "name": "ipython",
    "version": 3
   },
   "file_extension": ".py",
   "mimetype": "text/x-python",
   "name": "python",
   "nbconvert_exporter": "python",
   "pygments_lexer": "ipython3",
   "version": "3.8.0"
  }
 },
 "nbformat": 4,
 "nbformat_minor": 2
}
