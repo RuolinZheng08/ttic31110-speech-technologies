{
 "cells": [
  {
   "cell_type": "code",
   "execution_count": 1,
   "metadata": {},
   "outputs": [
    {
     "data": {
      "text/plain": [
       "{'divide': 'warn', 'invalid': 'warn', 'over': 'warn', 'under': 'ignore'}"
      ]
     },
     "execution_count": 1,
     "metadata": {},
     "output_type": "execute_result"
    }
   ],
   "source": [
    "from __future__ import absolute_import\n",
    "from __future__ import division\n",
    "from __future__ import print_function\n",
    "\n",
    "import json\n",
    "import numpy as np\n",
    "from operator import itemgetter\n",
    "import os\n",
    "import pickle as pkl\n",
    "import time\n",
    "\n",
    "import torch\n",
    "import torch.nn as nn\n",
    "import torch.nn.functional as F\n",
    "\n",
    "import matplotlib.pyplot as plt\n",
    "\n",
    "np.seterr(divide='ignore') # masks log(0) errors"
   ]
  },
  {
   "cell_type": "code",
   "execution_count": 2,
   "metadata": {},
   "outputs": [],
   "source": [
    "from hybrid.hmm.multiple import FullGaussianHMM"
   ]
  },
  {
   "cell_type": "markdown",
   "metadata": {},
   "source": [
    "The default DNN set-up should take ~40 seconds/epoch on a GPU (and ~350 secconds/epoch on a CPU).\n",
    "\n",
    "Performance (WER) on test set:   \n",
    "\n",
    "Baseline performance of the GMM-HMM model   \n",
    "24.55%\n",
    "\n",
    "Performance of the DNN-HMM model with normalized emission probabilities   \n",
    "20.45%\n",
    "\n",
    "Performance of the DNN-HMM model with unnormalized emission probabilities   \n",
    "18.18%"
   ]
  },
  {
   "cell_type": "markdown",
   "metadata": {},
   "source": [
    "## Training a multiple digit GMM-HMM model\n",
    "NOTE: You are not expected to run/tune this part as the trained FullGaussianHMM model file is provided. The provided model is designed to have 15 states for each digit and 3 additional states for start, pause, and end. Feel free to look through hybrid/hmm/multiple.py to see how we can string single-digit HMMs to obtain the one that can model multiple-digit sequences."
   ]
  },
  {
   "cell_type": "code",
   "execution_count": 3,
   "metadata": {},
   "outputs": [],
   "source": [
    "# \"\"\"\n",
    "# Multiple Digit HMM: training two-digit sequences\n",
    "# \"\"\"\n",
    "# data_multiple_digit = np.load(\"hybrid/data/mfccs/mfccs_multiple.npz\", allow_pickle=True)\n",
    "# full_model = FullGaussianHMM(data_multiple_digit[\"Xtrain\"], \"hybrid/hmm/models/single_digit_model.pkl\")\n",
    "\n",
    "# n_iter = 15\n",
    "\n",
    "# print(\"Training HMM\")\n",
    "# for i in range(n_iter):\n",
    "#     print(\"starting iteration {}...\".format(i + 1))\n",
    "#     full_model.train(data_multiple_digit[\"Xtrain\"], data_multiple_digit[\"Ytrain\"])\n",
    "        \n",
    "# print(\"Testing HMM\")\n",
    "# test_wer = full_model.test(data_multiple_digit[\"Xtest\"], data_multiple_digit[\"Ytest\"])\n",
    "# print(\"{:.2f}% WER\".format(test_wer * 100.))\n",
    "\n",
    "# with open(\"hybrid/hmm/models/multiple_digit_model.pkl\", \"wb\") as f:\n",
    "#     pkl.dump(full_model, f)"
   ]
  },
  {
   "cell_type": "markdown",
   "metadata": {},
   "source": [
    "## Saving the optimal state sequences\n",
    "Save the optimal state label per framee using the trained GMM-HMM model. Complete the # TODO in force_align function"
   ]
  },
  {
   "cell_type": "code",
   "execution_count": 4,
   "metadata": {},
   "outputs": [],
   "source": [
    "def force_align(X, Y, hmm_gmm_model):\n",
    "    \"\"\"\n",
    "    Force align using Viterbi to get the hidden state sequence for each (X, Y) pair.\n",
    "    ------\n",
    "    input:\n",
    "    X: list of 2d-arrays of shape (Tx, 13): list of single digit MFCC features\n",
    "    Y: digit sequence\n",
    "    hmm_gmm_model: load the trained model\n",
    "    ------\n",
    "    Returns a list of utterence-wise hidden state sequences\n",
    "    \"\"\"\n",
    "    start_states, stop_states = hmm_gmm_model.start_states, hmm_gmm_model.stop_states\n",
    "    begin_sil_id, pause_id, end_sil_id = hmm_gmm_model.begin_sil, hmm_gmm_model.pause, hmm_gmm_model.end_sil\n",
    "    A_estimate, pi_estimate = hmm_gmm_model.A, hmm_gmm_model.pi\n",
    "    state_seqs = []\n",
    "    for ii, (x, y) in enumerate(zip(X, Y)):\n",
    "\n",
    "        y = np.array([0 if yy == 'o' else int(yy) for yy in y], dtype=np.int32)\n",
    "\n",
    "        # TODO: edit A_estimate appropriately to enable decoding for the ground-truth labelss\n",
    "        y1, y2 = y\n",
    "        stop_y1, stop_y2 = stop_states[y1], stop_states[y2]\n",
    "        # begin to the start state of y1, preserve some self-transitioning prob for begin\n",
    "        temp = A_estimate[begin_sil_id, begin_sil_id]\n",
    "        A_estimate[begin_sil_id] = 0\n",
    "        A_estimate[begin_sil_id, begin_sil_id] = temp\n",
    "        A_estimate[begin_sil_id, start_states[y1]] = 1 - temp\n",
    "        # stop state of y1 to pause, preserve self\n",
    "        temp = A_estimate[stop_states[y1], stop_states[y1]]\n",
    "        A_estimate[stop_states[y1]] = 0\n",
    "        A_estimate[stop_states[y1], stop_states[y1]] = temp\n",
    "        A_estimate[stop_states[y1], pause_id] = 1 - temp\n",
    "        # pause to the start state of y2, preserve some self-transitioning prob for pause\n",
    "        temp = A_estimate[pause_id, pause_id]\n",
    "        A_estimate[pause_id] = 0\n",
    "        A_estimate[pause_id, pause_id] = temp\n",
    "        A_estimate[pause_id, start_states[y2]] = 1 - temp\n",
    "        # stop state of y2 to end_sil, preserve self\n",
    "        temp = A_estimate[stop_states[y2], stop_states[y2]]\n",
    "        A_estimate[stop_states[y2]] = 0\n",
    "        A_estimate[stop_states[y2], stop_states[y2]] = temp\n",
    "        A_estimate[stop_states[y2], end_sil_id] = 1 - temp\n",
    "        \n",
    "        log_pi = np.log(pi_estimate)\n",
    "        log_A = np.log(A_estimate)\n",
    "        log_B = hmm_gmm_model.get_emissions(x)\n",
    "\n",
    "        q, log_prob = hmm_gmm_model.viterbi(log_pi, log_A, log_B) \n",
    "        state_seqs.append(q)\n",
    "\n",
    "    return state_seqs"
   ]
  },
  {
   "cell_type": "code",
   "execution_count": 5,
   "metadata": {},
   "outputs": [],
   "source": [
    "if not os.path.exists('hybrid/data/state_seq/state_seq.npz'):\n",
    "    data_multiple_digit = np.load(\"hybrid/data/mfccs/mfccs_multiple.npz\", allow_pickle=True)\n",
    "    with open(\"hybrid/hmm/models/multiple_digit_model.pkl\", \"rb\") as f:\n",
    "        hmm_gmm_model = pkl.load(f)\n",
    "\n",
    "    state_seq_train = force_align(data_multiple_digit[\"Xtrain\"], data_multiple_digit[\"Ytrain\"], hmm_gmm_model)\n",
    "    state_seq_dev = force_align(data_multiple_digit[\"Xdev\"], data_multiple_digit[\"Ydev\"], hmm_gmm_model)\n",
    "    state_seq_test = force_align(data_multiple_digit[\"Xtest\"], data_multiple_digit[\"Ytest\"], hmm_gmm_model)\n",
    "    seqDict = {'Ytrain': state_seq_train, 'Ydev': state_seq_dev, 'Ytest': state_seq_test, 'total_states': hmm_gmm_model.total}\n",
    "    np.savez_compressed('hybrid/data/state_seq/state_seq.npz', **seqDict)"
   ]
  },
  {
   "cell_type": "markdown",
   "metadata": {},
   "source": [
    "## Training a DNN frame classifier"
   ]
  },
  {
   "cell_type": "code",
   "execution_count": 6,
   "metadata": {},
   "outputs": [],
   "source": [
    "from hybrid.dnn.loader import DataLoader"
   ]
  },
  {
   "cell_type": "code",
   "execution_count": 7,
   "metadata": {},
   "outputs": [],
   "source": [
    "# global config, not yet overridden\n",
    "with open(\"hybrid/dnn/config.json\", \"r\") as fid:                                                                                                                                                                                                                                      \n",
    "    config = json.load(fid)\n",
    "\n",
    "np.random.seed(config[\"seed\"])\n",
    "torch.manual_seed(config[\"seed\"])\n",
    "\n",
    "data_cfg = config[\"data\"]\n",
    "model_cfg = config[\"model\"]\n",
    "opt_cfg = config[\"optimizer\"]\n",
    "out_cfg = config[\"output\"]"
   ]
  },
  {
   "cell_type": "code",
   "execution_count": 8,
   "metadata": {},
   "outputs": [
    {
     "name": "stdout",
     "output_type": "stream",
     "text": [
      "Preparing data...\n",
      "\n"
     ]
    }
   ],
   "source": [
    "print(\"Preparing data...\\n\")\n",
    "data_mfccs = np.load(data_cfg[\"mfcc\"], allow_pickle=True)\n",
    "state_seq = np.load(data_cfg[\"state_seq\"], allow_pickle=True)\n",
    "\n",
    "data_ldr = DataLoader(data_cfg)\n",
    "train_features, train_labels, train_labels_onehot, train_utt_to_frames = data_ldr.prepare_data('train')\n",
    "dev_features, dev_labels, dev_labels_onehot, dev_utt_to_frames = data_ldr.prepare_data('dev')\n",
    "test_features, test_labels, test_labels_onehot, test_utt_to_frames = data_ldr.prepare_data('test')\n",
    "\n",
    "feat_dim = (data_ldr.context_size+1)*data_ldr.mfcc_dim\n",
    "n_states = data_ldr.n_states"
   ]
  },
  {
   "cell_type": "code",
   "execution_count": 9,
   "metadata": {},
   "outputs": [],
   "source": [
    "class FeedForward(nn.Module):\n",
    "\n",
    "    def __init__(self, feat_dim, n_states, hidden_dim, n_layers, dropout):\n",
    "        \"\"\"\n",
    "        Initialized feed forward neural network model.\n",
    "        ---\n",
    "        feat_dim: input feature dimension\n",
    "        n_states: size of the output\n",
    "        hidden_dim: dimension of the hidden layers\n",
    "        n_layers: number of layers\n",
    "        dropout: dropout probabilty for the dropout layer\n",
    "        \"\"\"\n",
    "        super().__init__()\n",
    "\n",
    "        self.n_layers = n_layers\n",
    "        self.fc_input = nn.Linear(feat_dim, hidden_dim)\n",
    "        self.fc_output = nn.Linear(hidden_dim, n_states)\n",
    "        self.fc_hidden_list = nn.ModuleList([nn.Linear(hidden_dim, hidden_dim)]*n_layers)\n",
    "        self.nl = nn.ReLU()\n",
    "        self.dropout = nn.Dropout(p=dropout)\n",
    "\n",
    "    def forward(self, x):\n",
    "        \"\"\"\n",
    "        Forward pass for the feedforward network\n",
    "        \"\"\"\n",
    "        x = self.nl(self.fc_input(x))\n",
    "        for i in range(self.n_layers):\n",
    "            x = self.nl(self.fc_hidden_list[i](x))\n",
    "        output = F.leaky_relu(self.fc_output(x))\n",
    "\n",
    "        return output\n",
    "\n",
    "def init_weights(m):\n",
    "    if isinstance(m, nn.Linear):\n",
    "        nn.init.kaiming_uniform_(m.weight, nonlinearity='relu')"
   ]
  },
  {
   "cell_type": "code",
   "execution_count": 10,
   "metadata": {},
   "outputs": [],
   "source": [
    "def train(classifier, optimizer):\n",
    "    \"\"\"\n",
    "    Training the classifier on frame level labels\n",
    "    \"\"\"\n",
    "    classifier.train()\n",
    "    perm = np.random.permutation(train_features.shape[0])\n",
    "    train_loss, pred_multi, gt_multi = [], [], []\n",
    "    n_iter = 0\n",
    "    start = time.time()\n",
    "    time_per_iter = [0]*4\n",
    "    for i in range(0, len(perm), batch_size):\n",
    "        idx = perm[i:i+batch_size]\n",
    "        train_Xs = torch.tensor(train_features[idx], dtype=torch.float32).to(device)\n",
    "        train_Ys = torch.tensor(train_labels[idx], dtype=torch.long).to(device)\n",
    "        pred_Ys = classifier(train_Xs)\n",
    "        loss = loss_function(pred_Ys, train_Ys)\n",
    "        optimizer.zero_grad()\n",
    "        loss.backward()\n",
    "        torch.nn.utils.clip_grad_norm_(classifier.parameters(), 5.0)\n",
    "        optimizer.step()\n",
    "        train_loss.append(loss.cpu().item())\n",
    "        pred_multi.append(np.argmax(pred_Ys.cpu().data.numpy(), axis=1))\n",
    "        gt_multi.append(train_Ys.cpu().data.numpy())\n",
    "    pred_multi, gt_multi = np.concatenate(pred_multi, axis=0), np.concatenate(gt_multi, axis=0)\n",
    "    accuracy = 100*len(np.where((pred_multi - gt_multi)==0)[0])/len(pred_multi)\n",
    "    print(\"Training time elapsed: %.2f seconds\" % (time.time() - start))\n",
    "    return accuracy, np.mean(train_loss)\n",
    "\n",
    "def test(features, labels, classifier_test=None):\n",
    "    \"\"\"\n",
    "    Training the classifier on frame level labels\n",
    "    \"\"\"\n",
    "    if classifier_test is None:\n",
    "        classifier_test = torch.load(save_model_fn)\n",
    "    classifier_test.eval()\n",
    "    test_loss, pred_multi, gt_multi = [], [], []\n",
    "    n_iter = 0\n",
    "    start = time.time()\n",
    "    for i in range(0, len(features), test_batch_size):\n",
    "        n_iter += 1\n",
    "        idx = list(range(i, min(i+test_batch_size, len(features))))\n",
    "        test_Xs = torch.tensor(features[idx], dtype=torch.float32).to(device)\n",
    "        test_Ys = torch.tensor(labels[idx], dtype=torch.long).to(device)\n",
    "        pred_Ys = classifier_test(test_Xs)\n",
    "        loss = loss_function(pred_Ys, test_Ys)\n",
    "        test_loss.append(loss.cpu().item())\n",
    "        pred_multi.append(np.argmax(pred_Ys.cpu().data.numpy(), axis=1))\n",
    "        gt_multi.append(test_Ys.cpu().data.numpy())\n",
    "\n",
    "    pred_multi, gt_multi = np.concatenate(pred_multi, axis=0), np.concatenate(gt_multi, axis=0)\n",
    "    accuracy = 100*len(np.where((pred_multi - gt_multi)==0)[0])/len(pred_multi)\n",
    "    print(\"Dev elapsed: %.2f seconds\" % (time.time() - start))\n",
    "    return accuracy"
   ]
  },
  {
   "cell_type": "code",
   "execution_count": 11,
   "metadata": {},
   "outputs": [],
   "source": [
    "def main_train(classifier, optimizer, curr_config):\n",
    "    plotting = {'train_loss': [], 'train_accu': [], 'dev_accu': []}\n",
    "    global global_best_accu\n",
    "    best_accuracy = 0\n",
    "    for epoch in range(tot_epoch):\n",
    "        train_accuracy, loss = train(classifier, optimizer)\n",
    "        dev_accuracy = test(dev_features, dev_labels, classifier)\n",
    "        print(\"Epoch: %d, Training loss: %.2f, Accuracy: %.2f, Dev Accuracy: %.2f\" % \n",
    "              (epoch, loss, train_accuracy, dev_accuracy))\n",
    "        \n",
    "        plotting['train_loss'].append(loss)\n",
    "        plotting['train_accu'].append(train_accuracy)\n",
    "        plotting['dev_accu'].append(dev_accuracy)\n",
    "        \n",
    "        if dev_accuracy > global_best_accu:\n",
    "            best_epoch = epoch\n",
    "            torch.save(classifier, save_model_fn) # global dnn-model.pkl\n",
    "            global_best_accu = dev_accuracy\n",
    "        if dev_accuracy > best_accuracy: # save temporarily\n",
    "            best_epoch = epoch\n",
    "            torch.save(classifier, os.path.join(out_cfg[\"save_dir\"], curr_config))\n",
    "            best_accuracy = dev_accuracy\n",
    "    print('\\nBest dev accuracy: %.2f at epoch: %d' % (best_accuracy, best_epoch))\n",
    "    return plotting\n",
    "\n",
    "def main_test():\n",
    "    accuracy = test(test_features, test_labels)\n",
    "    print('\\nAccuracy on test set: %.2sf' % (accuracy))"
   ]
  },
  {
   "cell_type": "code",
   "execution_count": 12,
   "metadata": {},
   "outputs": [],
   "source": [
    "# more global config\n",
    "tot_epoch = opt_cfg[\"max_epochs\"]\n",
    "batch_size = opt_cfg[\"batch_size\"]\n",
    "test_batch_size = opt_cfg[\"test_batch_size\"]\n",
    "\n",
    "save_model_fn = os.path.join(out_cfg[\"save_dir\"], \"dnn_model.pkl\")\n",
    "\n",
    "device = 'cuda' if torch.cuda.is_available() else 'cpu'\n",
    "if device == 'cuda':\n",
    "    torch.backends.cudnn.deterministic = True\n",
    "    \n",
    "loss_function = nn.CrossEntropyLoss()"
   ]
  },
  {
   "cell_type": "code",
   "execution_count": 13,
   "metadata": {},
   "outputs": [],
   "source": [
    "# TODO: tune on the dev set\n",
    "# may want to set up function or chunk of code here to perform tuning\n",
    "# call train on training set, call test on dev, save/plot/compare results\n",
    "global_best_accu = 0"
   ]
  },
  {
   "cell_type": "code",
   "execution_count": 14,
   "metadata": {},
   "outputs": [],
   "source": [
    "# plotting helper\n",
    "def plot_loss_accu(best, plotting, xlabel='# epochs', xticks=None):\n",
    "    plt.suptitle(best)\n",
    "    plt.subplot(1, 2, 1)\n",
    "    if xticks is None:\n",
    "        plt.plot(plotting['train_loss'], label='train_loss')\n",
    "    else:\n",
    "        plt.plot(xticks, plotting['train_loss'], label='train_loss')\n",
    "    plt.legend()\n",
    "    plt.xlabel(xlabel)\n",
    "    plt.ylabel('train_loss')\n",
    "    plt.subplot(1, 2, 2)\n",
    "    if xticks is None:\n",
    "        plt.plot(plotting['dev_accu'], label='dev_accu')\n",
    "        plt.plot(plotting['train_accu'], label='train_accu')\n",
    "    else:\n",
    "        plt.plot(xticks, plotting['dev_accu'], label='dev_accu')\n",
    "        plt.plot(xticks, plotting['train_accu'], label='train_accu')    \n",
    "    plt.legend()\n",
    "    plt.xlabel(xlabel)\n",
    "    plt.ylabel('accuracy')\n",
    "    plt.tight_layout()\n",
    "    plt.subplots_adjust(top=0.85)\n",
    "    plt.savefig('figures/' + best + '.png')\n",
    "    plt.show()"
   ]
  },
  {
   "cell_type": "code",
   "execution_count": 15,
   "metadata": {},
   "outputs": [],
   "source": [
    "def tune(hyperparams):    \n",
    "    hidden_dim = hyperparams.get('hidden_dim', model_cfg[\"hidden_dim\"])\n",
    "    n_layers = hyperparams.get('n_layers', model_cfg[\"n_layers\"])\n",
    "    dropout = hyperparams.get('dropout', model_cfg[\"dropout_probability\"])\n",
    "    \n",
    "    curr_config = 'hid{}+n_layers{}+dropout{}'.format(hidden_dim, n_layers, dropout)\n",
    "    print('\\nTraining DNN with config:', curr_config)\n",
    "    classifier = FeedForward(feat_dim, n_states, hidden_dim, n_layers, dropout).to(device)\n",
    "    # classifier.apply(init_weights)\n",
    "    optimizer = getattr(torch.optim, opt_cfg[\"type\"])(list(classifier.parameters()))\n",
    "\n",
    "    plotting = main_train(classifier, optimizer, curr_config)\n",
    "    return curr_config, plotting"
   ]
  },
  {
   "cell_type": "markdown",
   "metadata": {},
   "source": [
    "### (e) i. Plots of the loss and accuracy vs. epoch on train and dev"
   ]
  },
  {
   "cell_type": "code",
   "execution_count": 16,
   "metadata": {},
   "outputs": [
    {
     "name": "stdout",
     "output_type": "stream",
     "text": [
      "\n",
      "Training DNN with config: hid512+n_layers1+dropout0.0\n",
      "Training time elapsed: 76.90 seconds\n",
      "Dev elapsed: 2.36 seconds\n",
      "Epoch: 0, Training loss: 2.07, Accuracy: 43.06, Dev Accuracy: 47.77\n"
     ]
    },
    {
     "name": "stderr",
     "output_type": "stream",
     "text": [
      "/home/ruolinzheng/.local/lib/python3.5/site-packages/torch/serialization.py:402: UserWarning: Couldn't retrieve source code for container of type FeedForward. It won't be checked for correctness upon loading.\n",
      "  \"type \" + obj.__name__ + \". It won't be checked \"\n"
     ]
    },
    {
     "name": "stdout",
     "output_type": "stream",
     "text": [
      "Training time elapsed: 77.03 seconds\n",
      "Dev elapsed: 2.37 seconds\n",
      "Epoch: 1, Training loss: 1.48, Accuracy: 56.79, Dev Accuracy: 48.06\n",
      "Training time elapsed: 77.68 seconds\n",
      "Dev elapsed: 2.37 seconds\n",
      "Epoch: 2, Training loss: 1.30, Accuracy: 61.08, Dev Accuracy: 51.93\n",
      "Training time elapsed: 77.53 seconds\n",
      "Dev elapsed: 2.37 seconds\n",
      "Epoch: 3, Training loss: 1.20, Accuracy: 64.13, Dev Accuracy: 50.95\n",
      "Training time elapsed: 77.49 seconds\n",
      "Dev elapsed: 2.37 seconds\n",
      "Epoch: 4, Training loss: 1.12, Accuracy: 66.30, Dev Accuracy: 50.56\n",
      "Training time elapsed: 77.69 seconds\n",
      "Dev elapsed: 2.37 seconds\n",
      "Epoch: 5, Training loss: 1.06, Accuracy: 68.07, Dev Accuracy: 51.01\n",
      "Training time elapsed: 77.56 seconds\n",
      "Dev elapsed: 2.36 seconds\n",
      "Epoch: 6, Training loss: 1.01, Accuracy: 69.45, Dev Accuracy: 49.93\n",
      "Training time elapsed: 76.82 seconds\n",
      "Dev elapsed: 2.36 seconds\n",
      "Epoch: 7, Training loss: 0.97, Accuracy: 70.60, Dev Accuracy: 49.16\n",
      "Training time elapsed: 77.46 seconds\n",
      "Dev elapsed: 2.36 seconds\n",
      "Epoch: 8, Training loss: 0.94, Accuracy: 71.50, Dev Accuracy: 51.27\n",
      "Training time elapsed: 77.47 seconds\n",
      "Dev elapsed: 2.36 seconds\n",
      "Epoch: 9, Training loss: 0.92, Accuracy: 72.42, Dev Accuracy: 50.76\n",
      "\n",
      "Best dev accuracy: 51.93 at epoch: 2\n"
     ]
    },
    {
     "data": {
      "image/png": "[encoded data removed]",
      "text/plain": [
       "<Figure size 432x288 with 2 Axes>"
      ]
     },
     "metadata": {
      "needs_background": "light"
     },
     "output_type": "display_data"
    }
   ],
   "source": [
    "# # default config\n",
    "# plt_title, plotting = tune({})\n",
    "# plot_loss_accu(plt_title, plotting)"
   ]
  },
  {
   "cell_type": "markdown",
   "metadata": {},
   "source": [
    "## (e) ii. For models trained with dropout 0.3, 0.5, 0.8, plot loss and accuracy"
   ]
  },
  {
   "cell_type": "code",
   "execution_count": 17,
   "metadata": {},
   "outputs": [],
   "source": [
    "def experiment(param_name, param_range):\n",
    "    data = {'train_loss': [], 'train_accu': [], 'dev_accu': []}\n",
    "    for param in param_range:\n",
    "        hp = {param_name: param, 'dropout': 0.5}\n",
    "        _, plotting = tune(hp)\n",
    "        # record best dev accuracy\n",
    "        idx = np.argmax(plotting['dev_accu'])\n",
    "        for k in data:\n",
    "            data[k].append(plotting[k][idx])\n",
    "    #     plot_wer_loss(best, plotting)\n",
    "    plot_loss_accu(param_name, data, xlabel=param_name, xticks=param_range)"
   ]
  },
  {
   "cell_type": "code",
   "execution_count": 18,
   "metadata": {
    "scrolled": false
   },
   "outputs": [
    {
     "name": "stdout",
     "output_type": "stream",
     "text": [
      "\n",
      "Training DNN with config: hid512+n_layers1+dropout0.3\n",
      "Training time elapsed: 77.29 seconds\n",
      "Dev elapsed: 2.37 seconds\n",
      "Epoch: 0, Training loss: 2.24, Accuracy: 40.89, Dev Accuracy: 43.04\n",
      "Training time elapsed: 77.04 seconds\n",
      "Dev elapsed: 2.37 seconds\n",
      "Epoch: 1, Training loss: 1.53, Accuracy: 55.69, Dev Accuracy: 49.21\n",
      "Training time elapsed: 77.45 seconds\n",
      "Dev elapsed: 2.37 seconds\n",
      "Epoch: 2, Training loss: 1.36, Accuracy: 60.10, Dev Accuracy: 51.46\n",
      "Training time elapsed: 77.40 seconds\n",
      "Dev elapsed: 2.37 seconds\n",
      "Epoch: 3, Training loss: 1.25, Accuracy: 63.04, Dev Accuracy: 50.82\n",
      "Training time elapsed: 77.33 seconds\n",
      "Dev elapsed: 2.37 seconds\n",
      "Epoch: 4, Training loss: 1.17, Accuracy: 65.27, Dev Accuracy: 51.71\n",
      "Training time elapsed: 77.60 seconds\n",
      "Dev elapsed: 2.71 seconds\n",
      "Epoch: 5, Training loss: 1.11, Accuracy: 66.81, Dev Accuracy: 50.57\n",
      "Training time elapsed: 77.52 seconds\n",
      "Dev elapsed: 2.36 seconds\n",
      "Epoch: 6, Training loss: 1.06, Accuracy: 68.12, Dev Accuracy: 50.54\n",
      "Training time elapsed: 77.26 seconds\n",
      "Dev elapsed: 2.36 seconds\n",
      "Epoch: 7, Training loss: 1.02, Accuracy: 69.28, Dev Accuracy: 51.27\n",
      "Training time elapsed: 77.58 seconds\n",
      "Dev elapsed: 2.38 seconds\n",
      "Epoch: 8, Training loss: 0.99, Accuracy: 70.15, Dev Accuracy: 49.70\n",
      "Training time elapsed: 77.65 seconds\n",
      "Dev elapsed: 2.37 seconds\n",
      "Epoch: 9, Training loss: 0.97, Accuracy: 71.00, Dev Accuracy: 49.90\n",
      "\n",
      "Best dev accuracy: 51.71 at epoch: 4\n",
      "\n",
      "Training DNN with config: hid512+n_layers1+dropout0.5\n",
      "Training time elapsed: 77.30 seconds\n",
      "Dev elapsed: 2.38 seconds\n",
      "Epoch: 0, Training loss: 2.05, Accuracy: 43.65, Dev Accuracy: 49.06\n",
      "Training time elapsed: 77.32 seconds\n",
      "Dev elapsed: 2.39 seconds\n",
      "Epoch: 1, Training loss: 1.45, Accuracy: 57.42, Dev Accuracy: 47.96\n",
      "Training time elapsed: 77.89 seconds\n",
      "Dev elapsed: 2.40 seconds\n",
      "Epoch: 2, Training loss: 1.28, Accuracy: 62.08, Dev Accuracy: 52.35\n",
      "Training time elapsed: 77.81 seconds\n",
      "Dev elapsed: 2.37 seconds\n",
      "Epoch: 3, Training loss: 1.16, Accuracy: 65.06, Dev Accuracy: 52.18\n",
      "Training time elapsed: 77.77 seconds\n",
      "Dev elapsed: 2.38 seconds\n",
      "Epoch: 4, Training loss: 1.08, Accuracy: 67.25, Dev Accuracy: 52.14\n",
      "Training time elapsed: 77.75 seconds\n",
      "Dev elapsed: 2.37 seconds\n",
      "Epoch: 5, Training loss: 1.02, Accuracy: 69.24, Dev Accuracy: 51.18\n",
      "Training time elapsed: 78.44 seconds\n",
      "Dev elapsed: 2.53 seconds\n",
      "Epoch: 6, Training loss: 0.96, Accuracy: 70.78, Dev Accuracy: 50.89\n",
      "Training time elapsed: 77.29 seconds\n",
      "Dev elapsed: 2.51 seconds\n",
      "Epoch: 7, Training loss: 0.93, Accuracy: 71.93, Dev Accuracy: 50.52\n",
      "Training time elapsed: 77.61 seconds\n",
      "Dev elapsed: 2.37 seconds\n",
      "Epoch: 8, Training loss: 0.89, Accuracy: 73.11, Dev Accuracy: 50.89\n",
      "Training time elapsed: 77.54 seconds\n",
      "Dev elapsed: 2.36 seconds\n",
      "Epoch: 9, Training loss: 0.87, Accuracy: 73.91, Dev Accuracy: 50.88\n",
      "\n",
      "Best dev accuracy: 52.35 at epoch: 2\n",
      "\n",
      "Training DNN with config: hid512+n_layers1+dropout0.8\n",
      "Training time elapsed: 77.15 seconds\n",
      "Dev elapsed: 2.37 seconds\n",
      "Epoch: 0, Training loss: 2.11, Accuracy: 43.29, Dev Accuracy: 48.46\n",
      "Training time elapsed: 77.12 seconds\n",
      "Dev elapsed: 2.37 seconds\n",
      "Epoch: 1, Training loss: 1.47, Accuracy: 56.96, Dev Accuracy: 50.65\n",
      "Training time elapsed: 77.57 seconds\n",
      "Dev elapsed: 2.37 seconds\n",
      "Epoch: 2, Training loss: 1.30, Accuracy: 61.39, Dev Accuracy: 50.66\n",
      "Training time elapsed: 77.78 seconds\n",
      "Dev elapsed: 2.36 seconds\n",
      "Epoch: 3, Training loss: 1.18, Accuracy: 64.43, Dev Accuracy: 51.29\n",
      "Training time elapsed: 77.56 seconds\n",
      "Dev elapsed: 2.38 seconds\n",
      "Epoch: 4, Training loss: 1.10, Accuracy: 66.69, Dev Accuracy: 51.54\n",
      "Training time elapsed: 77.60 seconds\n",
      "Dev elapsed: 2.40 seconds\n",
      "Epoch: 5, Training loss: 1.04, Accuracy: 68.44, Dev Accuracy: 51.89\n",
      "Training time elapsed: 60.11 seconds\n",
      "Dev elapsed: 1.15 seconds\n",
      "Epoch: 6, Training loss: 0.99, Accuracy: 69.91, Dev Accuracy: 51.35\n",
      "Training time elapsed: 48.07 seconds\n",
      "Dev elapsed: 1.16 seconds\n",
      "Epoch: 7, Training loss: 0.96, Accuracy: 71.04, Dev Accuracy: 51.26\n",
      "Training time elapsed: 48.17 seconds\n",
      "Dev elapsed: 1.16 seconds\n",
      "Epoch: 8, Training loss: 0.93, Accuracy: 71.96, Dev Accuracy: 51.34\n",
      "Training time elapsed: 48.22 seconds\n",
      "Dev elapsed: 1.15 seconds\n",
      "Epoch: 9, Training loss: 0.90, Accuracy: 72.87, Dev Accuracy: 50.01\n",
      "\n",
      "Best dev accuracy: 51.89 at epoch: 5\n"
     ]
    },
    {
     "data": {
      "image/png": "[encoded data removed]",
      "text/plain": [
       "<Figure size 432x288 with 2 Axes>"
      ]
     },
     "metadata": {
      "needs_background": "light"
     },
     "output_type": "display_data"
    }
   ],
   "source": [
    "# experiment('dropout', [0.3, 0.5, 0.8])"
   ]
  },
  {
   "cell_type": "code",
   "execution_count": null,
   "metadata": {},
   "outputs": [],
   "source": [
    "experiment('n_layers', [1, 2, 3])"
   ]
  },
  {
   "cell_type": "markdown",
   "metadata": {},
   "source": [
    "Save log-emission probabilities using the best model saved"
   ]
  },
  {
   "cell_type": "code",
   "execution_count": 19,
   "metadata": {},
   "outputs": [],
   "source": [
    "def get_log_emission(utt_to_frames_dict, features, prior, temp_parameter, best_model_path):\n",
    "    \"\"\"\n",
    "    Save posteriors using the trained model\n",
    "    \"\"\"\n",
    "    classifier_eval = torch.load(best_model_path)\n",
    "    classifier_eval.eval()\n",
    "    log_emission = []\n",
    "    n_iter = 0\n",
    "    for utt_idx in range(len(utt_to_frames_dict)):\n",
    "        frame_id = utt_to_frames_dict[utt_idx]\n",
    "        log_emission_utt = []\n",
    "        for i in range(0, len(frame_id), batch_size):\n",
    "            idx = frame_id[i:i+batch_size]\n",
    "            Xs = torch.tensor(itemgetter(*idx)(features), dtype=torch.float32).to(device)\n",
    "            log_pred_Ys = F.log_softmax(classifier_eval(Xs), dim=1).cpu().data.numpy()\n",
    "            log_emission_utt.append(log_pred_Ys  - temp_parameter*np.log(prior))\n",
    "        log_emission_utt = np.concatenate(log_emission_utt, axis=0)\n",
    "        log_emission.append(log_emission_utt)\n",
    "\n",
    "    return log_emission"
   ]
  },
  {
   "cell_type": "code",
   "execution_count": 20,
   "metadata": {},
   "outputs": [],
   "source": [
    "def save_log_emission(temp_parameter=None):\n",
    "    if temp_parameter is None:\n",
    "        temp_parameter = out_cfg[\"temp_parameter\"]\n",
    "    print(\"Saving log emissions for temperature %.1f ...\\n\" % (temp_parameter))\n",
    "    prior = data_ldr.get_prior()\n",
    "    train_log_emission =  get_log_emission(train_utt_to_frames, train_features, prior, temp_parameter, save_model_fn)\n",
    "    dev_log_emission = get_log_emission(dev_utt_to_frames, dev_features, prior, temp_parameter, save_model_fn)\n",
    "    test_log_emission = get_log_emission(test_utt_to_frames, test_features, prior, temp_parameter, save_model_fn)\n",
    "    log_emission_dict = {'Ytrain': train_log_emission, 'Ydev': dev_log_emission, 'Ytest': test_log_emission}\n",
    "    np.savez_compressed(os.path.join('hybrid/data/log_emission/log_emission_'+str(temp_parameter)+'.npz'), **log_emission_dict)"
   ]
  },
  {
   "cell_type": "code",
   "execution_count": 21,
   "metadata": {
    "scrolled": true
   },
   "outputs": [
    {
     "name": "stdout",
     "output_type": "stream",
     "text": [
      "Saving log emissions for temperature 1.0 ...\n",
      "\n",
      "Saving log emissions for temperature 0.5 ...\n",
      "\n",
      "Saving log emissions for temperature 0.0 ...\n",
      "\n"
     ]
    }
   ],
   "source": [
    "save_log_emission() # 1.0\n",
    "save_log_emission(temp_parameter=0.5)\n",
    "save_log_emission(temp_parameter=0.0)"
   ]
  },
  {
   "cell_type": "markdown",
   "metadata": {},
   "source": [
    "## HMM inference using the posterior from neural network"
   ]
  },
  {
   "cell_type": "code",
   "execution_count": 22,
   "metadata": {},
   "outputs": [],
   "source": [
    "def get_test_wer(model, posterior=None):\n",
    "    test_wer = model.test(data_multiple_digit[\"Xtest\"], data_multiple_digit[\"Ytest\"], posterior)\n",
    "    print(\"{:.2f}% TEST WER\".format(test_wer * 100.))"
   ]
  },
  {
   "cell_type": "code",
   "execution_count": 23,
   "metadata": {},
   "outputs": [],
   "source": [
    "data_multiple_digit = np.load(\"hybrid/data/mfccs/mfccs_multiple.npz\", allow_pickle=True)\n",
    "\n",
    "with open(\"hybrid/hmm/models/multiple_digit_model.pkl\", \"rb\") as f:\n",
    "    full_model_trained = pkl.load(f)\n",
    "\n",
    "log_emission_1 = np.load('hybrid/data/log_emission/log_emission_1.0.npz', allow_pickle=True)\n",
    "log_emission_0 = np.load('hybrid/data/log_emission/log_emission_0.0.npz', allow_pickle=True)    "
   ]
  },
  {
   "cell_type": "code",
   "execution_count": 24,
   "metadata": {},
   "outputs": [
    {
     "name": "stdout",
     "output_type": "stream",
     "text": [
      "Baseline performance of the trained model\n",
      "24.55% TEST WER\n",
      "Performance of the trained model with normalized emission probabilities\n",
      "20.91% TEST WER\n",
      "Performance of the trained model with unnormalized emission probabilities\n",
      "18.64% TEST WER\n"
     ]
    }
   ],
   "source": [
    "print('Baseline performance of the trained model')\n",
    "get_test_wer(full_model_trained)\n",
    "\n",
    "print('Performance of the trained model with normalized emission probabilities')\n",
    "get_test_wer(full_model_trained, log_emission_1[\"Ytest\"])\n",
    "\n",
    "print('Performance of the trained model with unnormalized emission probabilities')\n",
    "get_test_wer(full_model_trained, log_emission_0[\"Ytest\"])"
   ]
  },
  {
   "cell_type": "code",
   "execution_count": 25,
   "metadata": {},
   "outputs": [
    {
     "name": "stdout",
     "output_type": "stream",
     "text": [
      "20.00% TEST WER\n"
     ]
    }
   ],
   "source": [
    "log_emission_05 = np.load('hybrid/data/log_emission/log_emission_0.5.npz', allow_pickle=True)\n",
    "get_test_wer(full_model_trained, log_emission_05[\"Ytest\"])"
   ]
  }
 ],
 "metadata": {
  "kernelspec": {
   "display_name": "Python 3",
   "language": "python",
   "name": "python3"
  },
  "language_info": {
   "codemirror_mode": {
    "name": "ipython",
    "version": 3
   },
   "file_extension": ".py",
   "mimetype": "text/x-python",
   "name": "python",
   "nbconvert_exporter": "python",
   "pygments_lexer": "ipython3",
   "version": "3.8.0"
  }
 },
 "nbformat": 4,
 "nbformat_minor": 2
}
