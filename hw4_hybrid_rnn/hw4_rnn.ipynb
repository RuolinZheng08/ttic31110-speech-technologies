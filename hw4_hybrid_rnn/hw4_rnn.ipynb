{
 "cells": [
  {
   "cell_type": "code",
   "execution_count": 1,
   "metadata": {},
   "outputs": [
    {
     "data": {
      "text/plain": [
       "{'divide': 'warn', 'invalid': 'warn', 'over': 'warn', 'under': 'ignore'}"
      ]
     },
     "execution_count": 1,
     "metadata": {},
     "output_type": "execute_result"
    }
   ],
   "source": [
    "import numpy as np\n",
    "import pickle as pkl\n",
    "import time\n",
    "import json\n",
    "import random\n",
    "import torch\n",
    "from torch import nn\n",
    "import editdistance\n",
    "import os\n",
    "import matplotlib.pyplot as plt\n",
    "np.seterr(divide='ignore') # masks log(0) errors"
   ]
  },
  {
   "cell_type": "code",
   "execution_count": 2,
   "metadata": {},
   "outputs": [],
   "source": [
    "from rnn.loader import make_loader, Preprocessor\n",
    "from rnn.model import Seq2Seq\n",
    "from rnn.model import LinearND #Hint: this is useful when defining the modified attention mechanism"
   ]
  },
  {
   "cell_type": "markdown",
   "metadata": {},
   "source": [
    "With the default config, you can get 10-15% dev WER within 20 epochs. Each epoch will take 5 secs on a GPU and 10 secs on CPU"
   ]
  },
  {
   "cell_type": "code",
   "execution_count": 3,
   "metadata": {},
   "outputs": [],
   "source": [
    "class Attention(nn.Module):\n",
    "    def __init__(self, enc_dim, dec_dim, attn_dim=None):\n",
    "        \"\"\"\n",
    "        Initialize Attention.\n",
    "        ----\n",
    "        enc_dim: encoder hidden state dimension\n",
    "        dec_dim: decoder hidden state dimension\n",
    "        attn_dim: attention feature dimension\n",
    "        \"\"\"\n",
    "        super(Attention, self).__init__()\n",
    "        if enc_dim == dec_dim and attn_dim is None:\n",
    "            self.use_default = True\n",
    "        elif attn_dim is not None:\n",
    "            self.use_default = False\n",
    "            self.attn_dim = attn_dim\n",
    "            self.enc_dim = enc_dim\n",
    "            self.dec_dim = dec_dim\n",
    "            self.v = LinearND(self.attn_dim, 1, bias=False)\n",
    "            self.W1 = LinearND(self.enc_dim, self.attn_dim, bias=False)\n",
    "            self.W2 = nn.Linear(self.dec_dim, self.attn_dim, bias=False)\n",
    "        else:\n",
    "            raise ValueError(\"invalid args (enc_dim={}, dec_dim={}, attn_dim={})\".format(enc_dim, dec_dim, attn_dim))\n",
    "\n",
    "    def forward(self, eh, dhx, ax=None):\n",
    "        \"\"\"\n",
    "        Forward Attention method.\n",
    "        ----\n",
    "        eh (FloatTensor): the encoder hidden state with\n",
    "            shape (batch size, time, hidden dimension).\n",
    "        dhx (FloatTensor): one time step of the decoder hidden\n",
    "            state with shape (batch size, 1, hidden dimension).\n",
    "        ax (FloatTensor): one time step of the attention vector.\n",
    "        ----\n",
    "        Returns the context vectors (sx) and the corresponding attention alignment (ax)\n",
    "        \"\"\"\n",
    "        \n",
    "        if self.use_default:\n",
    "            # Compute inner product of decoder slice with every encoder slice\n",
    "            pax = torch.sum(eh * dhx, dim=2)\n",
    "            ax = nn.functional.softmax(pax, dim=1)\n",
    "            sx = torch.sum(eh * ax.unsqueeze(2), dim=1, keepdim=True)\n",
    "        else:\n",
    "            # TODO: Modify the attention mechanism\n",
    "            pax = self.v.forward(torch.tanh(self.W1.forward(eh) + self.W2.forward(dhx)))\n",
    "            ax = nn.functional.softmax(pax, dim=1)\n",
    "            sx = torch.sum(eh * ax, dim=1, keepdim=True)\n",
    "            ax = ax.squeeze(-1)\n",
    "        return sx, ax"
   ]
  },
  {
   "cell_type": "code",
   "execution_count": 4,
   "metadata": {},
   "outputs": [],
   "source": [
    "def compute_wer(results):\n",
    "    \"\"\"\n",
    "    Compute the word-error-rate (WER).\n",
    "    \"\"\"\n",
    "    dist = 0.\n",
    "    for label, pred in results:\n",
    "        dist += editdistance.eval(label, pred)\n",
    "    total = sum(len(label) for label, _ in results)\n",
    "    return dist / total\n",
    "\n",
    "def train(model, optimizer, ldr):\n",
    "    \"\"\"\n",
    "    Train the model for an epoch (one pass over the training data)\n",
    "    ----\n",
    "    model: Seq2Seq model instance\n",
    "    optimizer: torch.nn optimizer instance\n",
    "    ldr: data loader instance\n",
    "    ----\n",
    "    Returns the average loss over an epoch\n",
    "    \"\"\"\n",
    "    model.train()\n",
    "    model.scheduled_sampling = model.sample_prob != 0\n",
    "    \n",
    "    losses = []\n",
    "    \n",
    "    for ii, (inputs, labels) in enumerate(ldr):\n",
    "        optimizer.zero_grad()\n",
    "        x, y = model.collate(inputs, labels)\n",
    "        loss = model.loss(x, y)\n",
    "        loss.backward()\n",
    "        grad_norm = torch.nn.utils.clip_grad_norm_(model.parameters(), max_norm=5)\n",
    "        optimizer.step()\n",
    "        losses.append(loss.data.item())\n",
    "        \n",
    "    return np.mean(losses)\n",
    "\n",
    "def evaluate(model, ldr, preproc):\n",
    "    \"\"\"\n",
    "    Evaluate the model (on either dev or test).\n",
    "    ----\n",
    "    model: Seq2Seq model instance\n",
    "    ldr: data loader instance\n",
    "    preproc: preprocessor instance\n",
    "    ----\n",
    "    Returns the average loss and wer on a given dataset\n",
    "    \"\"\"\n",
    "    model.eval()\n",
    "    model.scheduled_sampling = False\n",
    "    \n",
    "    losses, hyps, refs = [], [], []\n",
    "    \n",
    "    with torch.no_grad():\n",
    "        for inputs, labels in ldr:\n",
    "            x, y = model.collate(inputs, labels)\n",
    "            # get loss\n",
    "            loss = model.loss(x, y)\n",
    "            losses.append(loss.data.item())\n",
    "            # get predictions\n",
    "            pred = model.infer(x, y)\n",
    "            hyps.extend(pred)\n",
    "            refs.extend(labels)\n",
    "\n",
    "    results = [(preproc.decode(r), preproc.decode(h)) for r, h in zip(refs, hyps)]\n",
    "    \n",
    "    return np.mean(losses), compute_wer(results)"
   ]
  },
  {
   "cell_type": "code",
   "execution_count": 13,
   "metadata": {},
   "outputs": [],
   "source": [
    "# global config, if not overridden\n",
    "with open(\"rnn/config.json\", \"r\") as fid:                                                                                                                                                                                                                                      \n",
    "    config = json.load(fid)\n",
    "\n",
    "random.seed(config[\"seed\"])\n",
    "np.random.seed(config[\"seed\"])\n",
    "torch.manual_seed(config[\"seed\"])\n",
    "\n",
    "use_cuda = torch.cuda.is_available()\n",
    "if use_cuda:\n",
    "    torch.backends.cudnn.deterministic = True\n",
    "\n",
    "data_cfg = config[\"data\"]\n",
    "model_cfg = config[\"model\"]\n",
    "opt_cfg = config[\"optimizer\"]"
   ]
  },
  {
   "cell_type": "code",
   "execution_count": 6,
   "metadata": {},
   "outputs": [],
   "source": [
    "# data\n",
    "preproc = Preprocessor(data_cfg[\"train_set\"], start_and_end=data_cfg[\"start_and_end\"])\n",
    "\n",
    "train_ldr = make_loader(data_cfg[\"train_set\"], preproc, opt_cfg[\"batch_size\"])\n",
    "dev_ldr = make_loader(data_cfg[\"dev_set\"], preproc, opt_cfg[\"batch_size\"])"
   ]
  },
  {
   "cell_type": "code",
   "execution_count": 7,
   "metadata": {},
   "outputs": [],
   "source": [
    "# TODO: tune on the dev set\n",
    "# may want to set up function or chunk of code here to perform tuning\n",
    "# call train on training set, call evaluate on dev, save/plot/compare results\n",
    "\n",
    "# global training util\n",
    "global_best_wer = float(\"inf\")\n",
    "global_best_fn = 'best.pkl'\n",
    "log = \"epoch {:4} | train_loss={:6.2f}, dev_loss={:6.2f} with {:6.2f}% WER ({:6.2f}s elapsed)\""
   ]
  },
  {
   "cell_type": "code",
   "execution_count": 8,
   "metadata": {},
   "outputs": [],
   "source": [
    "def plot_wer_loss(title, plotting, xlabel='# epochs', xticks=None):\n",
    "    plt.suptitle(title)\n",
    "    plt.subplot(1, 2, 1)\n",
    "    if xticks is None:\n",
    "        plt.plot(plotting['WER'], label='WER')\n",
    "    else:\n",
    "        plt.plot(xticks, plotting['WER'], label='WER')\n",
    "    plt.legend()\n",
    "    plt.xlabel(xlabel)\n",
    "    plt.ylabel('WER')\n",
    "    plt.subplot(1, 2, 2)\n",
    "    if xticks is None:\n",
    "        plt.plot(plotting['dev_loss'], label='dev_loss')\n",
    "        plt.plot(plotting['train_loss'], label='train_loss')\n",
    "    else:\n",
    "        plt.plot(xticks, plotting['dev_loss'], label='dev_loss')\n",
    "        plt.plot(xticks, plotting['train_loss'], label='train_loss')\n",
    "    \n",
    "    plt.legend()\n",
    "    plt.xlabel(xlabel)\n",
    "    plt.ylabel('loss')\n",
    "    plt.savefig('figures/' + title + '.png')\n",
    "    plt.show()"
   ]
  },
  {
   "cell_type": "code",
   "execution_count": 19,
   "metadata": {},
   "outputs": [],
   "source": [
    "def tune(hyperparams):\n",
    "    \"\"\"hyperparams is a dict object\"\"\"\n",
    "    # override global with hyperparams passed into this function\n",
    "    attn_dim = hyperparams.get('attn_dim', None)\n",
    "    lr = hyperparams.get('lr', opt_cfg[\"learning_rate\"])\n",
    "    enc_hid = hyperparams.get('enc_hid', model_cfg[\"encoder\"][\"hidden_size\"])\n",
    "    dec_hid = hyperparams.get('dec_hid', model_cfg[\"decoder\"][\"hidden_size\"])\n",
    "    samp_prob = hyperparams.get('samp_prob', config['model']['sample_prob'])\n",
    "    \n",
    "    curr_config = 'at{}+lr{}+enc{}+dec{}+sp{}'.format(attn_dim, lr, enc_hid, dec_hid, \n",
    "                                                          samp_prob)\n",
    "    print('\\nTrain RNN with config:', curr_config)\n",
    "    \n",
    "    # model initialization\n",
    "    attention = Attention(enc_hid, dec_hid, attn_dim=attn_dim)\n",
    "    \n",
    "    model = Seq2Seq(preproc.input_dim, preproc.vocab_size, attention, model_cfg)\n",
    "    model = model.cuda() if use_cuda else model.cpu()\n",
    "    model.sample_prob = samp_prob\n",
    "    \n",
    "    optimizer = torch.optim.SGD(model.parameters(), lr=lr, momentum=opt_cfg[\"momentum\"])\n",
    "    \n",
    "    curr_best_wer = float('inf') # parallel to global_best_wer\n",
    "    plotting = {'WER': [], 'train_loss': [], 'dev_loss': []}\n",
    "    \n",
    "    for ep in range(opt_cfg[\"max_epochs\"]):\n",
    "        start = time.time()\n",
    "        train_loss = train(model, optimizer, train_ldr)    \n",
    "        dev_loss, dev_wer = evaluate(model, dev_ldr, preproc)\n",
    "        print(log.format(ep + 1, train_loss, dev_loss, dev_wer * 100., time.time() - start))\n",
    "        \n",
    "        plotting['WER'].append(dev_wer)\n",
    "        plotting['train_loss'].append(train_loss)\n",
    "        plotting['dev_loss'].append(dev_loss)\n",
    "        \n",
    "#         torch.save(model, os.path.join(config[\"save_path\"], curr_config + '_' + str(ep)))\n",
    "        # is this curr model best?\n",
    "        if dev_wer < curr_best_wer:\n",
    "            curr_best_wer = dev_wer\n",
    "            torch.save(model, os.path.join(config[\"save_path\"], curr_config))\n",
    "        # is this global best?\n",
    "        global global_best_wer\n",
    "        if dev_wer < global_best_wer:\n",
    "            global_best_wer = dev_wer\n",
    "            torch.save(model, os.path.join(config[\"save_path\"], global_best_fn))\n",
    "        \n",
    "    return curr_config, plotting"
   ]
  },
  {
   "cell_type": "markdown",
   "metadata": {},
   "source": [
    "### (e) i. Plot the loss and word error rate (WER) vs. epoch on train and dev for the default attention model"
   ]
  },
  {
   "cell_type": "code",
   "execution_count": 15,
   "metadata": {},
   "outputs": [
    {
     "name": "stdout",
     "output_type": "stream",
     "text": [
      "\n",
      "Train RNN with config: atNone+b10+lr1+enc16+dec16+sp0.9\n",
      "epoch    1 | train_loss=  5.43, dev_loss=  4.35 with  77.68% WER ( 12.93s elapsed)\n",
      "epoch    2 | train_loss=  4.06, dev_loss=  3.90 with  71.96% WER ( 12.94s elapsed)\n",
      "epoch    3 | train_loss=  3.23, dev_loss=  3.38 with  62.68% WER ( 12.91s elapsed)\n",
      "epoch    4 | train_loss=  2.89, dev_loss=  2.83 with  49.46% WER ( 12.93s elapsed)\n",
      "epoch    5 | train_loss=  2.50, dev_loss=  2.87 with  48.04% WER ( 12.94s elapsed)\n",
      "epoch    6 | train_loss=  1.82, dev_loss=  1.50 with  24.82% WER ( 13.09s elapsed)\n",
      "epoch    7 | train_loss=  2.02, dev_loss=  2.22 with  39.29% WER ( 12.95s elapsed)\n",
      "epoch    8 | train_loss=  1.98, dev_loss=  2.00 with  33.75% WER ( 12.96s elapsed)\n",
      "epoch    9 | train_loss=  1.81, dev_loss=  1.35 with  21.79% WER ( 13.03s elapsed)\n",
      "epoch   10 | train_loss=  1.34, dev_loss=  1.05 with  17.32% WER ( 12.93s elapsed)\n",
      "epoch   11 | train_loss=  0.87, dev_loss=  0.94 with  15.89% WER ( 12.99s elapsed)\n",
      "epoch   12 | train_loss=  0.83, dev_loss=  1.20 with  20.71% WER ( 13.01s elapsed)\n",
      "epoch   13 | train_loss=  1.11, dev_loss=  1.25 with  21.43% WER ( 13.17s elapsed)\n",
      "epoch   14 | train_loss=  1.26, dev_loss=  1.19 with  20.89% WER ( 13.01s elapsed)\n",
      "epoch   15 | train_loss=  0.94, dev_loss=  1.08 with  15.18% WER ( 13.24s elapsed)\n",
      "epoch   16 | train_loss=  1.11, dev_loss=  1.25 with  19.82% WER ( 13.12s elapsed)\n",
      "epoch   17 | train_loss=  0.81, dev_loss=  1.21 with  20.89% WER ( 12.98s elapsed)\n",
      "epoch   18 | train_loss=  0.72, dev_loss=  0.70 with  11.79% WER ( 12.99s elapsed)\n",
      "epoch   19 | train_loss=  0.52, dev_loss=  0.73 with  10.54% WER ( 12.92s elapsed)\n",
      "epoch   20 | train_loss=  0.53, dev_loss=  0.94 with  16.25% WER ( 12.95s elapsed)\n"
     ]
    },
    {
     "data": {
      "image/png": "[encoded data removed]",
      "text/plain": [
       "<Figure size 432x288 with 2 Axes>"
      ]
     },
     "metadata": {
      "needs_background": "light"
     },
     "output_type": "display_data"
    }
   ],
   "source": [
    "# default\n",
    "plt_title, plotting = tune({})\n",
    "plot_wer_loss(plt_title, plotting)"
   ]
  },
  {
   "cell_type": "markdown",
   "metadata": {},
   "source": [
    "### (e) ii. For models trained with scheduled sampling rates 0.3, 0.6, 0.9, plot loss and WER vs. sampling probability."
   ]
  },
  {
   "cell_type": "code",
   "execution_count": 20,
   "metadata": {},
   "outputs": [],
   "source": [
    "def experiment(param_name, param_range):\n",
    "    data = {'WER': [], 'dev_loss': [], 'train_loss': []}\n",
    "    for param in param_range:\n",
    "        hp = {param_name: param}\n",
    "        _, plotting = tune(hp)\n",
    "        # record best WER/loss\n",
    "        idx = np.argmin(plotting['WER'])\n",
    "        for k in data:\n",
    "            data[k].append(plotting[k][idx])\n",
    "    #     plot_wer_loss(best, plotting)\n",
    "    plot_wer_loss(param_name, data, xlabel=param_name, xticks=param_range)"
   ]
  },
  {
   "cell_type": "code",
   "execution_count": 21,
   "metadata": {},
   "outputs": [
    {
     "name": "stdout",
     "output_type": "stream",
     "text": [
      "\n",
      "Train RNN with config: atNone+lr1+enc16+dec16+sp0.9\n",
      "epoch    1 | train_loss=  5.23, dev_loss=  4.20 with  77.50% WER ( 12.99s elapsed)\n",
      "epoch    2 | train_loss=  3.85, dev_loss=  3.97 with  71.96% WER ( 12.94s elapsed)\n",
      "epoch    3 | train_loss=  3.38, dev_loss=  3.30 with  57.32% WER ( 13.03s elapsed)\n",
      "epoch    4 | train_loss=  3.14, dev_loss=  2.91 with  53.57% WER ( 13.04s elapsed)\n",
      "epoch    5 | train_loss=  2.77, dev_loss=  2.44 with  47.14% WER ( 12.95s elapsed)\n",
      "epoch    6 | train_loss=  2.36, dev_loss=  2.17 with  39.11% WER ( 12.97s elapsed)\n",
      "epoch    7 | train_loss=  2.09, dev_loss=  1.74 with  25.54% WER ( 12.97s elapsed)\n",
      "epoch    8 | train_loss=  1.17, dev_loss=  1.14 with  16.79% WER ( 12.92s elapsed)\n",
      "epoch    9 | train_loss=  0.92, dev_loss=  1.85 with  30.89% WER ( 12.87s elapsed)\n",
      "epoch   10 | train_loss=  1.16, dev_loss=  1.49 with  24.82% WER ( 12.88s elapsed)\n",
      "epoch   11 | train_loss=  1.12, dev_loss=  1.13 with  17.68% WER ( 12.92s elapsed)\n",
      "epoch   12 | train_loss=  0.64, dev_loss=  0.91 with  14.29% WER ( 12.89s elapsed)\n",
      "epoch   13 | train_loss=  0.36, dev_loss=  0.79 with  12.50% WER ( 13.05s elapsed)\n",
      "epoch   14 | train_loss=  0.43, dev_loss=  0.72 with  10.89% WER ( 13.12s elapsed)\n",
      "epoch   15 | train_loss=  0.24, dev_loss=  0.63 with  10.54% WER ( 12.93s elapsed)\n",
      "epoch   16 | train_loss=  0.33, dev_loss=  0.70 with  11.96% WER ( 12.93s elapsed)\n",
      "epoch   17 | train_loss=  0.48, dev_loss=  0.94 with  13.93% WER ( 13.06s elapsed)\n",
      "epoch   18 | train_loss=  0.42, dev_loss=  0.61 with   8.93% WER ( 12.91s elapsed)\n",
      "epoch   19 | train_loss=  0.23, dev_loss=  0.46 with   7.86% WER ( 12.99s elapsed)\n",
      "epoch   20 | train_loss=  0.20, dev_loss=  0.49 with   6.96% WER ( 13.12s elapsed)\n",
      "\n",
      "Train RNN with config: atNone+lr1+enc16+dec16+sp0.9\n",
      "epoch    1 | train_loss=  5.79, dev_loss=  5.02 with  90.89% WER ( 13.02s elapsed)\n",
      "epoch    2 | train_loss=  4.18, dev_loss=  3.74 with  66.61% WER ( 13.06s elapsed)\n",
      "epoch    3 | train_loss=  3.51, dev_loss=  3.32 with  59.82% WER ( 12.92s elapsed)\n",
      "epoch    4 | train_loss=  2.66, dev_loss=  2.00 with  33.93% WER ( 12.96s elapsed)\n",
      "epoch    5 | train_loss=  1.71, dev_loss=  1.79 with  29.46% WER ( 13.04s elapsed)\n",
      "epoch    6 | train_loss=  1.37, dev_loss=  1.52 with  23.75% WER ( 12.93s elapsed)\n",
      "epoch    7 | train_loss=  1.03, dev_loss=  1.25 with  22.14% WER ( 12.93s elapsed)\n",
      "epoch    8 | train_loss=  1.13, dev_loss=  1.12 with  20.18% WER ( 13.02s elapsed)\n",
      "epoch    9 | train_loss=  0.90, dev_loss=  1.28 with  19.82% WER ( 12.96s elapsed)\n",
      "epoch   10 | train_loss=  0.77, dev_loss=  1.34 with  23.57% WER ( 13.09s elapsed)\n",
      "epoch   11 | train_loss=  0.87, dev_loss=  1.10 with  14.64% WER ( 12.95s elapsed)\n",
      "epoch   12 | train_loss=  0.84, dev_loss=  1.03 with  15.71% WER ( 12.98s elapsed)\n",
      "epoch   13 | train_loss=  0.53, dev_loss=  0.78 with  14.11% WER ( 12.95s elapsed)\n",
      "epoch   14 | train_loss=  0.52, dev_loss=  0.88 with  13.21% WER ( 12.99s elapsed)\n",
      "epoch   15 | train_loss=  0.36, dev_loss=  0.66 with   9.29% WER ( 12.97s elapsed)\n",
      "epoch   16 | train_loss=  0.25, dev_loss=  0.60 with   9.64% WER ( 13.09s elapsed)\n",
      "epoch   17 | train_loss=  0.30, dev_loss=  0.72 with  11.96% WER ( 13.08s elapsed)\n",
      "epoch   18 | train_loss=  0.22, dev_loss=  0.67 with   8.75% WER ( 13.03s elapsed)\n",
      "epoch   19 | train_loss=  0.11, dev_loss=  0.64 with   7.68% WER ( 13.01s elapsed)\n",
      "epoch   20 | train_loss=  0.07, dev_loss=  0.46 with   6.43% WER ( 13.05s elapsed)\n",
      "\n",
      "Train RNN with config: atNone+lr1+enc16+dec16+sp0.9\n",
      "epoch    1 | train_loss=  5.49, dev_loss=  4.41 with  81.25% WER ( 13.01s elapsed)\n",
      "epoch    2 | train_loss=  4.27, dev_loss=  3.88 with  69.64% WER ( 13.06s elapsed)\n",
      "epoch    3 | train_loss=  3.63, dev_loss=  3.36 with  63.04% WER ( 13.00s elapsed)\n",
      "epoch    4 | train_loss=  3.13, dev_loss=  2.90 with  54.11% WER ( 13.05s elapsed)\n",
      "epoch    5 | train_loss=  2.43, dev_loss=  1.84 with  31.25% WER ( 13.05s elapsed)\n",
      "epoch    6 | train_loss=  1.84, dev_loss=  1.63 with  26.07% WER ( 13.11s elapsed)\n",
      "epoch    7 | train_loss=  1.06, dev_loss=  1.25 with  20.18% WER ( 13.03s elapsed)\n",
      "epoch    8 | train_loss=  0.81, dev_loss=  1.77 with  23.75% WER ( 13.00s elapsed)\n",
      "epoch    9 | train_loss=  0.70, dev_loss=  1.11 with  15.54% WER ( 13.03s elapsed)\n",
      "epoch   10 | train_loss=  0.65, dev_loss=  0.68 with  11.25% WER ( 13.13s elapsed)\n",
      "epoch   11 | train_loss=  0.45, dev_loss=  0.67 with  11.25% WER ( 13.04s elapsed)\n",
      "epoch   12 | train_loss=  0.36, dev_loss=  0.63 with  10.00% WER ( 13.18s elapsed)\n",
      "epoch   13 | train_loss=  0.45, dev_loss=  1.14 with  19.82% WER ( 13.01s elapsed)\n",
      "epoch   14 | train_loss=  0.63, dev_loss=  0.63 with  10.54% WER ( 13.01s elapsed)\n",
      "epoch   15 | train_loss=  0.30, dev_loss=  0.92 with  15.00% WER ( 13.10s elapsed)\n",
      "epoch   16 | train_loss=  0.19, dev_loss=  0.48 with   7.50% WER ( 13.20s elapsed)\n",
      "epoch   17 | train_loss=  0.12, dev_loss=  0.53 with  10.18% WER ( 13.15s elapsed)\n",
      "epoch   18 | train_loss=  0.11, dev_loss=  0.50 with   8.75% WER ( 13.30s elapsed)\n",
      "epoch   19 | train_loss=  0.53, dev_loss=  2.63 with  43.75% WER ( 13.01s elapsed)\n",
      "epoch   20 | train_loss=  1.25, dev_loss=  1.42 with  26.07% WER ( 13.09s elapsed)\n"
     ]
    },
    {
     "data": {
      "image/png": "[encoded data removed]",
      "text/plain": [
       "<Figure size 432x288 with 2 Axes>"
      ]
     },
     "metadata": {
      "needs_background": "light"
     },
     "output_type": "display_data"
    }
   ],
   "source": [
    "experiment('sample_prob', [0.3, 0.6, 0.9])"
   ]
  },
  {
   "cell_type": "markdown",
   "metadata": {},
   "source": [
    "## (e) iii. For models trained with learning rate 0.1, 0.5, 1, plot loss and WER vs. sampling probability."
   ]
  },
  {
   "cell_type": "code",
   "execution_count": 22,
   "metadata": {},
   "outputs": [
    {
     "name": "stdout",
     "output_type": "stream",
     "text": [
      "\n",
      "Train RNN with config: atNone+lr0.1+enc16+dec16+sp0.9\n",
      "epoch    1 | train_loss=  5.91, dev_loss=  6.93 with  91.43% WER ( 12.99s elapsed)\n",
      "epoch    2 | train_loss=  5.25, dev_loss=  5.80 with  89.46% WER ( 13.03s elapsed)\n",
      "epoch    3 | train_loss=  4.88, dev_loss=  5.15 with  83.39% WER ( 13.08s elapsed)\n",
      "epoch    4 | train_loss=  4.60, dev_loss=  4.46 with  78.57% WER ( 13.10s elapsed)\n",
      "epoch    5 | train_loss=  4.20, dev_loss=  4.15 with  73.75% WER ( 13.08s elapsed)\n",
      "epoch    6 | train_loss=  3.96, dev_loss=  4.02 with  74.64% WER ( 13.08s elapsed)\n",
      "epoch    7 | train_loss=  3.76, dev_loss=  3.92 with  71.61% WER ( 12.98s elapsed)\n",
      "epoch    8 | train_loss=  3.62, dev_loss=  3.71 with  67.68% WER ( 12.92s elapsed)\n",
      "epoch    9 | train_loss=  3.46, dev_loss=  3.67 with  68.93% WER ( 12.96s elapsed)\n",
      "epoch   10 | train_loss=  3.35, dev_loss=  3.50 with  64.11% WER ( 13.11s elapsed)\n",
      "epoch   11 | train_loss=  3.23, dev_loss=  3.33 with  61.61% WER ( 12.99s elapsed)\n",
      "epoch   12 | train_loss=  3.14, dev_loss=  3.22 with  59.46% WER ( 12.94s elapsed)\n",
      "epoch   13 | train_loss=  3.00, dev_loss=  3.06 with  56.07% WER ( 12.93s elapsed)\n",
      "epoch   14 | train_loss=  2.93, dev_loss=  2.98 with  55.00% WER ( 12.91s elapsed)\n",
      "epoch   15 | train_loss=  2.71, dev_loss=  2.69 with  48.75% WER ( 13.25s elapsed)\n",
      "epoch   16 | train_loss=  2.58, dev_loss=  2.56 with  43.75% WER ( 13.23s elapsed)\n",
      "epoch   17 | train_loss=  2.34, dev_loss=  2.52 with  43.75% WER ( 12.95s elapsed)\n",
      "epoch   18 | train_loss=  2.15, dev_loss=  2.46 with  41.79% WER ( 12.97s elapsed)\n",
      "epoch   19 | train_loss=  2.01, dev_loss=  2.09 with  37.32% WER ( 12.93s elapsed)\n",
      "epoch   20 | train_loss=  1.71, dev_loss=  2.07 with  35.36% WER ( 12.92s elapsed)\n",
      "\n",
      "Train RNN with config: atNone+lr0.5+enc16+dec16+sp0.9\n",
      "epoch    1 | train_loss=  5.55, dev_loss=  5.19 with  91.43% WER ( 12.92s elapsed)\n",
      "epoch    2 | train_loss=  4.65, dev_loss=  4.22 with  73.04% WER ( 12.97s elapsed)\n",
      "epoch    3 | train_loss=  4.07, dev_loss=  4.04 with  70.00% WER ( 12.96s elapsed)\n",
      "epoch    4 | train_loss=  3.78, dev_loss=  3.70 with  66.79% WER ( 12.90s elapsed)\n",
      "epoch    5 | train_loss=  3.46, dev_loss=  3.30 with  56.79% WER ( 12.96s elapsed)\n",
      "epoch    6 | train_loss=  3.10, dev_loss=  3.31 with  59.46% WER ( 13.00s elapsed)\n",
      "epoch    7 | train_loss=  2.51, dev_loss=  2.23 with  41.07% WER ( 12.90s elapsed)\n",
      "epoch    8 | train_loss=  1.86, dev_loss=  1.58 with  27.14% WER ( 13.02s elapsed)\n",
      "epoch    9 | train_loss=  1.64, dev_loss=  1.21 with  19.82% WER ( 13.06s elapsed)\n",
      "epoch   10 | train_loss=  0.90, dev_loss=  1.11 with  17.86% WER ( 13.09s elapsed)\n",
      "epoch   11 | train_loss=  0.75, dev_loss=  0.90 with  14.46% WER ( 12.94s elapsed)\n",
      "epoch   12 | train_loss=  0.58, dev_loss=  0.78 with  11.61% WER ( 12.97s elapsed)\n",
      "epoch   13 | train_loss=  0.41, dev_loss=  0.94 with  16.07% WER ( 12.95s elapsed)\n",
      "epoch   14 | train_loss=  0.39, dev_loss=  0.60 with   8.39% WER ( 12.97s elapsed)\n",
      "epoch   15 | train_loss=  0.30, dev_loss=  0.85 with  12.32% WER ( 12.99s elapsed)\n",
      "epoch   16 | train_loss=  0.28, dev_loss=  0.59 with   8.93% WER ( 12.97s elapsed)\n",
      "epoch   17 | train_loss=  0.16, dev_loss=  0.66 with   9.29% WER ( 12.99s elapsed)\n",
      "epoch   18 | train_loss=  0.23, dev_loss=  0.94 with  14.64% WER ( 13.11s elapsed)\n",
      "epoch   19 | train_loss=  0.44, dev_loss=  0.80 with  12.68% WER ( 12.99s elapsed)\n",
      "epoch   20 | train_loss=  0.20, dev_loss=  0.60 with   8.75% WER ( 12.93s elapsed)\n",
      "\n",
      "Train RNN with config: atNone+lr1+enc16+dec16+sp0.9\n",
      "epoch    1 | train_loss=  5.86, dev_loss=  5.06 with  81.79% WER ( 12.91s elapsed)\n",
      "epoch    2 | train_loss=  4.38, dev_loss=  4.02 with  74.29% WER ( 12.94s elapsed)\n",
      "epoch    3 | train_loss=  3.79, dev_loss=  3.86 with  69.82% WER ( 13.01s elapsed)\n",
      "epoch    4 | train_loss=  3.29, dev_loss=  3.01 with  55.36% WER ( 13.07s elapsed)\n",
      "epoch    5 | train_loss=  2.66, dev_loss=  2.87 with  53.04% WER ( 13.18s elapsed)\n",
      "epoch    6 | train_loss=  2.14, dev_loss=  1.54 with  25.54% WER ( 13.27s elapsed)\n",
      "epoch    7 | train_loss=  1.40, dev_loss=  1.41 with  24.64% WER ( 13.05s elapsed)\n",
      "epoch    8 | train_loss=  1.08, dev_loss=  0.88 with  15.00% WER ( 13.03s elapsed)\n",
      "epoch    9 | train_loss=  0.60, dev_loss=  0.82 with  13.04% WER ( 12.96s elapsed)\n",
      "epoch   10 | train_loss=  0.73, dev_loss=  2.43 with  38.04% WER ( 12.99s elapsed)\n",
      "epoch   11 | train_loss=  0.99, dev_loss=  0.97 with  16.25% WER ( 12.91s elapsed)\n",
      "epoch   12 | train_loss=  0.72, dev_loss=  0.75 with  11.07% WER ( 13.08s elapsed)\n",
      "epoch   13 | train_loss=  0.48, dev_loss=  1.00 with  14.46% WER ( 12.96s elapsed)\n",
      "epoch   14 | train_loss=  0.49, dev_loss=  0.79 with  11.43% WER ( 13.00s elapsed)\n",
      "epoch   15 | train_loss=  0.56, dev_loss=  0.62 with   8.75% WER ( 13.01s elapsed)\n",
      "epoch   16 | train_loss=  0.30, dev_loss=  0.60 with   9.11% WER ( 13.13s elapsed)\n",
      "epoch   17 | train_loss=  0.45, dev_loss=  0.93 with  15.36% WER ( 13.04s elapsed)\n",
      "epoch   18 | train_loss=  0.85, dev_loss=  0.76 with  13.04% WER ( 13.00s elapsed)\n",
      "epoch   19 | train_loss=  0.75, dev_loss=  1.16 with  19.46% WER ( 12.98s elapsed)\n",
      "epoch   20 | train_loss=  0.95, dev_loss=  1.24 with  18.93% WER ( 12.96s elapsed)\n"
     ]
    },
    {
     "data": {
      "image/png": "[encoded data removed]",
      "text/plain": [
       "<Figure size 432x288 with 2 Axes>"
      ]
     },
     "metadata": {
      "needs_background": "light"
     },
     "output_type": "display_data"
    }
   ],
   "source": [
    "experiment('lr', [0.1, 0.5, 1])"
   ]
  },
  {
   "cell_type": "markdown",
   "metadata": {},
   "source": [
    "## Test on global best"
   ]
  },
  {
   "cell_type": "code",
   "execution_count": 23,
   "metadata": {},
   "outputs": [
    {
     "name": "stdout",
     "output_type": "stream",
     "text": [
      "Testing RNN\n",
      "4.29% WER (test)\n"
     ]
    }
   ],
   "source": [
    "print(\"Testing RNN\")\n",
    "test_model = torch.load(os.path.join(config[\"save_path\"], global_best_fn))\n",
    "test_ldr = make_loader(data_cfg[\"test_set\"], preproc, opt_cfg[\"batch_size\"])\n",
    "\n",
    "_, test_wer = evaluate(test_model, test_ldr, preproc)\n",
    "\n",
    "print(\"{:.2f}% WER (test)\".format(test_wer * 100.))"
   ]
  },
  {
   "cell_type": "code",
   "execution_count": null,
   "metadata": {},
   "outputs": [],
   "source": []
  }
 ],
 "metadata": {
  "kernelspec": {
   "display_name": "Python 3",
   "language": "python",
   "name": "python3"
  },
  "language_info": {
   "codemirror_mode": {
    "name": "ipython",
    "version": 3
   },
   "file_extension": ".py",
   "mimetype": "text/x-python",
   "name": "python",
   "nbconvert_exporter": "python",
   "pygments_lexer": "ipython3",
   "version": "3.8.0"
  }
 },
 "nbformat": 4,
 "nbformat_minor": 2
}
