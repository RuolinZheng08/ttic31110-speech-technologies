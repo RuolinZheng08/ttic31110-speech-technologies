{
 "cells": [
  {
   "cell_type": "code",
   "execution_count": 46,
   "metadata": {},
   "outputs": [
    {
     "data": {
      "text/plain": [
       "{'divide': 'ignore', 'over': 'warn', 'under': 'ignore', 'invalid': 'warn'}"
      ]
     },
     "execution_count": 46,
     "metadata": {},
     "output_type": "execute_result"
    }
   ],
   "source": [
    "import numpy as np\n",
    "import pickle as pkl\n",
    "import time\n",
    "import json\n",
    "import random\n",
    "import torch\n",
    "from torch import nn\n",
    "import editdistance\n",
    "import os\n",
    "np.seterr(divide='ignore') # masks log(0) errors"
   ]
  },
  {
   "cell_type": "code",
   "execution_count": 47,
   "metadata": {},
   "outputs": [],
   "source": [
    "from rnn.loader import make_loader, Preprocessor\n",
    "from rnn.model import Seq2Seq\n",
    "from rnn.model import LinearND #Hint: this is useful when defining the modified attention mechanism"
   ]
  },
  {
   "cell_type": "code",
   "execution_count": 48,
   "metadata": {},
   "outputs": [],
   "source": [
    "from itertools import product\n",
    "import matplotlib.pyplot as plt"
   ]
  },
  {
   "cell_type": "markdown",
   "metadata": {},
   "source": [
    "With the default config, you can get 10-15% dev WER within 20 epochs. Each epoch will take 5 secs on a GPU and 10 secs on CPU"
   ]
  },
  {
   "cell_type": "code",
   "execution_count": 37,
   "metadata": {},
   "outputs": [],
   "source": [
    "class Attention(nn.Module):\n",
    "    def __init__(self, enc_dim, dec_dim, attn_dim=None):\n",
    "        \"\"\"\n",
    "        Initialize Attention.\n",
    "        ----\n",
    "        enc_dim: encoder hidden state dimension\n",
    "        dec_dim: decoder hidden state dimension\n",
    "        attn_dim: attention feature dimension\n",
    "        \"\"\"\n",
    "        super(Attention, self).__init__()\n",
    "        if enc_dim == dec_dim and attn_dim is None:\n",
    "            self.use_default = True\n",
    "        elif attn_dim is not None:\n",
    "            self.use_default = False\n",
    "            self.attn_dim = attn_dim\n",
    "            self.enc_dim = enc_dim\n",
    "            self.dec_dim = dec_dim\n",
    "            self.v = LinearND(self.attn_dim, 1, bias=False)\n",
    "            self.W1 = LinearND(self.enc_dim, self.attn_dim, bias=False)\n",
    "            self.W2 = nn.Linear(self.dec_dim, self.attn_dim, bias=False)\n",
    "        else:\n",
    "            raise ValueError(\"invalid args (enc_dim={}, dec_dim={}, attn_dim={})\".format(enc_dim, dec_dim, attn_dim))\n",
    "\n",
    "    def forward(self, eh, dhx, ax=None):\n",
    "        \"\"\"\n",
    "        Forward Attention method.\n",
    "        ----\n",
    "        eh (FloatTensor): the encoder hidden state with\n",
    "            shape (batch size, time, hidden dimension).\n",
    "        dhx (FloatTensor): one time step of the decoder hidden\n",
    "            state with shape (batch size, hidden dimension).\n",
    "        ax (FloatTensor): one time step of the attention vector.\n",
    "        ----\n",
    "        Returns the context vectors (sx) and the corresponding attention alignment (ax)\n",
    "        \"\"\"\n",
    "        \n",
    "        if self.use_default:\n",
    "            # Compute inner product of decoder slice with every encoder slice\n",
    "            pax = torch.sum(eh * dhx, dim=2)\n",
    "            ax = nn.functional.softmax(pax, dim=1)\n",
    "            sx = torch.sum(eh * ax.unsqueeze(2), dim=1, keepdim=True)\n",
    "        else:\n",
    "            # TODO: Modify the attention mechanism\n",
    "            pax = torch.empty(dhx.shape)\n",
    "            pax = self.v.forward(torch.tanh(self.W1.forward(eh) + self.W2.forward(dhx)))\n",
    "            ax = nn.functional.softmax(pax, dim=1).squeeze()\n",
    "            sx = torch.sum(eh * ax.unsqueeze(2), dim=1, keepdim=True)\n",
    "\n",
    "        return sx, ax"
   ]
  },
  {
   "cell_type": "code",
   "execution_count": 8,
   "metadata": {},
   "outputs": [],
   "source": [
    "def compute_wer(results):\n",
    "    \"\"\"\n",
    "    Compute the word-error-rate (WER).\n",
    "    \"\"\"\n",
    "    dist = 0.\n",
    "    for label, pred in results:\n",
    "        dist += editdistance.eval(label, pred)\n",
    "    total = sum(len(label) for label, _ in results)\n",
    "    return dist / total\n",
    "\n",
    "def train(model, optimizer, ldr):\n",
    "    \"\"\"\n",
    "    Train the model for an epoch (one pass over the training data)\n",
    "    ----\n",
    "    model: Seq2Seq model instance\n",
    "    optimizer: torch.nn optimizer instance\n",
    "    ldr: data loader instance\n",
    "    ----\n",
    "    Returns the average loss over an epoch\n",
    "    \"\"\"\n",
    "    model.train()\n",
    "    model.scheduled_sampling = model.sample_prob != 0\n",
    "    \n",
    "    losses = []\n",
    "    \n",
    "    for ii, (inputs, labels) in enumerate(ldr):\n",
    "        optimizer.zero_grad()\n",
    "        x, y = model.collate(inputs, labels)\n",
    "        loss = model.loss(x, y)\n",
    "        loss.backward()\n",
    "        grad_norm = torch.nn.utils.clip_grad_norm_(model.parameters(), max_norm=5)\n",
    "        optimizer.step()\n",
    "        losses.append(loss.data.item())\n",
    "        \n",
    "    return np.mean(losses)\n",
    "\n",
    "def evaluate(model, ldr, preproc):\n",
    "    \"\"\"\n",
    "    Evaluate the model (on either dev or test).\n",
    "    ----\n",
    "    model: Seq2Seq model instance\n",
    "    ldr: data loader instance\n",
    "    preproc: preprocessor instance\n",
    "    ----\n",
    "    Returns the average loss and wer on a given dataset\n",
    "    \"\"\"\n",
    "    model.eval()\n",
    "    model.scheduled_sampling = False\n",
    "    \n",
    "    losses, hyps, refs = [], [], []\n",
    "    \n",
    "    with torch.no_grad():\n",
    "        for inputs, labels in ldr:\n",
    "            x, y = model.collate(inputs, labels)\n",
    "            # get loss\n",
    "            loss = model.loss(x, y)\n",
    "            losses.append(loss.data.item())\n",
    "            # get predictions\n",
    "            pred = model.infer(x, y)\n",
    "            hyps.extend(pred)\n",
    "            refs.extend(labels)\n",
    "\n",
    "    results = [(preproc.decode(r), preproc.decode(h)) for r, h in zip(refs, hyps)]\n",
    "    \n",
    "    return np.mean(losses), compute_wer(results)"
   ]
  },
  {
   "cell_type": "code",
   "execution_count": 43,
   "metadata": {},
   "outputs": [],
   "source": [
    "# TODO: tune on the dev set\n",
    "# may want to set up function or chunk of code here to perform tuning\n",
    "# call train on training set, call evaluate on dev, save/plot/compare results\n",
    "def tune(hyperparams):\n",
    "    \"\"\"hyperparams is a dict\"\"\"\n",
    "    with open(\"rnn/config.json\", \"r\") as fid:                                                                                                                                                                                                                                      \n",
    "        config = json.load(fid)\n",
    "\n",
    "    random.seed(config[\"seed\"])\n",
    "    np.random.seed(config[\"seed\"])\n",
    "    torch.manual_seed(config[\"seed\"])\n",
    "\n",
    "    use_cuda = torch.cuda.is_available()\n",
    "    if use_cuda:\n",
    "        torch.backends.cudnn.deterministic = True\n",
    "\n",
    "    data_cfg = config[\"data\"]\n",
    "    model_cfg = config[\"model\"]\n",
    "    opt_cfg = config[\"optimizer\"]\n",
    "    # fill in params, override config default if params are provided in the function\n",
    "    attention_dim = hyperparams.get('attention_dim', None)\n",
    "    batch_size = hyperparams.get('batch_size', opt_cfg[\"batch_size\"])\n",
    "    learning_rate = hyperparams.get('learning_rate', opt_cfg[\"learning_rate\"])\n",
    "    enc_hidden_size = hyperparams.get('enc_hidden_size', model_cfg[\"encoder\"][\"hidden_size\"])\n",
    "    dec_hidden_size = hyperparams.get('dec_hidden_size', model_cfg[\"decoder\"][\"hidden_size\"])\n",
    "    max_epochs = hyperparams.get('max_epochs', opt_cfg[\"max_epochs\"])\n",
    "    \n",
    "    preproc = Preprocessor(data_cfg[\"train_set\"], start_and_end=data_cfg[\"start_and_end\"])\n",
    "\n",
    "    train_ldr = make_loader(data_cfg[\"train_set\"], preproc, batch_size)\n",
    "    dev_ldr = make_loader(data_cfg[\"dev_set\"], preproc, batch_size)\n",
    "    \n",
    "    attention = Attention(enc_hidden_size, dec_hidden_size, attention_dim)\n",
    "    model = Seq2Seq(preproc.input_dim, preproc.vocab_size, attention, model_cfg)\n",
    "    model = model.cuda() if use_cuda else model.cpu()\n",
    "    # sampling prob\n",
    "    model.sample_prob = hyperparams.get('sample_prob', config['model']['sample_prob'])\n",
    "    meta = '+'.join([str(elm) for elm in [attention_dim, batch_size, learning_rate, enc_hidden_size, \n",
    "                     dec_hidden_size, max_epochs, np.round(model.sample_prob, 2)]])\n",
    "    print('Model Configuration (att, batch, lr, enc_hid, dec_hid, ep, sp):', meta)\n",
    "    \n",
    "    optimizer = torch.optim.SGD(model.parameters(), lr=learning_rate, momentum=opt_cfg[\"momentum\"])\n",
    "\n",
    "    log=\"epoch {:4} | train_loss={:6.2f}, dev_loss={:6.2f} with {:6.2f}% WER ({:6.2f}s elapsed)\"\n",
    "    print(\"Training RNN\")\n",
    "    best_so_far = float(\"inf\")\n",
    "    \n",
    "    plotting = {'WER': [], 'train_loss': [], 'dev_loss': []}\n",
    "    for ep in range(max_epochs):\n",
    "        start = time.time()\n",
    "\n",
    "        train_loss = train(model, optimizer, train_ldr)    \n",
    "        dev_loss, dev_wer = evaluate(model, dev_ldr, preproc)\n",
    "        \n",
    "        plotting['WER'].append(dev_wer)\n",
    "        plotting['train_loss'].append(train_loss)\n",
    "        plotting['dev_loss'].append(dev_loss)\n",
    "        print(log.format(ep + 1, train_loss, dev_loss, dev_wer * 100., time.time() - start))\n",
    "\n",
    "        torch.save(model, os.path.join(config[\"save_path\"], str(ep)))\n",
    "\n",
    "        if dev_wer < best_so_far:\n",
    "            best_so_far = dev_wer\n",
    "            best = 'best-' + meta\n",
    "            torch.save(model, os.path.join(config[\"save_path\"], best))\n",
    "    return best, plotting"
   ]
  },
  {
   "cell_type": "code",
   "execution_count": 39,
   "metadata": {},
   "outputs": [],
   "source": [
    "def plot_wer_loss(best, plotting):\n",
    "    plt.suptitle(best)\n",
    "    plt.subplot(1, 2, 1)\n",
    "    plt.plot(plotting['WER'], label='WER')\n",
    "    plt.legend()\n",
    "    plt.xlabel('# epochs')\n",
    "    plt.ylabel('WER')\n",
    "    plt.subplot(1, 2, 2)\n",
    "    plt.plot(plotting['dev_loss'], label='dev_loss')\n",
    "    plt.plot(plotting['train_loss'], label='train_loss')\n",
    "    plt.legend()\n",
    "    plt.xlabel('# epochs')\n",
    "    plt.ylabel('loss')\n",
    "    plt.savefig('figures/' + best + '.png')\n",
    "    plt.show()"
   ]
  },
  {
   "cell_type": "markdown",
   "metadata": {},
   "source": [
    "## (e) i. Loss and WER"
   ]
  },
  {
   "cell_type": "code",
   "execution_count": 40,
   "metadata": {
    "collapsed": true
   },
   "outputs": [
    {
     "name": "stdout",
     "output_type": "stream",
     "text": [
      "Model Configuration (att, batch, lr, enc_hid, dec_hid, ep, sp): None+10+1+16+16+5+0.9\n",
      "Training RNN\n",
      "epoch    1 | train_loss=  5.25, dev_loss=  5.47 with  83.04% WER (  8.15s elapsed)\n",
      "epoch    2 | train_loss=  4.24, dev_loss=  3.93 with  68.93% WER (  8.38s elapsed)\n",
      "epoch    3 | train_loss=  3.61, dev_loss=  3.33 with  63.21% WER ( 12.28s elapsed)\n",
      "epoch    4 | train_loss=  3.13, dev_loss=  3.02 with  57.50% WER ( 11.85s elapsed)\n",
      "epoch    5 | train_loss=  2.80, dev_loss=  3.60 with  60.71% WER (  9.25s elapsed)\n"
     ]
    },
    {
     "data": {
      "image/png": "[encoded data removed]",
      "text/plain": [
       "<Figure size 432x288 with 2 Axes>"
      ]
     },
     "metadata": {
      "needs_background": "light"
     },
     "output_type": "display_data"
    }
   ],
   "source": [
    "best, plotting = tune({})\n",
    "plot_wer_loss(best, plotting)"
   ]
  },
  {
   "cell_type": "code",
   "execution_count": 41,
   "metadata": {
    "collapsed": true
   },
   "outputs": [
    {
     "name": "stdout",
     "output_type": "stream",
     "text": [
      "Model Configuration (att, batch, lr, enc_hid, dec_hid, ep, sp): 8+10+1+16+16+5+0.9\n",
      "Training RNN\n"
     ]
    },
    {
     "name": "stderr",
     "output_type": "stream",
     "text": [
      "/Library/Frameworks/Python.framework/Versions/3.8/lib/python3.8/site-packages/torch/nn/_reduction.py:43: UserWarning: size_average and reduce args will be deprecated, please use reduction='sum' instead.\n",
      "  warnings.warn(warning.format(ret))\n"
     ]
    },
    {
     "name": "stdout",
     "output_type": "stream",
     "text": [
      "epoch    1 | train_loss=  5.71, dev_loss=  5.03 with  80.54% WER (  9.36s elapsed)\n"
     ]
    },
    {
     "name": "stderr",
     "output_type": "stream",
     "text": [
      "/Library/Frameworks/Python.framework/Versions/3.8/lib/python3.8/site-packages/torch/serialization.py:401: UserWarning: Couldn't retrieve source code for container of type Attention. It won't be checked for correctness upon loading.\n",
      "  warnings.warn(\"Couldn't retrieve source code for container of \"\n"
     ]
    },
    {
     "name": "stdout",
     "output_type": "stream",
     "text": [
      "epoch    2 | train_loss=  4.08, dev_loss=  3.81 with  71.07% WER (  9.73s elapsed)\n",
      "epoch    3 | train_loss=  3.50, dev_loss=  3.24 with  61.61% WER (  9.67s elapsed)\n",
      "epoch    4 | train_loss=  3.10, dev_loss=  3.06 with  60.00% WER (  9.84s elapsed)\n",
      "epoch    5 | train_loss=  2.96, dev_loss=  3.09 with  58.93% WER (  9.13s elapsed)\n"
     ]
    },
    {
     "data": {
      "image/png": "[encoded data removed]",
      "text/plain": [
       "<Figure size 432x288 with 2 Axes>"
      ]
     },
     "metadata": {
      "needs_background": "light"
     },
     "output_type": "display_data"
    }
   ],
   "source": [
    "best, plotting = tune({})\n",
    "plot_wer_loss(best, plotting)"
   ]
  },
  {
   "cell_type": "markdown",
   "metadata": {},
   "source": [
    "## (e) ii. Sampling Prob"
   ]
  },
  {
   "cell_type": "code",
   "execution_count": 75,
   "metadata": {},
   "outputs": [
    {
     "name": "stdout",
     "output_type": "stream",
     "text": [
      "Model Configuration (att, batch, lr, enc_hid, dec_hid, ep, sp): None+10+1+16+16+1+0.1\n",
      "Training RNN\n"
     ]
    },
    {
     "name": "stderr",
     "output_type": "stream",
     "text": [
      "/Library/Frameworks/Python.framework/Versions/3.8/lib/python3.8/site-packages/torch/nn/_reduction.py:43: UserWarning: size_average and reduce args will be deprecated, please use reduction='sum' instead.\n",
      "  warnings.warn(warning.format(ret))\n"
     ]
    },
    {
     "name": "stdout",
     "output_type": "stream",
     "text": [
      "epoch    1 | train_loss=  5.22, dev_loss=  4.23 with  75.89% WER (  8.52s elapsed)\n"
     ]
    },
    {
     "name": "stderr",
     "output_type": "stream",
     "text": [
      "/Library/Frameworks/Python.framework/Versions/3.8/lib/python3.8/site-packages/torch/serialization.py:401: UserWarning: Couldn't retrieve source code for container of type Attention. It won't be checked for correctness upon loading.\n",
      "  warnings.warn(\"Couldn't retrieve source code for container of \"\n"
     ]
    },
    {
     "data": {
      "image/png": "[encoded data removed]",
      "text/plain": [
       "<Figure size 432x288 with 2 Axes>"
      ]
     },
     "metadata": {
      "needs_background": "light"
     },
     "output_type": "display_data"
    },
    {
     "name": "stdout",
     "output_type": "stream",
     "text": [
      "Model Configuration (att, batch, lr, enc_hid, dec_hid, ep, sp): None+10+1+16+16+1+0.3\n",
      "Training RNN\n"
     ]
    },
    {
     "name": "stderr",
     "output_type": "stream",
     "text": [
      "/Library/Frameworks/Python.framework/Versions/3.8/lib/python3.8/site-packages/torch/nn/_reduction.py:43: UserWarning: size_average and reduce args will be deprecated, please use reduction='sum' instead.\n",
      "  warnings.warn(warning.format(ret))\n"
     ]
    },
    {
     "name": "stdout",
     "output_type": "stream",
     "text": [
      "epoch    1 | train_loss=  5.21, dev_loss=  4.25 with  77.86% WER (  8.61s elapsed)\n"
     ]
    },
    {
     "name": "stderr",
     "output_type": "stream",
     "text": [
      "/Library/Frameworks/Python.framework/Versions/3.8/lib/python3.8/site-packages/torch/serialization.py:401: UserWarning: Couldn't retrieve source code for container of type Attention. It won't be checked for correctness upon loading.\n",
      "  warnings.warn(\"Couldn't retrieve source code for container of \"\n"
     ]
    },
    {
     "data": {
      "image/png": "[encoded data removed]",
      "text/plain": [
       "<Figure size 432x288 with 2 Axes>"
      ]
     },
     "metadata": {
      "needs_background": "light"
     },
     "output_type": "display_data"
    },
    {
     "ename": "KeyboardInterrupt",
     "evalue": "",
     "output_type": "error",
     "traceback": [
      "\u001b[0;31m---------------------------------------------------------------------------\u001b[0m",
      "\u001b[0;31mKeyboardInterrupt\u001b[0m                         Traceback (most recent call last)",
      "\u001b[0;32m<ipython-input-75-7e55b19fa455>\u001b[0m in \u001b[0;36m<module>\u001b[0;34m\u001b[0m\n\u001b[1;32m      1\u001b[0m \u001b[0;32mfor\u001b[0m \u001b[0msp\u001b[0m \u001b[0;32min\u001b[0m \u001b[0mnp\u001b[0m\u001b[0;34m.\u001b[0m\u001b[0marange\u001b[0m\u001b[0;34m(\u001b[0m\u001b[0;36m0.1\u001b[0m\u001b[0;34m,\u001b[0m \u001b[0;36m1\u001b[0m\u001b[0;34m,\u001b[0m \u001b[0;36m0.2\u001b[0m\u001b[0;34m)\u001b[0m\u001b[0;34m:\u001b[0m\u001b[0;34m\u001b[0m\u001b[0;34m\u001b[0m\u001b[0m\n\u001b[1;32m      2\u001b[0m     \u001b[0mhp\u001b[0m \u001b[0;34m=\u001b[0m \u001b[0;34m{\u001b[0m\u001b[0;34m'sample_prob'\u001b[0m\u001b[0;34m:\u001b[0m \u001b[0msp\u001b[0m\u001b[0;34m,\u001b[0m \u001b[0;34m'max_epochs'\u001b[0m\u001b[0;34m:\u001b[0m \u001b[0;36m1\u001b[0m\u001b[0;34m}\u001b[0m\u001b[0;34m\u001b[0m\u001b[0;34m\u001b[0m\u001b[0m\n\u001b[0;32m----> 3\u001b[0;31m     \u001b[0mbest\u001b[0m\u001b[0;34m,\u001b[0m \u001b[0mplotting\u001b[0m \u001b[0;34m=\u001b[0m \u001b[0mtune\u001b[0m\u001b[0;34m(\u001b[0m\u001b[0mhp\u001b[0m\u001b[0;34m)\u001b[0m\u001b[0;34m\u001b[0m\u001b[0;34m\u001b[0m\u001b[0m\n\u001b[0m\u001b[1;32m      4\u001b[0m     \u001b[0mplot_wer_loss\u001b[0m\u001b[0;34m(\u001b[0m\u001b[0mbest\u001b[0m\u001b[0;34m,\u001b[0m \u001b[0mplotting\u001b[0m\u001b[0;34m)\u001b[0m\u001b[0;34m\u001b[0m\u001b[0;34m\u001b[0m\u001b[0m\n",
      "\u001b[0;32m<ipython-input-48-c5879b4f6f16>\u001b[0m in \u001b[0;36mtune\u001b[0;34m(hyperparams)\u001b[0m\n\u001b[1;32m     28\u001b[0m     \u001b[0mpreproc\u001b[0m \u001b[0;34m=\u001b[0m \u001b[0mPreprocessor\u001b[0m\u001b[0;34m(\u001b[0m\u001b[0mdata_cfg\u001b[0m\u001b[0;34m[\u001b[0m\u001b[0;34m\"train_set\"\u001b[0m\u001b[0;34m]\u001b[0m\u001b[0;34m,\u001b[0m \u001b[0mstart_and_end\u001b[0m\u001b[0;34m=\u001b[0m\u001b[0mdata_cfg\u001b[0m\u001b[0;34m[\u001b[0m\u001b[0;34m\"start_and_end\"\u001b[0m\u001b[0;34m]\u001b[0m\u001b[0;34m)\u001b[0m\u001b[0;34m\u001b[0m\u001b[0;34m\u001b[0m\u001b[0m\n\u001b[1;32m     29\u001b[0m \u001b[0;34m\u001b[0m\u001b[0m\n\u001b[0;32m---> 30\u001b[0;31m     \u001b[0mtrain_ldr\u001b[0m \u001b[0;34m=\u001b[0m \u001b[0mmake_loader\u001b[0m\u001b[0;34m(\u001b[0m\u001b[0mdata_cfg\u001b[0m\u001b[0;34m[\u001b[0m\u001b[0;34m\"train_set\"\u001b[0m\u001b[0;34m]\u001b[0m\u001b[0;34m,\u001b[0m \u001b[0mpreproc\u001b[0m\u001b[0;34m,\u001b[0m \u001b[0mbatch_size\u001b[0m\u001b[0;34m)\u001b[0m\u001b[0;34m\u001b[0m\u001b[0;34m\u001b[0m\u001b[0m\n\u001b[0m\u001b[1;32m     31\u001b[0m     \u001b[0mdev_ldr\u001b[0m \u001b[0;34m=\u001b[0m \u001b[0mmake_loader\u001b[0m\u001b[0;34m(\u001b[0m\u001b[0mdata_cfg\u001b[0m\u001b[0;34m[\u001b[0m\u001b[0;34m\"dev_set\"\u001b[0m\u001b[0;34m]\u001b[0m\u001b[0;34m,\u001b[0m \u001b[0mpreproc\u001b[0m\u001b[0;34m,\u001b[0m \u001b[0mbatch_size\u001b[0m\u001b[0;34m)\u001b[0m\u001b[0;34m\u001b[0m\u001b[0;34m\u001b[0m\u001b[0m\n\u001b[1;32m     32\u001b[0m \u001b[0;34m\u001b[0m\u001b[0m\n",
      "\u001b[0;32m~/Documents/Repositories/ttic31110/hw4_hybrid_rnn/rnn/loader.py\u001b[0m in \u001b[0;36mmake_loader\u001b[0;34m(dataset_json, preproc, batch_size)\u001b[0m\n\u001b[1;32m    301\u001b[0m \u001b[0;34m\u001b[0m\u001b[0m\n\u001b[1;32m    302\u001b[0m \u001b[0;32mdef\u001b[0m \u001b[0mmake_loader\u001b[0m\u001b[0;34m(\u001b[0m\u001b[0mdataset_json\u001b[0m\u001b[0;34m,\u001b[0m \u001b[0mpreproc\u001b[0m\u001b[0;34m,\u001b[0m \u001b[0mbatch_size\u001b[0m\u001b[0;34m)\u001b[0m\u001b[0;34m:\u001b[0m\u001b[0;34m\u001b[0m\u001b[0;34m\u001b[0m\u001b[0m\n\u001b[0;32m--> 303\u001b[0;31m     \u001b[0mdataset\u001b[0m \u001b[0;34m=\u001b[0m \u001b[0mAudioDataset\u001b[0m\u001b[0;34m(\u001b[0m\u001b[0mdataset_json\u001b[0m\u001b[0;34m,\u001b[0m \u001b[0mpreproc\u001b[0m\u001b[0;34m,\u001b[0m \u001b[0mbatch_size\u001b[0m\u001b[0;34m)\u001b[0m\u001b[0;34m\u001b[0m\u001b[0;34m\u001b[0m\u001b[0m\n\u001b[0m\u001b[1;32m    304\u001b[0m     \u001b[0msampler\u001b[0m \u001b[0;34m=\u001b[0m \u001b[0mBatchRandomSampler\u001b[0m\u001b[0;34m(\u001b[0m\u001b[0mdataset\u001b[0m\u001b[0;34m,\u001b[0m \u001b[0mbatch_size\u001b[0m\u001b[0;34m)\u001b[0m\u001b[0;34m\u001b[0m\u001b[0;34m\u001b[0m\u001b[0m\n\u001b[1;32m    305\u001b[0m     \u001b[0mcollate_fn\u001b[0m \u001b[0;34m=\u001b[0m \u001b[0;32mlambda\u001b[0m \u001b[0mbatch\u001b[0m\u001b[0;34m:\u001b[0m \u001b[0mzip\u001b[0m\u001b[0;34m(\u001b[0m\u001b[0;34m*\u001b[0m\u001b[0mbatch\u001b[0m\u001b[0;34m)\u001b[0m\u001b[0;34m\u001b[0m\u001b[0;34m\u001b[0m\u001b[0m\n",
      "\u001b[0;32m~/Documents/Repositories/ttic31110/hw4_hybrid_rnn/rnn/loader.py\u001b[0m in \u001b[0;36m__init__\u001b[0;34m(self, data_json, preproc, batch_size)\u001b[0m\n\u001b[1;32m    273\u001b[0m \u001b[0;34m\u001b[0m\u001b[0m\n\u001b[1;32m    274\u001b[0m     \u001b[0;32mdef\u001b[0m \u001b[0m__init__\u001b[0m\u001b[0;34m(\u001b[0m\u001b[0mself\u001b[0m\u001b[0;34m,\u001b[0m \u001b[0mdata_json\u001b[0m\u001b[0;34m,\u001b[0m \u001b[0mpreproc\u001b[0m\u001b[0;34m,\u001b[0m \u001b[0mbatch_size\u001b[0m\u001b[0;34m)\u001b[0m\u001b[0;34m:\u001b[0m\u001b[0;34m\u001b[0m\u001b[0;34m\u001b[0m\u001b[0m\n\u001b[0;32m--> 275\u001b[0;31m         \u001b[0mself\u001b[0m\u001b[0;34m.\u001b[0m\u001b[0mdata\u001b[0m \u001b[0;34m=\u001b[0m \u001b[0;34m[\u001b[0m\u001b[0mpreproc\u001b[0m\u001b[0;34m.\u001b[0m\u001b[0mpreprocess\u001b[0m\u001b[0;34m(\u001b[0m\u001b[0md\u001b[0m\u001b[0;34m[\u001b[0m\u001b[0;34m\"audio\"\u001b[0m\u001b[0;34m]\u001b[0m\u001b[0;34m,\u001b[0m \u001b[0md\u001b[0m\u001b[0;34m[\u001b[0m\u001b[0;34m\"text\"\u001b[0m\u001b[0;34m]\u001b[0m\u001b[0;34m)\u001b[0m \u001b[0;32mfor\u001b[0m \u001b[0md\u001b[0m \u001b[0;32min\u001b[0m \u001b[0mread_data_json\u001b[0m\u001b[0;34m(\u001b[0m\u001b[0mdata_json\u001b[0m\u001b[0;34m)\u001b[0m\u001b[0;34m]\u001b[0m\u001b[0;34m\u001b[0m\u001b[0;34m\u001b[0m\u001b[0m\n\u001b[0m\u001b[1;32m    276\u001b[0m \u001b[0;34m\u001b[0m\u001b[0m\n\u001b[1;32m    277\u001b[0m     \u001b[0;32mdef\u001b[0m \u001b[0m__len__\u001b[0m\u001b[0;34m(\u001b[0m\u001b[0mself\u001b[0m\u001b[0;34m)\u001b[0m\u001b[0;34m:\u001b[0m\u001b[0;34m\u001b[0m\u001b[0;34m\u001b[0m\u001b[0m\n",
      "\u001b[0;32m~/Documents/Repositories/ttic31110/hw4_hybrid_rnn/rnn/loader.py\u001b[0m in \u001b[0;36m<listcomp>\u001b[0;34m(.0)\u001b[0m\n\u001b[1;32m    273\u001b[0m \u001b[0;34m\u001b[0m\u001b[0m\n\u001b[1;32m    274\u001b[0m     \u001b[0;32mdef\u001b[0m \u001b[0m__init__\u001b[0m\u001b[0;34m(\u001b[0m\u001b[0mself\u001b[0m\u001b[0;34m,\u001b[0m \u001b[0mdata_json\u001b[0m\u001b[0;34m,\u001b[0m \u001b[0mpreproc\u001b[0m\u001b[0;34m,\u001b[0m \u001b[0mbatch_size\u001b[0m\u001b[0;34m)\u001b[0m\u001b[0;34m:\u001b[0m\u001b[0;34m\u001b[0m\u001b[0;34m\u001b[0m\u001b[0m\n\u001b[0;32m--> 275\u001b[0;31m         \u001b[0mself\u001b[0m\u001b[0;34m.\u001b[0m\u001b[0mdata\u001b[0m \u001b[0;34m=\u001b[0m \u001b[0;34m[\u001b[0m\u001b[0mpreproc\u001b[0m\u001b[0;34m.\u001b[0m\u001b[0mpreprocess\u001b[0m\u001b[0;34m(\u001b[0m\u001b[0md\u001b[0m\u001b[0;34m[\u001b[0m\u001b[0;34m\"audio\"\u001b[0m\u001b[0;34m]\u001b[0m\u001b[0;34m,\u001b[0m \u001b[0md\u001b[0m\u001b[0;34m[\u001b[0m\u001b[0;34m\"text\"\u001b[0m\u001b[0;34m]\u001b[0m\u001b[0;34m)\u001b[0m \u001b[0;32mfor\u001b[0m \u001b[0md\u001b[0m \u001b[0;32min\u001b[0m \u001b[0mread_data_json\u001b[0m\u001b[0;34m(\u001b[0m\u001b[0mdata_json\u001b[0m\u001b[0;34m)\u001b[0m\u001b[0;34m]\u001b[0m\u001b[0;34m\u001b[0m\u001b[0;34m\u001b[0m\u001b[0m\n\u001b[0m\u001b[1;32m    276\u001b[0m \u001b[0;34m\u001b[0m\u001b[0m\n\u001b[1;32m    277\u001b[0m     \u001b[0;32mdef\u001b[0m \u001b[0m__len__\u001b[0m\u001b[0;34m(\u001b[0m\u001b[0mself\u001b[0m\u001b[0;34m)\u001b[0m\u001b[0;34m:\u001b[0m\u001b[0;34m\u001b[0m\u001b[0;34m\u001b[0m\u001b[0m\n",
      "\u001b[0;32m~/Documents/Repositories/ttic31110/hw4_hybrid_rnn/rnn/loader.py\u001b[0m in \u001b[0;36mpreprocess\u001b[0;34m(self, wav, text)\u001b[0m\n\u001b[1;32m    256\u001b[0m \u001b[0;34m\u001b[0m\u001b[0m\n\u001b[1;32m    257\u001b[0m     \u001b[0;32mdef\u001b[0m \u001b[0mpreprocess\u001b[0m\u001b[0;34m(\u001b[0m\u001b[0mself\u001b[0m\u001b[0;34m,\u001b[0m \u001b[0mwav\u001b[0m\u001b[0;34m,\u001b[0m \u001b[0mtext\u001b[0m\u001b[0;34m)\u001b[0m\u001b[0;34m:\u001b[0m\u001b[0;34m\u001b[0m\u001b[0;34m\u001b[0m\u001b[0m\n\u001b[0;32m--> 258\u001b[0;31m         \u001b[0minputs\u001b[0m \u001b[0;34m=\u001b[0m \u001b[0mextract_mfcc_features\u001b[0m\u001b[0;34m(\u001b[0m\u001b[0mwav\u001b[0m\u001b[0;34m)\u001b[0m\u001b[0;34m\u001b[0m\u001b[0;34m\u001b[0m\u001b[0m\n\u001b[0m\u001b[1;32m    259\u001b[0m         \u001b[0minputs\u001b[0m \u001b[0;34m=\u001b[0m \u001b[0;34m(\u001b[0m\u001b[0minputs\u001b[0m \u001b[0;34m-\u001b[0m \u001b[0mself\u001b[0m\u001b[0;34m.\u001b[0m\u001b[0mmean\u001b[0m\u001b[0;34m)\u001b[0m \u001b[0;34m/\u001b[0m \u001b[0mself\u001b[0m\u001b[0;34m.\u001b[0m\u001b[0mstd\u001b[0m\u001b[0;34m\u001b[0m\u001b[0;34m\u001b[0m\u001b[0m\n\u001b[1;32m    260\u001b[0m         \u001b[0mtargets\u001b[0m \u001b[0;34m=\u001b[0m \u001b[0mself\u001b[0m\u001b[0;34m.\u001b[0m\u001b[0mencode\u001b[0m\u001b[0;34m(\u001b[0m\u001b[0mtext\u001b[0m\u001b[0;34m)\u001b[0m\u001b[0;34m\u001b[0m\u001b[0;34m\u001b[0m\u001b[0m\n",
      "\u001b[0;32m~/Documents/Repositories/ttic31110/hw4_hybrid_rnn/rnn/loader.py\u001b[0m in \u001b[0;36mextract_mfcc_features\u001b[0;34m(wav)\u001b[0m\n\u001b[1;32m    180\u001b[0m \u001b[0;34m\u001b[0m\u001b[0m\n\u001b[1;32m    181\u001b[0m     \u001b[0;31m# compute complex spectrum (Note: this produces symmetric output, only need first half)\u001b[0m\u001b[0;34m\u001b[0m\u001b[0;34m\u001b[0m\u001b[0;34m\u001b[0m\u001b[0m\n\u001b[0;32m--> 182\u001b[0;31m     \u001b[0mspectrum\u001b[0m \u001b[0;34m=\u001b[0m \u001b[0mfast_fourier_transform\u001b[0m\u001b[0;34m(\u001b[0m\u001b[0mframes\u001b[0m\u001b[0;34m.\u001b[0m\u001b[0mT\u001b[0m\u001b[0;34m)\u001b[0m\u001b[0;34m.\u001b[0m\u001b[0mT\u001b[0m\u001b[0;34m\u001b[0m\u001b[0;34m\u001b[0m\u001b[0m\n\u001b[0m\u001b[1;32m    183\u001b[0m     \u001b[0mspectrum\u001b[0m \u001b[0;34m=\u001b[0m \u001b[0mspectrum\u001b[0m\u001b[0;34m[\u001b[0m\u001b[0;34m:\u001b[0m\u001b[0;34m,\u001b[0m \u001b[0;34m:\u001b[0m\u001b[0msize\u001b[0m \u001b[0;34m//\u001b[0m \u001b[0;36m2\u001b[0m\u001b[0;34m]\u001b[0m\u001b[0;34m\u001b[0m\u001b[0;34m\u001b[0m\u001b[0m\n\u001b[1;32m    184\u001b[0m \u001b[0;34m\u001b[0m\u001b[0m\n",
      "\u001b[0;32m~/Documents/Repositories/ttic31110/hw4_hybrid_rnn/rnn/loader.py\u001b[0m in \u001b[0;36mfast_fourier_transform\u001b[0;34m(x)\u001b[0m\n\u001b[1;32m    108\u001b[0m         \u001b[0mindices\u001b[0m \u001b[0;34m=\u001b[0m \u001b[0mnp\u001b[0m\u001b[0;34m.\u001b[0m\u001b[0marange\u001b[0m\u001b[0;34m(\u001b[0m\u001b[0mfft_size\u001b[0m\u001b[0;34m)\u001b[0m\u001b[0;34m\u001b[0m\u001b[0;34m\u001b[0m\u001b[0m\n\u001b[1;32m    109\u001b[0m         \u001b[0meven\u001b[0m \u001b[0;34m=\u001b[0m \u001b[0mfast_fourier_transform\u001b[0m\u001b[0;34m(\u001b[0m\u001b[0mx\u001b[0m\u001b[0;34m[\u001b[0m\u001b[0;34m:\u001b[0m\u001b[0;34m:\u001b[0m\u001b[0;36m2\u001b[0m\u001b[0;34m]\u001b[0m\u001b[0;34m)\u001b[0m\u001b[0;34m\u001b[0m\u001b[0;34m\u001b[0m\u001b[0m\n\u001b[0;32m--> 110\u001b[0;31m         \u001b[0modd\u001b[0m \u001b[0;34m=\u001b[0m \u001b[0mfast_fourier_transform\u001b[0m\u001b[0;34m(\u001b[0m\u001b[0mx\u001b[0m\u001b[0;34m[\u001b[0m\u001b[0;36m1\u001b[0m\u001b[0;34m:\u001b[0m\u001b[0;34m:\u001b[0m\u001b[0;36m2\u001b[0m\u001b[0;34m]\u001b[0m\u001b[0;34m)\u001b[0m\u001b[0;34m\u001b[0m\u001b[0;34m\u001b[0m\u001b[0m\n\u001b[0m\u001b[1;32m    111\u001b[0m         \u001b[0mm\u001b[0m \u001b[0;34m=\u001b[0m \u001b[0mnp\u001b[0m\u001b[0;34m.\u001b[0m\u001b[0mexp\u001b[0m\u001b[0;34m(\u001b[0m\u001b[0;34m-\u001b[0m\u001b[0;36m2j\u001b[0m \u001b[0;34m*\u001b[0m \u001b[0mnp\u001b[0m\u001b[0;34m.\u001b[0m\u001b[0mpi\u001b[0m \u001b[0;34m*\u001b[0m \u001b[0mindices\u001b[0m \u001b[0;34m/\u001b[0m \u001b[0mfft_size\u001b[0m\u001b[0;34m)\u001b[0m\u001b[0;34m.\u001b[0m\u001b[0mreshape\u001b[0m\u001b[0;34m(\u001b[0m\u001b[0;34m-\u001b[0m\u001b[0;36m1\u001b[0m\u001b[0;34m,\u001b[0m \u001b[0;36m1\u001b[0m\u001b[0;34m)\u001b[0m\u001b[0;34m\u001b[0m\u001b[0;34m\u001b[0m\u001b[0m\n\u001b[1;32m    112\u001b[0m         \u001b[0mX\u001b[0m \u001b[0;34m=\u001b[0m \u001b[0mnp\u001b[0m\u001b[0;34m.\u001b[0m\u001b[0mconcatenate\u001b[0m\u001b[0;34m(\u001b[0m\u001b[0;34m[\u001b[0m\u001b[0meven\u001b[0m \u001b[0;34m+\u001b[0m \u001b[0mm\u001b[0m\u001b[0;34m[\u001b[0m\u001b[0;34m:\u001b[0m\u001b[0mfft_size\u001b[0m \u001b[0;34m//\u001b[0m \u001b[0;36m2\u001b[0m\u001b[0;34m]\u001b[0m \u001b[0;34m*\u001b[0m \u001b[0modd\u001b[0m\u001b[0;34m,\u001b[0m \u001b[0meven\u001b[0m \u001b[0;34m+\u001b[0m \u001b[0mm\u001b[0m\u001b[0;34m[\u001b[0m\u001b[0mfft_size\u001b[0m \u001b[0;34m//\u001b[0m \u001b[0;36m2\u001b[0m\u001b[0;34m:\u001b[0m\u001b[0;34m]\u001b[0m \u001b[0;34m*\u001b[0m \u001b[0modd\u001b[0m\u001b[0;34m]\u001b[0m\u001b[0;34m)\u001b[0m\u001b[0;34m\u001b[0m\u001b[0;34m\u001b[0m\u001b[0m\n",
      "\u001b[0;32m~/Documents/Repositories/ttic31110/hw4_hybrid_rnn/rnn/loader.py\u001b[0m in \u001b[0;36mfast_fourier_transform\u001b[0;34m(x)\u001b[0m\n\u001b[1;32m    107\u001b[0m     \u001b[0;32melse\u001b[0m\u001b[0;34m:\u001b[0m\u001b[0;34m\u001b[0m\u001b[0;34m\u001b[0m\u001b[0m\n\u001b[1;32m    108\u001b[0m         \u001b[0mindices\u001b[0m \u001b[0;34m=\u001b[0m \u001b[0mnp\u001b[0m\u001b[0;34m.\u001b[0m\u001b[0marange\u001b[0m\u001b[0;34m(\u001b[0m\u001b[0mfft_size\u001b[0m\u001b[0;34m)\u001b[0m\u001b[0;34m\u001b[0m\u001b[0;34m\u001b[0m\u001b[0m\n\u001b[0;32m--> 109\u001b[0;31m         \u001b[0meven\u001b[0m \u001b[0;34m=\u001b[0m \u001b[0mfast_fourier_transform\u001b[0m\u001b[0;34m(\u001b[0m\u001b[0mx\u001b[0m\u001b[0;34m[\u001b[0m\u001b[0;34m:\u001b[0m\u001b[0;34m:\u001b[0m\u001b[0;36m2\u001b[0m\u001b[0;34m]\u001b[0m\u001b[0;34m)\u001b[0m\u001b[0;34m\u001b[0m\u001b[0;34m\u001b[0m\u001b[0m\n\u001b[0m\u001b[1;32m    110\u001b[0m         \u001b[0modd\u001b[0m \u001b[0;34m=\u001b[0m \u001b[0mfast_fourier_transform\u001b[0m\u001b[0;34m(\u001b[0m\u001b[0mx\u001b[0m\u001b[0;34m[\u001b[0m\u001b[0;36m1\u001b[0m\u001b[0;34m:\u001b[0m\u001b[0;34m:\u001b[0m\u001b[0;36m2\u001b[0m\u001b[0;34m]\u001b[0m\u001b[0;34m)\u001b[0m\u001b[0;34m\u001b[0m\u001b[0;34m\u001b[0m\u001b[0m\n\u001b[1;32m    111\u001b[0m         \u001b[0mm\u001b[0m \u001b[0;34m=\u001b[0m \u001b[0mnp\u001b[0m\u001b[0;34m.\u001b[0m\u001b[0mexp\u001b[0m\u001b[0;34m(\u001b[0m\u001b[0;34m-\u001b[0m\u001b[0;36m2j\u001b[0m \u001b[0;34m*\u001b[0m \u001b[0mnp\u001b[0m\u001b[0;34m.\u001b[0m\u001b[0mpi\u001b[0m \u001b[0;34m*\u001b[0m \u001b[0mindices\u001b[0m \u001b[0;34m/\u001b[0m \u001b[0mfft_size\u001b[0m\u001b[0;34m)\u001b[0m\u001b[0;34m.\u001b[0m\u001b[0mreshape\u001b[0m\u001b[0;34m(\u001b[0m\u001b[0;34m-\u001b[0m\u001b[0;36m1\u001b[0m\u001b[0;34m,\u001b[0m \u001b[0;36m1\u001b[0m\u001b[0;34m)\u001b[0m\u001b[0;34m\u001b[0m\u001b[0;34m\u001b[0m\u001b[0m\n",
      "\u001b[0;32m~/Documents/Repositories/ttic31110/hw4_hybrid_rnn/rnn/loader.py\u001b[0m in \u001b[0;36mfast_fourier_transform\u001b[0;34m(x)\u001b[0m\n\u001b[1;32m    107\u001b[0m     \u001b[0;32melse\u001b[0m\u001b[0;34m:\u001b[0m\u001b[0;34m\u001b[0m\u001b[0;34m\u001b[0m\u001b[0m\n\u001b[1;32m    108\u001b[0m         \u001b[0mindices\u001b[0m \u001b[0;34m=\u001b[0m \u001b[0mnp\u001b[0m\u001b[0;34m.\u001b[0m\u001b[0marange\u001b[0m\u001b[0;34m(\u001b[0m\u001b[0mfft_size\u001b[0m\u001b[0;34m)\u001b[0m\u001b[0;34m\u001b[0m\u001b[0;34m\u001b[0m\u001b[0m\n\u001b[0;32m--> 109\u001b[0;31m         \u001b[0meven\u001b[0m \u001b[0;34m=\u001b[0m \u001b[0mfast_fourier_transform\u001b[0m\u001b[0;34m(\u001b[0m\u001b[0mx\u001b[0m\u001b[0;34m[\u001b[0m\u001b[0;34m:\u001b[0m\u001b[0;34m:\u001b[0m\u001b[0;36m2\u001b[0m\u001b[0;34m]\u001b[0m\u001b[0;34m)\u001b[0m\u001b[0;34m\u001b[0m\u001b[0;34m\u001b[0m\u001b[0m\n\u001b[0m\u001b[1;32m    110\u001b[0m         \u001b[0modd\u001b[0m \u001b[0;34m=\u001b[0m \u001b[0mfast_fourier_transform\u001b[0m\u001b[0;34m(\u001b[0m\u001b[0mx\u001b[0m\u001b[0;34m[\u001b[0m\u001b[0;36m1\u001b[0m\u001b[0;34m:\u001b[0m\u001b[0;34m:\u001b[0m\u001b[0;36m2\u001b[0m\u001b[0;34m]\u001b[0m\u001b[0;34m)\u001b[0m\u001b[0;34m\u001b[0m\u001b[0;34m\u001b[0m\u001b[0m\n\u001b[1;32m    111\u001b[0m         \u001b[0mm\u001b[0m \u001b[0;34m=\u001b[0m \u001b[0mnp\u001b[0m\u001b[0;34m.\u001b[0m\u001b[0mexp\u001b[0m\u001b[0;34m(\u001b[0m\u001b[0;34m-\u001b[0m\u001b[0;36m2j\u001b[0m \u001b[0;34m*\u001b[0m \u001b[0mnp\u001b[0m\u001b[0;34m.\u001b[0m\u001b[0mpi\u001b[0m \u001b[0;34m*\u001b[0m \u001b[0mindices\u001b[0m \u001b[0;34m/\u001b[0m \u001b[0mfft_size\u001b[0m\u001b[0;34m)\u001b[0m\u001b[0;34m.\u001b[0m\u001b[0mreshape\u001b[0m\u001b[0;34m(\u001b[0m\u001b[0;34m-\u001b[0m\u001b[0;36m1\u001b[0m\u001b[0;34m,\u001b[0m \u001b[0;36m1\u001b[0m\u001b[0;34m)\u001b[0m\u001b[0;34m\u001b[0m\u001b[0;34m\u001b[0m\u001b[0m\n",
      "\u001b[0;32m~/Documents/Repositories/ttic31110/hw4_hybrid_rnn/rnn/loader.py\u001b[0m in \u001b[0;36mfast_fourier_transform\u001b[0;34m(x)\u001b[0m\n\u001b[1;32m    103\u001b[0m \u001b[0;34m\u001b[0m\u001b[0m\n\u001b[1;32m    104\u001b[0m     \u001b[0;32mif\u001b[0m \u001b[0mfft_size\u001b[0m \u001b[0;34m<=\u001b[0m \u001b[0;36m16\u001b[0m\u001b[0;34m:\u001b[0m\u001b[0;34m\u001b[0m\u001b[0;34m\u001b[0m\u001b[0m\n\u001b[0;32m--> 105\u001b[0;31m         \u001b[0mX\u001b[0m \u001b[0;34m=\u001b[0m \u001b[0mdiscrete_fourier_transform\u001b[0m\u001b[0;34m(\u001b[0m\u001b[0mx\u001b[0m\u001b[0;34m)\u001b[0m\u001b[0;34m\u001b[0m\u001b[0;34m\u001b[0m\u001b[0m\n\u001b[0m\u001b[1;32m    106\u001b[0m \u001b[0;34m\u001b[0m\u001b[0m\n\u001b[1;32m    107\u001b[0m     \u001b[0;32melse\u001b[0m\u001b[0;34m:\u001b[0m\u001b[0;34m\u001b[0m\u001b[0;34m\u001b[0m\u001b[0m\n",
      "\u001b[0;32m~/Documents/Repositories/ttic31110/hw4_hybrid_rnn/rnn/loader.py\u001b[0m in \u001b[0;36mdiscrete_fourier_transform\u001b[0;34m(x)\u001b[0m\n\u001b[1;32m     88\u001b[0m     \u001b[0mindices\u001b[0m \u001b[0;34m=\u001b[0m \u001b[0mnp\u001b[0m\u001b[0;34m.\u001b[0m\u001b[0marange\u001b[0m\u001b[0;34m(\u001b[0m\u001b[0mn\u001b[0m\u001b[0;34m)\u001b[0m\u001b[0;34m\u001b[0m\u001b[0;34m\u001b[0m\u001b[0m\n\u001b[1;32m     89\u001b[0m     \u001b[0mM\u001b[0m \u001b[0;34m=\u001b[0m \u001b[0mnp\u001b[0m\u001b[0;34m.\u001b[0m\u001b[0mexp\u001b[0m\u001b[0;34m(\u001b[0m\u001b[0;34m-\u001b[0m\u001b[0;36m2j\u001b[0m \u001b[0;34m*\u001b[0m \u001b[0mnp\u001b[0m\u001b[0;34m.\u001b[0m\u001b[0mpi\u001b[0m \u001b[0;34m*\u001b[0m \u001b[0mnp\u001b[0m\u001b[0;34m.\u001b[0m\u001b[0mouter\u001b[0m\u001b[0;34m(\u001b[0m\u001b[0mindices\u001b[0m\u001b[0;34m,\u001b[0m \u001b[0mindices\u001b[0m\u001b[0;34m)\u001b[0m \u001b[0;34m/\u001b[0m \u001b[0mn\u001b[0m\u001b[0;34m)\u001b[0m\u001b[0;34m\u001b[0m\u001b[0;34m\u001b[0m\u001b[0m\n\u001b[0;32m---> 90\u001b[0;31m     \u001b[0;32mreturn\u001b[0m \u001b[0mnp\u001b[0m\u001b[0;34m.\u001b[0m\u001b[0mdot\u001b[0m\u001b[0;34m(\u001b[0m\u001b[0mM\u001b[0m\u001b[0;34m,\u001b[0m \u001b[0mx\u001b[0m\u001b[0;34m)\u001b[0m\u001b[0;34m\u001b[0m\u001b[0;34m\u001b[0m\u001b[0m\n\u001b[0m\u001b[1;32m     91\u001b[0m \u001b[0;34m\u001b[0m\u001b[0m\n\u001b[1;32m     92\u001b[0m \u001b[0;32mdef\u001b[0m \u001b[0mfast_fourier_transform\u001b[0m\u001b[0;34m(\u001b[0m\u001b[0mx\u001b[0m\u001b[0;34m)\u001b[0m\u001b[0;34m:\u001b[0m\u001b[0;34m\u001b[0m\u001b[0;34m\u001b[0m\u001b[0m\n",
      "\u001b[0;32m<__array_function__ internals>\u001b[0m in \u001b[0;36mdot\u001b[0;34m(*args, **kwargs)\u001b[0m\n",
      "\u001b[0;31mKeyboardInterrupt\u001b[0m: "
     ]
    }
   ],
   "source": [
    "# for sp in np.arange(0.1, 1, 0.2):\n",
    "#     hp = {'sample_prob': sp, 'max_epochs': 20}\n",
    "#     best, plotting = tune(hp) \n",
    "#     plot_wer_loss(best, plotting)"
   ]
  },
  {
   "cell_type": "code",
   "execution_count": 40,
   "metadata": {
    "collapsed": true
   },
   "outputs": [
    {
     "name": "stdout",
     "output_type": "stream",
     "text": [
      "Model Configuration (att, batch, lr, enc_hid, dec_hid, ep): 4+10+0.5+16+16+1\n",
      "Model Configuration (att, batch, lr, enc_hid, dec_hid, ep): 4+10+0.5+16+32+1\n",
      "Model Configuration (att, batch, lr, enc_hid, dec_hid, ep): 4+10+0.5+32+16+1\n",
      "Model Configuration (att, batch, lr, enc_hid, dec_hid, ep): 4+10+0.5+32+32+1\n",
      "Model Configuration (att, batch, lr, enc_hid, dec_hid, ep): 4+10+1+16+16+1\n",
      "Model Configuration (att, batch, lr, enc_hid, dec_hid, ep): 4+10+1+16+32+1\n",
      "Model Configuration (att, batch, lr, enc_hid, dec_hid, ep): 4+10+1+32+16+1\n",
      "Model Configuration (att, batch, lr, enc_hid, dec_hid, ep): 4+10+1+32+32+1\n",
      "Model Configuration (att, batch, lr, enc_hid, dec_hid, ep): 4+10+5+16+16+1\n",
      "Model Configuration (att, batch, lr, enc_hid, dec_hid, ep): 4+10+5+16+32+1\n",
      "Model Configuration (att, batch, lr, enc_hid, dec_hid, ep): 4+10+5+32+16+1\n",
      "Model Configuration (att, batch, lr, enc_hid, dec_hid, ep): 4+10+5+32+32+1\n",
      "Model Configuration (att, batch, lr, enc_hid, dec_hid, ep): 4+10+10+16+16+1\n",
      "Model Configuration (att, batch, lr, enc_hid, dec_hid, ep): 4+10+10+16+32+1\n",
      "Model Configuration (att, batch, lr, enc_hid, dec_hid, ep): 4+10+10+32+16+1\n",
      "Model Configuration (att, batch, lr, enc_hid, dec_hid, ep): 4+10+10+32+32+1\n",
      "Model Configuration (att, batch, lr, enc_hid, dec_hid, ep): 4+100+0.5+16+16+1\n",
      "Model Configuration (att, batch, lr, enc_hid, dec_hid, ep): 4+100+0.5+16+32+1\n",
      "Model Configuration (att, batch, lr, enc_hid, dec_hid, ep): 4+100+0.5+32+16+1\n",
      "Model Configuration (att, batch, lr, enc_hid, dec_hid, ep): 4+100+0.5+32+32+1\n",
      "Model Configuration (att, batch, lr, enc_hid, dec_hid, ep): 4+100+1+16+16+1\n",
      "Model Configuration (att, batch, lr, enc_hid, dec_hid, ep): 4+100+1+16+32+1\n",
      "Model Configuration (att, batch, lr, enc_hid, dec_hid, ep): 4+100+1+32+16+1\n",
      "Model Configuration (att, batch, lr, enc_hid, dec_hid, ep): 4+100+1+32+32+1\n",
      "Model Configuration (att, batch, lr, enc_hid, dec_hid, ep): 4+100+5+16+16+1\n",
      "Model Configuration (att, batch, lr, enc_hid, dec_hid, ep): 4+100+5+16+32+1\n",
      "Model Configuration (att, batch, lr, enc_hid, dec_hid, ep): 4+100+5+32+16+1\n",
      "Model Configuration (att, batch, lr, enc_hid, dec_hid, ep): 4+100+5+32+32+1\n",
      "Model Configuration (att, batch, lr, enc_hid, dec_hid, ep): 4+100+10+16+16+1\n",
      "Model Configuration (att, batch, lr, enc_hid, dec_hid, ep): 4+100+10+16+32+1\n",
      "Model Configuration (att, batch, lr, enc_hid, dec_hid, ep): 4+100+10+32+16+1\n",
      "Model Configuration (att, batch, lr, enc_hid, dec_hid, ep): 4+100+10+32+32+1\n",
      "Model Configuration (att, batch, lr, enc_hid, dec_hid, ep): 8+10+0.5+16+16+1\n",
      "Model Configuration (att, batch, lr, enc_hid, dec_hid, ep): 8+10+0.5+16+32+1\n",
      "Model Configuration (att, batch, lr, enc_hid, dec_hid, ep): 8+10+0.5+32+16+1\n",
      "Model Configuration (att, batch, lr, enc_hid, dec_hid, ep): 8+10+0.5+32+32+1\n",
      "Model Configuration (att, batch, lr, enc_hid, dec_hid, ep): 8+10+1+16+16+1\n",
      "Model Configuration (att, batch, lr, enc_hid, dec_hid, ep): 8+10+1+16+32+1\n",
      "Model Configuration (att, batch, lr, enc_hid, dec_hid, ep): 8+10+1+32+16+1\n",
      "Model Configuration (att, batch, lr, enc_hid, dec_hid, ep): 8+10+1+32+32+1\n",
      "Model Configuration (att, batch, lr, enc_hid, dec_hid, ep): 8+10+5+16+16+1\n",
      "Model Configuration (att, batch, lr, enc_hid, dec_hid, ep): 8+10+5+16+32+1\n",
      "Model Configuration (att, batch, lr, enc_hid, dec_hid, ep): 8+10+5+32+16+1\n",
      "Model Configuration (att, batch, lr, enc_hid, dec_hid, ep): 8+10+5+32+32+1\n",
      "Model Configuration (att, batch, lr, enc_hid, dec_hid, ep): 8+10+10+16+16+1\n",
      "Model Configuration (att, batch, lr, enc_hid, dec_hid, ep): 8+10+10+16+32+1\n",
      "Model Configuration (att, batch, lr, enc_hid, dec_hid, ep): 8+10+10+32+16+1\n",
      "Model Configuration (att, batch, lr, enc_hid, dec_hid, ep): 8+10+10+32+32+1\n",
      "Model Configuration (att, batch, lr, enc_hid, dec_hid, ep): 8+100+0.5+16+16+1\n",
      "Model Configuration (att, batch, lr, enc_hid, dec_hid, ep): 8+100+0.5+16+32+1\n",
      "Model Configuration (att, batch, lr, enc_hid, dec_hid, ep): 8+100+0.5+32+16+1\n",
      "Model Configuration (att, batch, lr, enc_hid, dec_hid, ep): 8+100+0.5+32+32+1\n",
      "Model Configuration (att, batch, lr, enc_hid, dec_hid, ep): 8+100+1+16+16+1\n",
      "Model Configuration (att, batch, lr, enc_hid, dec_hid, ep): 8+100+1+16+32+1\n",
      "Model Configuration (att, batch, lr, enc_hid, dec_hid, ep): 8+100+1+32+16+1\n",
      "Model Configuration (att, batch, lr, enc_hid, dec_hid, ep): 8+100+1+32+32+1\n",
      "Model Configuration (att, batch, lr, enc_hid, dec_hid, ep): 8+100+5+16+16+1\n",
      "Model Configuration (att, batch, lr, enc_hid, dec_hid, ep): 8+100+5+16+32+1\n",
      "Model Configuration (att, batch, lr, enc_hid, dec_hid, ep): 8+100+5+32+16+1\n",
      "Model Configuration (att, batch, lr, enc_hid, dec_hid, ep): 8+100+5+32+32+1\n",
      "Model Configuration (att, batch, lr, enc_hid, dec_hid, ep): 8+100+10+16+16+1\n",
      "Model Configuration (att, batch, lr, enc_hid, dec_hid, ep): 8+100+10+16+32+1\n",
      "Model Configuration (att, batch, lr, enc_hid, dec_hid, ep): 8+100+10+32+16+1\n",
      "Model Configuration (att, batch, lr, enc_hid, dec_hid, ep): 8+100+10+32+32+1\n"
     ]
    }
   ],
   "source": [
    "# naive grid search through different parameters\n",
    "# atts = [None, 4, 8]\n",
    "# bs = [10, 100]\n",
    "# lrs = [0.5, 1, 5, 10]\n",
    "# encs = [16, 32]\n",
    "# decs = [16, 32]\n",
    "# max_epochs = [20]\n",
    "# for params in product(atts, bs, lrs, encs, decs, max_epochs):\n",
    "#     hp = {}\n",
    "#     hp['attention_dim'] = params[0]\n",
    "#     hp['batch_size'] = params[1]\n",
    "#     hp['learning_rate'] = params[2]\n",
    "#     hp['enc_hidden_size'] = params[3]\n",
    "#     hp['dec_hidden_size'] = params[4]\n",
    "#     hp['max_epochs'] = params[5]\n",
    "#     tune(hp)"
   ]
  },
  {
   "cell_type": "code",
   "execution_count": 53,
   "metadata": {},
   "outputs": [],
   "source": [
    "def test(best):\n",
    "    print(\"Testing RNN\")\n",
    "    with open(\"rnn/config.json\", \"r\") as fid:                                                                                                                                                                                                                                      \n",
    "        config = json.load(fid)\n",
    "    data_cfg = config[\"data\"]\n",
    "    opt_cfg = config[\"optimizer\"]\n",
    "    test_model = torch.load(os.path.join(config[\"save_path\"], best))\n",
    "    preproc = Preprocessor(data_cfg[\"train_set\"], start_and_end=data_cfg[\"start_and_end\"])\n",
    "    test_ldr = make_loader(data_cfg[\"test_set\"], preproc, opt_cfg[\"batch_size\"])\n",
    "\n",
    "    _, test_wer = evaluate(test_model, test_ldr, preproc)\n",
    "\n",
    "    print(\"{:.2f}% WER (test)\".format(test_wer * 100.))"
   ]
  }
 ],
 "metadata": {
  "kernelspec": {
   "display_name": "Python 3",
   "language": "python",
   "name": "python3"
  },
  "language_info": {
   "codemirror_mode": {
    "name": "ipython",
    "version": 3
   },
   "file_extension": ".py",
   "mimetype": "text/x-python",
   "name": "python",
   "nbconvert_exporter": "python",
   "pygments_lexer": "ipython3",
   "version": "3.8.0"
  }
 },
 "nbformat": 4,
 "nbformat_minor": 2
}
