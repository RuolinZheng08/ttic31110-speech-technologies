{
 "cells": [
  {
   "cell_type": "code",
   "execution_count": 1,
   "metadata": {},
   "outputs": [
    {
     "data": {
      "text/plain": [
       "{'divide': 'warn', 'over': 'warn', 'under': 'ignore', 'invalid': 'warn'}"
      ]
     },
     "execution_count": 1,
     "metadata": {},
     "output_type": "execute_result"
    }
   ],
   "source": [
    "import numpy as np\n",
    "import pickle as pkl\n",
    "import time\n",
    "import json\n",
    "import random\n",
    "import torch\n",
    "from torch import nn\n",
    "import editdistance\n",
    "import os\n",
    "np.seterr(divide='ignore') # masks log(0) errors"
   ]
  },
  {
   "cell_type": "code",
   "execution_count": 2,
   "metadata": {},
   "outputs": [],
   "source": [
    "from rnn.loader import make_loader, Preprocessor\n",
    "from rnn.model import Seq2Seq\n",
    "from rnn.model import LinearND #Hint: this is useful when defining the modified attention mechanism"
   ]
  },
  {
   "cell_type": "code",
   "execution_count": 3,
   "metadata": {},
   "outputs": [],
   "source": [
    "from itertools import product\n",
    "import matplotlib.pyplot as plt"
   ]
  },
  {
   "cell_type": "markdown",
   "metadata": {},
   "source": [
    "With the default config, you can get 10-15% dev WER within 20 epochs. Each epoch will take 5 secs on a GPU and 10 secs on CPU"
   ]
  },
  {
   "cell_type": "code",
   "execution_count": 4,
   "metadata": {},
   "outputs": [],
   "source": [
    "class Attention(nn.Module):\n",
    "    def __init__(self, enc_dim, dec_dim, attn_dim=None):\n",
    "        \"\"\"\n",
    "        Initialize Attention.\n",
    "        ----\n",
    "        enc_dim: encoder hidden state dimension\n",
    "        dec_dim: decoder hidden state dimension\n",
    "        attn_dim: attention feature dimension\n",
    "        \"\"\"\n",
    "        super(Attention, self).__init__()\n",
    "        if enc_dim == dec_dim and attn_dim is None:\n",
    "            self.use_default = True\n",
    "        elif attn_dim is not None:\n",
    "            self.use_default = False\n",
    "            self.attn_dim = attn_dim\n",
    "            self.enc_dim = enc_dim\n",
    "            self.dec_dim = dec_dim\n",
    "            self.v = LinearND(self.attn_dim, 1, bias=False)\n",
    "            self.W1 = LinearND(self.enc_dim, self.attn_dim, bias=False)\n",
    "            self.W2 = nn.Linear(self.dec_dim, self.attn_dim, bias=False)\n",
    "        else:\n",
    "            raise ValueError(\"invalid args (enc_dim={}, dec_dim={}, attn_dim={})\".format(enc_dim, dec_dim, attn_dim))\n",
    "\n",
    "    def forward(self, eh, dhx, ax=None):\n",
    "        \"\"\"\n",
    "        Forward Attention method.\n",
    "        ----\n",
    "        eh (FloatTensor): the encoder hidden state with\n",
    "            shape (batch size, time, hidden dimension).\n",
    "        dhx (FloatTensor): one time step of the decoder hidden\n",
    "            state with shape (batch size, hidden dimension).\n",
    "        ax (FloatTensor): one time step of the attention vector.\n",
    "        ----\n",
    "        Returns the context vectors (sx) and the corresponding attention alignment (ax)\n",
    "        \"\"\"\n",
    "        \n",
    "        if self.use_default:\n",
    "            # Compute inner product of decoder slice with every encoder slice\n",
    "            pax = torch.sum(eh * dhx, dim=2)\n",
    "            ax = nn.functional.softmax(pax, dim=1)\n",
    "            sx = torch.sum(eh * ax.unsqueeze(2), dim=1, keepdim=True)\n",
    "        else:\n",
    "            # TODO: Modify the attention mechanism\n",
    "            pax = torch.empty(dhx.shape)\n",
    "            pax = self.v.forward(torch.tanh(self.W1.forward(eh) + self.W2.forward(dhx)))\n",
    "            ax = nn.functional.softmax(pax, dim=1).squeeze()\n",
    "            sx = torch.sum(eh * ax.unsqueeze(2), dim=1, keepdim=True)\n",
    "\n",
    "        return sx, ax"
   ]
  },
  {
   "cell_type": "code",
   "execution_count": 5,
   "metadata": {},
   "outputs": [],
   "source": [
    "def compute_wer(results):\n",
    "    \"\"\"\n",
    "    Compute the word-error-rate (WER).\n",
    "    \"\"\"\n",
    "    dist = 0.\n",
    "    for label, pred in results:\n",
    "        dist += editdistance.eval(label, pred)\n",
    "    total = sum(len(label) for label, _ in results)\n",
    "    return dist / total\n",
    "\n",
    "def train(model, optimizer, ldr):\n",
    "    \"\"\"\n",
    "    Train the model for an epoch (one pass over the training data)\n",
    "    ----\n",
    "    model: Seq2Seq model instance\n",
    "    optimizer: torch.nn optimizer instance\n",
    "    ldr: data loader instance\n",
    "    ----\n",
    "    Returns the average loss over an epoch\n",
    "    \"\"\"\n",
    "    model.train()\n",
    "    model.scheduled_sampling = model.sample_prob != 0\n",
    "    \n",
    "    losses = []\n",
    "    \n",
    "    for ii, (inputs, labels) in enumerate(ldr):\n",
    "        optimizer.zero_grad()\n",
    "        x, y = model.collate(inputs, labels)\n",
    "        loss = model.loss(x, y)\n",
    "        loss.backward()\n",
    "        grad_norm = torch.nn.utils.clip_grad_norm_(model.parameters(), max_norm=5)\n",
    "        optimizer.step()\n",
    "        losses.append(loss.data.item())\n",
    "        \n",
    "    return np.mean(losses)\n",
    "\n",
    "def evaluate(model, ldr, preproc):\n",
    "    \"\"\"\n",
    "    Evaluate the model (on either dev or test).\n",
    "    ----\n",
    "    model: Seq2Seq model instance\n",
    "    ldr: data loader instance\n",
    "    preproc: preprocessor instance\n",
    "    ----\n",
    "    Returns the average loss and wer on a given dataset\n",
    "    \"\"\"\n",
    "    model.eval()\n",
    "    model.scheduled_sampling = False\n",
    "    \n",
    "    losses, hyps, refs = [], [], []\n",
    "    \n",
    "    with torch.no_grad():\n",
    "        for inputs, labels in ldr:\n",
    "            x, y = model.collate(inputs, labels)\n",
    "            # get loss\n",
    "            loss = model.loss(x, y)\n",
    "            losses.append(loss.data.item())\n",
    "            # get predictions\n",
    "            pred = model.infer(x, y)\n",
    "            hyps.extend(pred)\n",
    "            refs.extend(labels)\n",
    "\n",
    "    results = [(preproc.decode(r), preproc.decode(h)) for r, h in zip(refs, hyps)]\n",
    "    \n",
    "    return np.mean(losses), compute_wer(results)"
   ]
  },
  {
   "cell_type": "code",
   "execution_count": 6,
   "metadata": {},
   "outputs": [],
   "source": [
    "# TODO: tune on the dev set\n",
    "# may want to set up function or chunk of code here to perform tuning\n",
    "# call train on training set, call evaluate on dev, save/plot/compare results\n",
    "def tune(hyperparams):\n",
    "    \"\"\"hyperparams is a dict\"\"\"\n",
    "    with open(\"rnn/config.json\", \"r\") as fid:                                                                                                                                                                                                                                      \n",
    "        config = json.load(fid)\n",
    "\n",
    "    random.seed(config[\"seed\"])\n",
    "    np.random.seed(config[\"seed\"])\n",
    "    torch.manual_seed(config[\"seed\"])\n",
    "\n",
    "    use_cuda = torch.cuda.is_available()\n",
    "    if use_cuda:\n",
    "        torch.backends.cudnn.deterministic = True\n",
    "\n",
    "    data_cfg = config[\"data\"]\n",
    "    model_cfg = config[\"model\"]\n",
    "    opt_cfg = config[\"optimizer\"]\n",
    "    # fill in params, override config default if params are provided in the function\n",
    "    attention_dim = hyperparams.get('attention_dim', None)\n",
    "    batch_size = hyperparams.get('batch_size', opt_cfg[\"batch_size\"])\n",
    "    learning_rate = hyperparams.get('learning_rate', opt_cfg[\"learning_rate\"])\n",
    "    enc_hidden_size = hyperparams.get('enc_hidden_size', model_cfg[\"encoder\"][\"hidden_size\"])\n",
    "    dec_hidden_size = hyperparams.get('dec_hidden_size', model_cfg[\"decoder\"][\"hidden_size\"])\n",
    "    max_epochs = hyperparams.get('max_epochs', opt_cfg[\"max_epochs\"])\n",
    "    \n",
    "    preproc = Preprocessor(data_cfg[\"train_set\"], start_and_end=data_cfg[\"start_and_end\"])\n",
    "\n",
    "    train_ldr = make_loader(data_cfg[\"train_set\"], preproc, batch_size)\n",
    "    dev_ldr = make_loader(data_cfg[\"dev_set\"], preproc, batch_size)\n",
    "    \n",
    "    attention = Attention(enc_hidden_size, dec_hidden_size, attention_dim)\n",
    "    model = Seq2Seq(preproc.input_dim, preproc.vocab_size, attention, model_cfg)\n",
    "    model = model.cuda() if use_cuda else model.cpu()\n",
    "    # sampling prob\n",
    "    model.sample_prob = hyperparams.get('sample_prob', config['model']['sample_prob'])\n",
    "    meta = '+'.join([str(elm) for elm in [attention_dim, batch_size, learning_rate, enc_hidden_size, \n",
    "                     dec_hidden_size, max_epochs, np.round(model.sample_prob, 2)]])\n",
    "    print('Model Configuration (att, batch, lr, enc_hid, dec_hid, ep, sp):', meta)\n",
    "    \n",
    "    optimizer = torch.optim.SGD(model.parameters(), lr=learning_rate, momentum=opt_cfg[\"momentum\"])\n",
    "\n",
    "    log=\"epoch {:4} | train_loss={:6.2f}, dev_loss={:6.2f} with {:6.2f}% WER ({:6.2f}s elapsed)\"\n",
    "    print(\"Training RNN\")\n",
    "    best_so_far = float(\"inf\")\n",
    "    \n",
    "    plotting = {'WER': [], 'train_loss': [], 'dev_loss': []}\n",
    "    for ep in range(max_epochs):\n",
    "        start = time.time()\n",
    "\n",
    "        train_loss = train(model, optimizer, train_ldr)    \n",
    "        dev_loss, dev_wer = evaluate(model, dev_ldr, preproc)\n",
    "        \n",
    "        plotting['WER'].append(dev_wer)\n",
    "        plotting['train_loss'].append(train_loss)\n",
    "        plotting['dev_loss'].append(dev_loss)\n",
    "        print(log.format(ep + 1, train_loss, dev_loss, dev_wer * 100., time.time() - start))\n",
    "\n",
    "        torch.save(model, os.path.join(config[\"save_path\"], str(ep)))\n",
    "\n",
    "        if dev_wer < best_so_far:\n",
    "            best_so_far = dev_wer\n",
    "            best = 'best-' + meta\n",
    "            torch.save(model, os.path.join(config[\"save_path\"], best))\n",
    "    return best, plotting"
   ]
  },
  {
   "cell_type": "code",
   "execution_count": 7,
   "metadata": {},
   "outputs": [],
   "source": [
    "def plot_wer_loss(best, plotting, xlabel='# epochs', xticks=None):\n",
    "    plt.suptitle(best)\n",
    "    plt.subplot(1, 2, 1)\n",
    "    if xticks is None:\n",
    "        plt.plot(plotting['WER'], label='WER')\n",
    "    else:\n",
    "        plt.plot(xticks, plotting['WER'], label='WER')\n",
    "    plt.legend()\n",
    "    plt.xlabel(xlabel)\n",
    "    plt.ylabel('WER')\n",
    "    plt.subplot(1, 2, 2)\n",
    "    if xticks is None:\n",
    "        plt.plot(plotting['dev_loss'], label='dev_loss')\n",
    "        plt.plot(plotting['train_loss'], label='train_loss')\n",
    "    else:\n",
    "        plt.plot(xticks, plotting['dev_loss'], label='dev_loss')\n",
    "        plt.plot(xticks, plotting['train_loss'], label='train_loss')\n",
    "    \n",
    "    plt.legend()\n",
    "    plt.xlabel(xlabel)\n",
    "    plt.ylabel('loss')\n",
    "    plt.savefig('figures/' + best + '.png')\n",
    "    plt.show()"
   ]
  },
  {
   "cell_type": "markdown",
   "metadata": {},
   "source": [
    "## (e) i. Loss and WER"
   ]
  },
  {
   "cell_type": "code",
   "execution_count": 40,
   "metadata": {
    "collapsed": true
   },
   "outputs": [
    {
     "name": "stdout",
     "output_type": "stream",
     "text": [
      "Model Configuration (att, batch, lr, enc_hid, dec_hid, ep, sp): None+10+1+16+16+5+0.9\n",
      "Training RNN\n",
      "epoch    1 | train_loss=  5.25, dev_loss=  5.47 with  83.04% WER (  8.15s elapsed)\n",
      "epoch    2 | train_loss=  4.24, dev_loss=  3.93 with  68.93% WER (  8.38s elapsed)\n",
      "epoch    3 | train_loss=  3.61, dev_loss=  3.33 with  63.21% WER ( 12.28s elapsed)\n",
      "epoch    4 | train_loss=  3.13, dev_loss=  3.02 with  57.50% WER ( 11.85s elapsed)\n",
      "epoch    5 | train_loss=  2.80, dev_loss=  3.60 with  60.71% WER (  9.25s elapsed)\n"
     ]
    },
    {
     "data": {
      "image/png": "[encoded data removed]",
      "text/plain": [
       "<Figure size 432x288 with 2 Axes>"
      ]
     },
     "metadata": {
      "needs_background": "light"
     },
     "output_type": "display_data"
    }
   ],
   "source": [
    "best, plotting = tune({})\n",
    "plot_wer_loss(best, plotting)"
   ]
  },
  {
   "cell_type": "code",
   "execution_count": 41,
   "metadata": {
    "collapsed": true
   },
   "outputs": [
    {
     "name": "stdout",
     "output_type": "stream",
     "text": [
      "Model Configuration (att, batch, lr, enc_hid, dec_hid, ep, sp): 8+10+1+16+16+5+0.9\n",
      "Training RNN\n"
     ]
    },
    {
     "name": "stderr",
     "output_type": "stream",
     "text": [
      "/Library/Frameworks/Python.framework/Versions/3.8/lib/python3.8/site-packages/torch/nn/_reduction.py:43: UserWarning: size_average and reduce args will be deprecated, please use reduction='sum' instead.\n",
      "  warnings.warn(warning.format(ret))\n"
     ]
    },
    {
     "name": "stdout",
     "output_type": "stream",
     "text": [
      "epoch    1 | train_loss=  5.71, dev_loss=  5.03 with  80.54% WER (  9.36s elapsed)\n"
     ]
    },
    {
     "name": "stderr",
     "output_type": "stream",
     "text": [
      "/Library/Frameworks/Python.framework/Versions/3.8/lib/python3.8/site-packages/torch/serialization.py:401: UserWarning: Couldn't retrieve source code for container of type Attention. It won't be checked for correctness upon loading.\n",
      "  warnings.warn(\"Couldn't retrieve source code for container of \"\n"
     ]
    },
    {
     "name": "stdout",
     "output_type": "stream",
     "text": [
      "epoch    2 | train_loss=  4.08, dev_loss=  3.81 with  71.07% WER (  9.73s elapsed)\n",
      "epoch    3 | train_loss=  3.50, dev_loss=  3.24 with  61.61% WER (  9.67s elapsed)\n",
      "epoch    4 | train_loss=  3.10, dev_loss=  3.06 with  60.00% WER (  9.84s elapsed)\n",
      "epoch    5 | train_loss=  2.96, dev_loss=  3.09 with  58.93% WER (  9.13s elapsed)\n"
     ]
    },
    {
     "data": {
      "image/png": "[encoded data removed]",
      "text/plain": [
       "<Figure size 432x288 with 2 Axes>"
      ]
     },
     "metadata": {
      "needs_background": "light"
     },
     "output_type": "display_data"
    }
   ],
   "source": [
    "best, plotting = tune({})\n",
    "plot_wer_loss(best, plotting)"
   ]
  },
  {
   "cell_type": "markdown",
   "metadata": {},
   "source": [
    "## (e) ii. Sampling Prob"
   ]
  },
  {
   "cell_type": "code",
   "execution_count": 15,
   "metadata": {
    "scrolled": false
   },
   "outputs": [],
   "source": [
    "def experiment(param_name, param_range):\n",
    "    data = {'WER': [], 'dev_loss': [], 'train_loss': []}\n",
    "    for param in param_range:\n",
    "        hp = {param_name: param}\n",
    "        _, plotting = tune(hp)\n",
    "        # record best WER/loss\n",
    "        idx = np.argmin(plotting['WER'])\n",
    "        for k in data:\n",
    "            data[k].append(plotting[k][idx])\n",
    "    #     plot_wer_loss(best, plotting)\n",
    "    plot_wer_loss(param_name, data, xlabel=param_name, xticks=param_range)"
   ]
  },
  {
   "cell_type": "code",
   "execution_count": 14,
   "metadata": {},
   "outputs": [
    {
     "name": "stdout",
     "output_type": "stream",
     "text": [
      "Model Configuration (att, batch, lr, enc_hid, dec_hid, ep, sp): None+10+1+16+16+2+0.3\n",
      "Training RNN\n",
      "epoch    1 | train_loss=  5.08, dev_loss=  4.34 with  81.96% WER ( 11.86s elapsed)\n",
      "epoch    2 | train_loss=  3.86, dev_loss=  3.41 with  72.14% WER (  8.53s elapsed)\n",
      "Model Configuration (att, batch, lr, enc_hid, dec_hid, ep, sp): None+10+1+16+16+2+0.4\n",
      "Training RNN\n",
      "epoch    1 | train_loss=  5.15, dev_loss=  4.25 with  76.79% WER (  9.74s elapsed)\n",
      "epoch    2 | train_loss=  3.88, dev_loss=  3.39 with  65.00% WER (  9.62s elapsed)\n"
     ]
    },
    {
     "data": {
      "image/png": "[encoded data removed]",
      "text/plain": [
       "<Figure size 432x288 with 2 Axes>"
      ]
     },
     "metadata": {
      "needs_background": "light"
     },
     "output_type": "display_data"
    }
   ],
   "source": [
    "experiment('sample_prob', np.arange(0.1, 1, 0.2)) # 5 levels"
   ]
  },
  {
   "cell_type": "markdown",
   "metadata": {},
   "source": [
    "## (e) iii. Batch Size"
   ]
  },
  {
   "cell_type": "code",
   "execution_count": 8,
   "metadata": {},
   "outputs": [
    {
     "name": "stdout",
     "output_type": "stream",
     "text": [
      "Model Configuration (att, batch, lr, enc_hid, dec_hid, ep, sp): None+10+1+16+16+3+0.9\n",
      "Training RNN\n"
     ]
    },
    {
     "name": "stderr",
     "output_type": "stream",
     "text": [
      "/Library/Frameworks/Python.framework/Versions/3.8/lib/python3.8/site-packages/torch/nn/_reduction.py:43: UserWarning: size_average and reduce args will be deprecated, please use reduction='sum' instead.\n",
      "  warnings.warn(warning.format(ret))\n"
     ]
    },
    {
     "name": "stdout",
     "output_type": "stream",
     "text": [
      "epoch    1 | train_loss=  5.46, dev_loss=  4.39 with  73.39% WER (  9.76s elapsed)\n"
     ]
    },
    {
     "name": "stderr",
     "output_type": "stream",
     "text": [
      "/Library/Frameworks/Python.framework/Versions/3.8/lib/python3.8/site-packages/torch/serialization.py:401: UserWarning: Couldn't retrieve source code for container of type Attention. It won't be checked for correctness upon loading.\n",
      "  warnings.warn(\"Couldn't retrieve source code for container of \"\n"
     ]
    },
    {
     "name": "stdout",
     "output_type": "stream",
     "text": [
      "epoch    2 | train_loss=  3.89, dev_loss=  3.84 with  72.68% WER (  8.26s elapsed)\n",
      "epoch    3 | train_loss=  3.43, dev_loss=  2.97 with  52.14% WER (  8.34s elapsed)\n",
      "Model Configuration (att, batch, lr, enc_hid, dec_hid, ep, sp): None+100+1+16+16+3+0.9\n",
      "Training RNN\n",
      "epoch    1 | train_loss=  6.57, dev_loss=  6.55 with 100.00% WER (  1.68s elapsed)\n",
      "epoch    2 | train_loss=  6.11, dev_loss=  6.12 with  92.25% WER (  1.55s elapsed)\n",
      "epoch    3 | train_loss=  5.29, dev_loss=  5.63 with  88.00% WER (  1.56s elapsed)\n",
      "Model Configuration (att, batch, lr, enc_hid, dec_hid, ep, sp): None+200+1+16+16+3+0.9\n",
      "Training RNN\n",
      "epoch    1 | train_loss=  6.93, dev_loss=  6.51 with 100.00% WER (  1.25s elapsed)\n",
      "epoch    2 | train_loss=  6.40, dev_loss=  6.38 with 100.00% WER (  1.39s elapsed)\n",
      "epoch    3 | train_loss=  6.00, dev_loss=  6.18 with 100.00% WER (  1.31s elapsed)\n",
      "Model Configuration (att, batch, lr, enc_hid, dec_hid, ep, sp): None+500+1+16+16+3+0.9\n",
      "Training RNN\n"
     ]
    },
    {
     "name": "stderr",
     "output_type": "stream",
     "text": [
      "/Library/Frameworks/Python.framework/Versions/3.8/lib/python3.8/site-packages/numpy/core/fromnumeric.py:3334: RuntimeWarning: Mean of empty slice.\n",
      "  return _methods._mean(a, axis=axis, dtype=dtype,\n",
      "/Library/Frameworks/Python.framework/Versions/3.8/lib/python3.8/site-packages/numpy/core/_methods.py:161: RuntimeWarning: invalid value encountered in double_scalars\n",
      "  ret = ret.dtype.type(ret / rcount)\n"
     ]
    },
    {
     "ename": "ZeroDivisionError",
     "evalue": "float division by zero",
     "output_type": "error",
     "traceback": [
      "\u001b[0;31m---------------------------------------------------------------------------\u001b[0m",
      "\u001b[0;31mZeroDivisionError\u001b[0m                         Traceback (most recent call last)",
      "\u001b[0;32m<ipython-input-8-72c19a1159d9>\u001b[0m in \u001b[0;36m<module>\u001b[0;34m\u001b[0m\n\u001b[1;32m      3\u001b[0m \u001b[0;32mfor\u001b[0m \u001b[0mb\u001b[0m \u001b[0;32min\u001b[0m \u001b[0mbs\u001b[0m\u001b[0;34m:\u001b[0m\u001b[0;34m\u001b[0m\u001b[0;34m\u001b[0m\u001b[0m\n\u001b[1;32m      4\u001b[0m     \u001b[0mhp\u001b[0m \u001b[0;34m=\u001b[0m \u001b[0;34m{\u001b[0m\u001b[0;34m'batch_size'\u001b[0m\u001b[0;34m:\u001b[0m \u001b[0mb\u001b[0m\u001b[0;34m,\u001b[0m \u001b[0;34m'max_epochs'\u001b[0m\u001b[0;34m:\u001b[0m \u001b[0;36m3\u001b[0m\u001b[0;34m}\u001b[0m\u001b[0;34m\u001b[0m\u001b[0;34m\u001b[0m\u001b[0m\n\u001b[0;32m----> 5\u001b[0;31m     \u001b[0mbest\u001b[0m\u001b[0;34m,\u001b[0m \u001b[0mplotting\u001b[0m \u001b[0;34m=\u001b[0m \u001b[0mtune\u001b[0m\u001b[0;34m(\u001b[0m\u001b[0mhp\u001b[0m\u001b[0;34m)\u001b[0m\u001b[0;34m\u001b[0m\u001b[0;34m\u001b[0m\u001b[0m\n\u001b[0m\u001b[1;32m      6\u001b[0m     \u001b[0;31m# record best WER/loss\u001b[0m\u001b[0;34m\u001b[0m\u001b[0;34m\u001b[0m\u001b[0;34m\u001b[0m\u001b[0m\n\u001b[1;32m      7\u001b[0m     \u001b[0midx\u001b[0m \u001b[0;34m=\u001b[0m \u001b[0mnp\u001b[0m\u001b[0;34m.\u001b[0m\u001b[0margmin\u001b[0m\u001b[0;34m(\u001b[0m\u001b[0mplotting\u001b[0m\u001b[0;34m[\u001b[0m\u001b[0;34m'WER'\u001b[0m\u001b[0;34m]\u001b[0m\u001b[0;34m)\u001b[0m\u001b[0;34m\u001b[0m\u001b[0;34m\u001b[0m\u001b[0m\n",
      "\u001b[0;32m<ipython-input-6-57025f65aa64>\u001b[0m in \u001b[0;36mtune\u001b[0;34m(hyperparams)\u001b[0m\n\u001b[1;32m     51\u001b[0m \u001b[0;34m\u001b[0m\u001b[0m\n\u001b[1;32m     52\u001b[0m         \u001b[0mtrain_loss\u001b[0m \u001b[0;34m=\u001b[0m \u001b[0mtrain\u001b[0m\u001b[0;34m(\u001b[0m\u001b[0mmodel\u001b[0m\u001b[0;34m,\u001b[0m \u001b[0moptimizer\u001b[0m\u001b[0;34m,\u001b[0m \u001b[0mtrain_ldr\u001b[0m\u001b[0;34m)\u001b[0m\u001b[0;34m\u001b[0m\u001b[0;34m\u001b[0m\u001b[0m\n\u001b[0;32m---> 53\u001b[0;31m         \u001b[0mdev_loss\u001b[0m\u001b[0;34m,\u001b[0m \u001b[0mdev_wer\u001b[0m \u001b[0;34m=\u001b[0m \u001b[0mevaluate\u001b[0m\u001b[0;34m(\u001b[0m\u001b[0mmodel\u001b[0m\u001b[0;34m,\u001b[0m \u001b[0mdev_ldr\u001b[0m\u001b[0;34m,\u001b[0m \u001b[0mpreproc\u001b[0m\u001b[0;34m)\u001b[0m\u001b[0;34m\u001b[0m\u001b[0;34m\u001b[0m\u001b[0m\n\u001b[0m\u001b[1;32m     54\u001b[0m \u001b[0;34m\u001b[0m\u001b[0m\n\u001b[1;32m     55\u001b[0m         \u001b[0mplotting\u001b[0m\u001b[0;34m[\u001b[0m\u001b[0;34m'WER'\u001b[0m\u001b[0;34m]\u001b[0m\u001b[0;34m.\u001b[0m\u001b[0mappend\u001b[0m\u001b[0;34m(\u001b[0m\u001b[0mdev_wer\u001b[0m\u001b[0;34m)\u001b[0m\u001b[0;34m\u001b[0m\u001b[0;34m\u001b[0m\u001b[0m\n",
      "\u001b[0;32m<ipython-input-5-b6316511bd77>\u001b[0m in \u001b[0;36mevaluate\u001b[0;34m(model, ldr, preproc)\u001b[0m\n\u001b[1;32m     63\u001b[0m     \u001b[0mresults\u001b[0m \u001b[0;34m=\u001b[0m \u001b[0;34m[\u001b[0m\u001b[0;34m(\u001b[0m\u001b[0mpreproc\u001b[0m\u001b[0;34m.\u001b[0m\u001b[0mdecode\u001b[0m\u001b[0;34m(\u001b[0m\u001b[0mr\u001b[0m\u001b[0;34m)\u001b[0m\u001b[0;34m,\u001b[0m \u001b[0mpreproc\u001b[0m\u001b[0;34m.\u001b[0m\u001b[0mdecode\u001b[0m\u001b[0;34m(\u001b[0m\u001b[0mh\u001b[0m\u001b[0;34m)\u001b[0m\u001b[0;34m)\u001b[0m \u001b[0;32mfor\u001b[0m \u001b[0mr\u001b[0m\u001b[0;34m,\u001b[0m \u001b[0mh\u001b[0m \u001b[0;32min\u001b[0m \u001b[0mzip\u001b[0m\u001b[0;34m(\u001b[0m\u001b[0mrefs\u001b[0m\u001b[0;34m,\u001b[0m \u001b[0mhyps\u001b[0m\u001b[0;34m)\u001b[0m\u001b[0;34m]\u001b[0m\u001b[0;34m\u001b[0m\u001b[0;34m\u001b[0m\u001b[0m\n\u001b[1;32m     64\u001b[0m \u001b[0;34m\u001b[0m\u001b[0m\n\u001b[0;32m---> 65\u001b[0;31m     \u001b[0;32mreturn\u001b[0m \u001b[0mnp\u001b[0m\u001b[0;34m.\u001b[0m\u001b[0mmean\u001b[0m\u001b[0;34m(\u001b[0m\u001b[0mlosses\u001b[0m\u001b[0;34m)\u001b[0m\u001b[0;34m,\u001b[0m \u001b[0mcompute_wer\u001b[0m\u001b[0;34m(\u001b[0m\u001b[0mresults\u001b[0m\u001b[0;34m)\u001b[0m\u001b[0;34m\u001b[0m\u001b[0;34m\u001b[0m\u001b[0m\n\u001b[0m",
      "\u001b[0;32m<ipython-input-5-b6316511bd77>\u001b[0m in \u001b[0;36mcompute_wer\u001b[0;34m(results)\u001b[0m\n\u001b[1;32m      7\u001b[0m         \u001b[0mdist\u001b[0m \u001b[0;34m+=\u001b[0m \u001b[0meditdistance\u001b[0m\u001b[0;34m.\u001b[0m\u001b[0meval\u001b[0m\u001b[0;34m(\u001b[0m\u001b[0mlabel\u001b[0m\u001b[0;34m,\u001b[0m \u001b[0mpred\u001b[0m\u001b[0;34m)\u001b[0m\u001b[0;34m\u001b[0m\u001b[0;34m\u001b[0m\u001b[0m\n\u001b[1;32m      8\u001b[0m     \u001b[0mtotal\u001b[0m \u001b[0;34m=\u001b[0m \u001b[0msum\u001b[0m\u001b[0;34m(\u001b[0m\u001b[0mlen\u001b[0m\u001b[0;34m(\u001b[0m\u001b[0mlabel\u001b[0m\u001b[0;34m)\u001b[0m \u001b[0;32mfor\u001b[0m \u001b[0mlabel\u001b[0m\u001b[0;34m,\u001b[0m \u001b[0m_\u001b[0m \u001b[0;32min\u001b[0m \u001b[0mresults\u001b[0m\u001b[0;34m)\u001b[0m\u001b[0;34m\u001b[0m\u001b[0;34m\u001b[0m\u001b[0m\n\u001b[0;32m----> 9\u001b[0;31m     \u001b[0;32mreturn\u001b[0m \u001b[0mdist\u001b[0m \u001b[0;34m/\u001b[0m \u001b[0mtotal\u001b[0m\u001b[0;34m\u001b[0m\u001b[0;34m\u001b[0m\u001b[0m\n\u001b[0m\u001b[1;32m     10\u001b[0m \u001b[0;34m\u001b[0m\u001b[0m\n\u001b[1;32m     11\u001b[0m \u001b[0;32mdef\u001b[0m \u001b[0mtrain\u001b[0m\u001b[0;34m(\u001b[0m\u001b[0mmodel\u001b[0m\u001b[0;34m,\u001b[0m \u001b[0moptimizer\u001b[0m\u001b[0;34m,\u001b[0m \u001b[0mldr\u001b[0m\u001b[0;34m)\u001b[0m\u001b[0;34m:\u001b[0m\u001b[0;34m\u001b[0m\u001b[0;34m\u001b[0m\u001b[0m\n",
      "\u001b[0;31mZeroDivisionError\u001b[0m: float division by zero"
     ]
    }
   ],
   "source": [
    "experiment('enc_hidden_size', range(8, 33, 8))"
   ]
  },
  {
   "cell_type": "code",
   "execution_count": 40,
   "metadata": {
    "collapsed": true
   },
   "outputs": [
    {
     "name": "stdout",
     "output_type": "stream",
     "text": [
      "Model Configuration (att, batch, lr, enc_hid, dec_hid, ep): 4+10+0.5+16+16+1\n",
      "Model Configuration (att, batch, lr, enc_hid, dec_hid, ep): 4+10+0.5+16+32+1\n",
      "Model Configuration (att, batch, lr, enc_hid, dec_hid, ep): 4+10+0.5+32+16+1\n",
      "Model Configuration (att, batch, lr, enc_hid, dec_hid, ep): 4+10+0.5+32+32+1\n",
      "Model Configuration (att, batch, lr, enc_hid, dec_hid, ep): 4+10+1+16+16+1\n",
      "Model Configuration (att, batch, lr, enc_hid, dec_hid, ep): 4+10+1+16+32+1\n",
      "Model Configuration (att, batch, lr, enc_hid, dec_hid, ep): 4+10+1+32+16+1\n",
      "Model Configuration (att, batch, lr, enc_hid, dec_hid, ep): 4+10+1+32+32+1\n",
      "Model Configuration (att, batch, lr, enc_hid, dec_hid, ep): 4+10+5+16+16+1\n",
      "Model Configuration (att, batch, lr, enc_hid, dec_hid, ep): 4+10+5+16+32+1\n",
      "Model Configuration (att, batch, lr, enc_hid, dec_hid, ep): 4+10+5+32+16+1\n",
      "Model Configuration (att, batch, lr, enc_hid, dec_hid, ep): 4+10+5+32+32+1\n",
      "Model Configuration (att, batch, lr, enc_hid, dec_hid, ep): 4+10+10+16+16+1\n",
      "Model Configuration (att, batch, lr, enc_hid, dec_hid, ep): 4+10+10+16+32+1\n",
      "Model Configuration (att, batch, lr, enc_hid, dec_hid, ep): 4+10+10+32+16+1\n",
      "Model Configuration (att, batch, lr, enc_hid, dec_hid, ep): 4+10+10+32+32+1\n",
      "Model Configuration (att, batch, lr, enc_hid, dec_hid, ep): 4+100+0.5+16+16+1\n",
      "Model Configuration (att, batch, lr, enc_hid, dec_hid, ep): 4+100+0.5+16+32+1\n",
      "Model Configuration (att, batch, lr, enc_hid, dec_hid, ep): 4+100+0.5+32+16+1\n",
      "Model Configuration (att, batch, lr, enc_hid, dec_hid, ep): 4+100+0.5+32+32+1\n",
      "Model Configuration (att, batch, lr, enc_hid, dec_hid, ep): 4+100+1+16+16+1\n",
      "Model Configuration (att, batch, lr, enc_hid, dec_hid, ep): 4+100+1+16+32+1\n",
      "Model Configuration (att, batch, lr, enc_hid, dec_hid, ep): 4+100+1+32+16+1\n",
      "Model Configuration (att, batch, lr, enc_hid, dec_hid, ep): 4+100+1+32+32+1\n",
      "Model Configuration (att, batch, lr, enc_hid, dec_hid, ep): 4+100+5+16+16+1\n",
      "Model Configuration (att, batch, lr, enc_hid, dec_hid, ep): 4+100+5+16+32+1\n",
      "Model Configuration (att, batch, lr, enc_hid, dec_hid, ep): 4+100+5+32+16+1\n",
      "Model Configuration (att, batch, lr, enc_hid, dec_hid, ep): 4+100+5+32+32+1\n",
      "Model Configuration (att, batch, lr, enc_hid, dec_hid, ep): 4+100+10+16+16+1\n",
      "Model Configuration (att, batch, lr, enc_hid, dec_hid, ep): 4+100+10+16+32+1\n",
      "Model Configuration (att, batch, lr, enc_hid, dec_hid, ep): 4+100+10+32+16+1\n",
      "Model Configuration (att, batch, lr, enc_hid, dec_hid, ep): 4+100+10+32+32+1\n",
      "Model Configuration (att, batch, lr, enc_hid, dec_hid, ep): 8+10+0.5+16+16+1\n",
      "Model Configuration (att, batch, lr, enc_hid, dec_hid, ep): 8+10+0.5+16+32+1\n",
      "Model Configuration (att, batch, lr, enc_hid, dec_hid, ep): 8+10+0.5+32+16+1\n",
      "Model Configuration (att, batch, lr, enc_hid, dec_hid, ep): 8+10+0.5+32+32+1\n",
      "Model Configuration (att, batch, lr, enc_hid, dec_hid, ep): 8+10+1+16+16+1\n",
      "Model Configuration (att, batch, lr, enc_hid, dec_hid, ep): 8+10+1+16+32+1\n",
      "Model Configuration (att, batch, lr, enc_hid, dec_hid, ep): 8+10+1+32+16+1\n",
      "Model Configuration (att, batch, lr, enc_hid, dec_hid, ep): 8+10+1+32+32+1\n",
      "Model Configuration (att, batch, lr, enc_hid, dec_hid, ep): 8+10+5+16+16+1\n",
      "Model Configuration (att, batch, lr, enc_hid, dec_hid, ep): 8+10+5+16+32+1\n",
      "Model Configuration (att, batch, lr, enc_hid, dec_hid, ep): 8+10+5+32+16+1\n",
      "Model Configuration (att, batch, lr, enc_hid, dec_hid, ep): 8+10+5+32+32+1\n",
      "Model Configuration (att, batch, lr, enc_hid, dec_hid, ep): 8+10+10+16+16+1\n",
      "Model Configuration (att, batch, lr, enc_hid, dec_hid, ep): 8+10+10+16+32+1\n",
      "Model Configuration (att, batch, lr, enc_hid, dec_hid, ep): 8+10+10+32+16+1\n",
      "Model Configuration (att, batch, lr, enc_hid, dec_hid, ep): 8+10+10+32+32+1\n",
      "Model Configuration (att, batch, lr, enc_hid, dec_hid, ep): 8+100+0.5+16+16+1\n",
      "Model Configuration (att, batch, lr, enc_hid, dec_hid, ep): 8+100+0.5+16+32+1\n",
      "Model Configuration (att, batch, lr, enc_hid, dec_hid, ep): 8+100+0.5+32+16+1\n",
      "Model Configuration (att, batch, lr, enc_hid, dec_hid, ep): 8+100+0.5+32+32+1\n",
      "Model Configuration (att, batch, lr, enc_hid, dec_hid, ep): 8+100+1+16+16+1\n",
      "Model Configuration (att, batch, lr, enc_hid, dec_hid, ep): 8+100+1+16+32+1\n",
      "Model Configuration (att, batch, lr, enc_hid, dec_hid, ep): 8+100+1+32+16+1\n",
      "Model Configuration (att, batch, lr, enc_hid, dec_hid, ep): 8+100+1+32+32+1\n",
      "Model Configuration (att, batch, lr, enc_hid, dec_hid, ep): 8+100+5+16+16+1\n",
      "Model Configuration (att, batch, lr, enc_hid, dec_hid, ep): 8+100+5+16+32+1\n",
      "Model Configuration (att, batch, lr, enc_hid, dec_hid, ep): 8+100+5+32+16+1\n",
      "Model Configuration (att, batch, lr, enc_hid, dec_hid, ep): 8+100+5+32+32+1\n",
      "Model Configuration (att, batch, lr, enc_hid, dec_hid, ep): 8+100+10+16+16+1\n",
      "Model Configuration (att, batch, lr, enc_hid, dec_hid, ep): 8+100+10+16+32+1\n",
      "Model Configuration (att, batch, lr, enc_hid, dec_hid, ep): 8+100+10+32+16+1\n",
      "Model Configuration (att, batch, lr, enc_hid, dec_hid, ep): 8+100+10+32+32+1\n"
     ]
    }
   ],
   "source": [
    "# naive grid search through different parameters\n",
    "# atts = [None, 4, 8]\n",
    "# bs = [10, 100]\n",
    "# lrs = [0.5, 1, 5, 10]\n",
    "# encs = [16, 32]\n",
    "# decs = [16, 32]\n",
    "# max_epochs = [20]\n",
    "# for params in product(atts, bs, lrs, encs, decs, max_epochs):\n",
    "#     hp = {}\n",
    "#     hp['attention_dim'] = params[0]\n",
    "#     hp['batch_size'] = params[1]\n",
    "#     hp['learning_rate'] = params[2]\n",
    "#     hp['enc_hidden_size'] = params[3]\n",
    "#     hp['dec_hidden_size'] = params[4]\n",
    "#     hp['max_epochs'] = params[5]\n",
    "#     tune(hp)"
   ]
  },
  {
   "cell_type": "code",
   "execution_count": 53,
   "metadata": {},
   "outputs": [],
   "source": [
    "def test(best):\n",
    "    print(\"Testing RNN\")\n",
    "    with open(\"rnn/config.json\", \"r\") as fid:                                                                                                                                                                                                                                      \n",
    "        config = json.load(fid)\n",
    "    data_cfg = config[\"data\"]\n",
    "    opt_cfg = config[\"optimizer\"]\n",
    "    test_model = torch.load(os.path.join(config[\"save_path\"], best))\n",
    "    preproc = Preprocessor(data_cfg[\"train_set\"], start_and_end=data_cfg[\"start_and_end\"])\n",
    "    test_ldr = make_loader(data_cfg[\"test_set\"], preproc, opt_cfg[\"batch_size\"])\n",
    "\n",
    "    _, test_wer = evaluate(test_model, test_ldr, preproc)\n",
    "\n",
    "    print(\"{:.2f}% WER (test)\".format(test_wer * 100.))"
   ]
  }
 ],
 "metadata": {
  "kernelspec": {
   "display_name": "Python 3",
   "language": "python",
   "name": "python3"
  },
  "language_info": {
   "codemirror_mode": {
    "name": "ipython",
    "version": 3
   },
   "file_extension": ".py",
   "mimetype": "text/x-python",
   "name": "python",
   "nbconvert_exporter": "python",
   "pygments_lexer": "ipython3",
   "version": "3.8.0"
  }
 },
 "nbformat": 4,
 "nbformat_minor": 2
}
